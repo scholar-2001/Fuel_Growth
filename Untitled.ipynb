{
 "cells": [
  {
   "cell_type": "code",
   "execution_count": 1,
   "id": "ba28d771-c949-4612-8fae-86cd90d7b02b",
   "metadata": {},
   "outputs": [
    {
     "name": "stderr",
     "output_type": "stream",
     "text": [
      "  0%|▎                                                                                 | 1/268 [00:00<04:20,  1.02it/s]"
     ]
    },
    {
     "name": "stdout",
     "output_type": "stream",
     "text": [
      "Downloaded: downloaded_videos\\hd-999607261342550.mp4\n"
     ]
    },
    {
     "name": "stderr",
     "output_type": "stream",
     "text": [
      "  1%|▌                                                                                 | 2/268 [00:01<03:46,  1.17it/s]"
     ]
    },
    {
     "name": "stdout",
     "output_type": "stream",
     "text": [
      "Downloaded: downloaded_videos\\hd-997580728807604.mp4\n"
     ]
    },
    {
     "name": "stderr",
     "output_type": "stream",
     "text": [
      "  1%|▉                                                                                 | 3/268 [00:02<04:00,  1.10it/s]"
     ]
    },
    {
     "name": "stdout",
     "output_type": "stream",
     "text": [
      "Downloaded: downloaded_videos\\hd-992418235673669.mp4\n"
     ]
    },
    {
     "name": "stderr",
     "output_type": "stream",
     "text": [
      "  1%|█▏                                                                                | 4/268 [00:03<04:05,  1.08it/s]"
     ]
    },
    {
     "name": "stdout",
     "output_type": "stream",
     "text": [
      "Downloaded: downloaded_videos\\hd-992064161877405.mp4\n"
     ]
    },
    {
     "name": "stderr",
     "output_type": "stream",
     "text": [
      "  2%|█▌                                                                                | 5/268 [00:04<04:04,  1.08it/s]"
     ]
    },
    {
     "name": "stdout",
     "output_type": "stream",
     "text": [
      "Downloaded: downloaded_videos\\hd-991636695150147.mp4\n"
     ]
    },
    {
     "name": "stderr",
     "output_type": "stream",
     "text": [
      "  2%|█▊                                                                                | 6/268 [00:05<04:19,  1.01it/s]"
     ]
    },
    {
     "name": "stdout",
     "output_type": "stream",
     "text": [
      "Downloaded: downloaded_videos\\hd-989969399547901.mp4\n"
     ]
    },
    {
     "name": "stderr",
     "output_type": "stream",
     "text": [
      "  3%|██▏                                                                               | 7/268 [00:06<04:29,  1.03s/it]"
     ]
    },
    {
     "name": "stdout",
     "output_type": "stream",
     "text": [
      "Downloaded: downloaded_videos\\hd-989930303148492.mp4\n"
     ]
    },
    {
     "name": "stderr",
     "output_type": "stream",
     "text": [
      "  3%|██▍                                                                               | 8/268 [00:07<04:28,  1.03s/it]"
     ]
    },
    {
     "name": "stdout",
     "output_type": "stream",
     "text": [
      "Downloaded: downloaded_videos\\hd-989654009083459.mp4\n"
     ]
    },
    {
     "name": "stderr",
     "output_type": "stream",
     "text": [
      "  3%|██▊                                                                               | 9/268 [00:08<04:21,  1.01s/it]"
     ]
    },
    {
     "name": "stdout",
     "output_type": "stream",
     "text": [
      "Downloaded: downloaded_videos\\hd-989600295478567.mp4\n"
     ]
    },
    {
     "name": "stderr",
     "output_type": "stream",
     "text": [
      "  4%|███                                                                              | 10/268 [00:09<04:20,  1.01s/it]"
     ]
    },
    {
     "name": "stdout",
     "output_type": "stream",
     "text": [
      "Downloaded: downloaded_videos\\hd-989284361966196.mp4\n"
     ]
    },
    {
     "name": "stderr",
     "output_type": "stream",
     "text": [
      "  4%|███▎                                                                             | 11/268 [00:10<04:16,  1.00it/s]"
     ]
    },
    {
     "name": "stdout",
     "output_type": "stream",
     "text": [
      "Downloaded: downloaded_videos\\hd-988185795921355.mp4\n"
     ]
    },
    {
     "name": "stderr",
     "output_type": "stream",
     "text": [
      "  4%|███▋                                                                             | 12/268 [00:12<04:31,  1.06s/it]"
     ]
    },
    {
     "name": "stdout",
     "output_type": "stream",
     "text": [
      "Downloaded: downloaded_videos\\hd-987643572956494.mp4\n"
     ]
    },
    {
     "name": "stderr",
     "output_type": "stream",
     "text": [
      "  5%|███▉                                                                             | 13/268 [00:13<04:26,  1.05s/it]"
     ]
    },
    {
     "name": "stdout",
     "output_type": "stream",
     "text": [
      "Downloaded: downloaded_videos\\hd-987287402378278.mp4\n"
     ]
    },
    {
     "name": "stderr",
     "output_type": "stream",
     "text": [
      "  5%|████▏                                                                            | 14/268 [00:13<04:18,  1.02s/it]"
     ]
    },
    {
     "name": "stdout",
     "output_type": "stream",
     "text": [
      "Downloaded: downloaded_videos\\hd-987232088920289.mp4\n"
     ]
    },
    {
     "name": "stderr",
     "output_type": "stream",
     "text": [
      "  6%|████▌                                                                            | 15/268 [00:14<04:11,  1.01it/s]"
     ]
    },
    {
     "name": "stdout",
     "output_type": "stream",
     "text": [
      "Downloaded: downloaded_videos\\hd-986360206629277.mp4\n"
     ]
    },
    {
     "name": "stderr",
     "output_type": "stream",
     "text": [
      "  6%|████▊                                                                            | 16/268 [00:16<04:18,  1.03s/it]"
     ]
    },
    {
     "name": "stdout",
     "output_type": "stream",
     "text": [
      "Downloaded: downloaded_videos\\hd-983335896508749.mp4\n"
     ]
    },
    {
     "name": "stderr",
     "output_type": "stream",
     "text": [
      "  6%|█████▏                                                                           | 17/268 [00:16<04:12,  1.01s/it]"
     ]
    },
    {
     "name": "stdout",
     "output_type": "stream",
     "text": [
      "Downloaded: downloaded_videos\\hd-978448136455993.mp4\n"
     ]
    },
    {
     "name": "stderr",
     "output_type": "stream",
     "text": [
      "  7%|█████▍                                                                           | 18/268 [00:17<04:10,  1.00s/it]"
     ]
    },
    {
     "name": "stdout",
     "output_type": "stream",
     "text": [
      "Downloaded: downloaded_videos\\hd-977008307250628.mp4\n"
     ]
    },
    {
     "name": "stderr",
     "output_type": "stream",
     "text": [
      "  7%|█████▋                                                                           | 19/268 [00:19<04:14,  1.02s/it]"
     ]
    },
    {
     "name": "stdout",
     "output_type": "stream",
     "text": [
      "Downloaded: downloaded_videos\\hd-975523146942238.mp4\n"
     ]
    },
    {
     "name": "stderr",
     "output_type": "stream",
     "text": [
      "  7%|██████                                                                           | 20/268 [00:20<04:15,  1.03s/it]"
     ]
    },
    {
     "name": "stdout",
     "output_type": "stream",
     "text": [
      "Downloaded: downloaded_videos\\hd-967731231014052.mp4\n"
     ]
    },
    {
     "name": "stderr",
     "output_type": "stream",
     "text": [
      "  8%|██████▎                                                                          | 21/268 [00:21<04:11,  1.02s/it]"
     ]
    },
    {
     "name": "stdout",
     "output_type": "stream",
     "text": [
      "Downloaded: downloaded_videos\\hd-966715248087290.mp4\n"
     ]
    },
    {
     "name": "stderr",
     "output_type": "stream",
     "text": [
      "  8%|██████▋                                                                          | 22/268 [00:22<04:05,  1.00it/s]"
     ]
    },
    {
     "name": "stdout",
     "output_type": "stream",
     "text": [
      "Downloaded: downloaded_videos\\hd-966458824582483.mp4\n"
     ]
    },
    {
     "name": "stderr",
     "output_type": "stream",
     "text": [
      "  9%|██████▉                                                                          | 23/268 [00:23<04:05,  1.00s/it]"
     ]
    },
    {
     "name": "stdout",
     "output_type": "stream",
     "text": [
      "Downloaded: downloaded_videos\\hd-966019214364727.mp4\n"
     ]
    },
    {
     "name": "stderr",
     "output_type": "stream",
     "text": [
      "  9%|███████▎                                                                         | 24/268 [00:24<04:13,  1.04s/it]"
     ]
    },
    {
     "name": "stdout",
     "output_type": "stream",
     "text": [
      "Downloaded: downloaded_videos\\hd-965108935263649.mp4\n"
     ]
    },
    {
     "name": "stderr",
     "output_type": "stream",
     "text": [
      "  9%|███████▌                                                                         | 25/268 [00:24<03:53,  1.04it/s]"
     ]
    },
    {
     "name": "stdout",
     "output_type": "stream",
     "text": [
      "Downloaded: downloaded_videos\\hd-964733417506862.mp4\n"
     ]
    },
    {
     "name": "stderr",
     "output_type": "stream",
     "text": [
      " 10%|███████▊                                                                         | 26/268 [00:26<04:10,  1.04s/it]"
     ]
    },
    {
     "name": "stdout",
     "output_type": "stream",
     "text": [
      "Downloaded: downloaded_videos\\hd-963303392509872.mp4\n"
     ]
    },
    {
     "name": "stderr",
     "output_type": "stream",
     "text": [
      " 10%|████████▏                                                                        | 27/268 [00:26<03:50,  1.05it/s]"
     ]
    },
    {
     "name": "stdout",
     "output_type": "stream",
     "text": [
      "Downloaded: downloaded_videos\\hd-960884234555681.mp4\n"
     ]
    },
    {
     "name": "stderr",
     "output_type": "stream",
     "text": [
      " 10%|████████▍                                                                        | 28/268 [00:27<03:49,  1.05it/s]"
     ]
    },
    {
     "name": "stdout",
     "output_type": "stream",
     "text": [
      "Downloaded: downloaded_videos\\hd-958774641659407.mp4\n"
     ]
    },
    {
     "name": "stderr",
     "output_type": "stream",
     "text": [
      " 11%|████████▊                                                                        | 29/268 [00:28<03:48,  1.05it/s]"
     ]
    },
    {
     "name": "stdout",
     "output_type": "stream",
     "text": [
      "Downloaded: downloaded_videos\\hd-958675741960412.mp4\n"
     ]
    },
    {
     "name": "stderr",
     "output_type": "stream",
     "text": [
      " 11%|█████████                                                                        | 30/268 [00:29<03:47,  1.04it/s]"
     ]
    },
    {
     "name": "stdout",
     "output_type": "stream",
     "text": [
      "Downloaded: downloaded_videos\\hd-958267042213267.mp4\n"
     ]
    },
    {
     "name": "stderr",
     "output_type": "stream",
     "text": [
      " 12%|█████████▎                                                                       | 31/268 [00:31<04:14,  1.07s/it]"
     ]
    },
    {
     "name": "stdout",
     "output_type": "stream",
     "text": [
      "Downloaded: downloaded_videos\\hd-954832972830686.mp4\n"
     ]
    },
    {
     "name": "stderr",
     "output_type": "stream",
     "text": [
      " 12%|█████████▋                                                                       | 32/268 [00:32<04:30,  1.15s/it]"
     ]
    },
    {
     "name": "stdout",
     "output_type": "stream",
     "text": [
      "Downloaded: downloaded_videos\\hd-954440782897187.mp4\n"
     ]
    },
    {
     "name": "stderr",
     "output_type": "stream",
     "text": [
      " 12%|█████████▉                                                                       | 33/268 [00:33<04:07,  1.06s/it]"
     ]
    },
    {
     "name": "stdout",
     "output_type": "stream",
     "text": [
      "Downloaded: downloaded_videos\\hd-951885082053340.mp4\n"
     ]
    },
    {
     "name": "stderr",
     "output_type": "stream",
     "text": [
      " 13%|██████████▎                                                                      | 34/268 [00:34<04:04,  1.04s/it]"
     ]
    },
    {
     "name": "stdout",
     "output_type": "stream",
     "text": [
      "Downloaded: downloaded_videos\\hd-951491629353387.mp4\n"
     ]
    },
    {
     "name": "stderr",
     "output_type": "stream",
     "text": [
      " 13%|██████████▌                                                                      | 35/268 [00:35<03:56,  1.02s/it]"
     ]
    },
    {
     "name": "stdout",
     "output_type": "stream",
     "text": [
      "Downloaded: downloaded_videos\\hd-946181943065342.mp4\n"
     ]
    },
    {
     "name": "stderr",
     "output_type": "stream",
     "text": [
      " 13%|██████████▉                                                                      | 36/268 [00:36<03:44,  1.03it/s]"
     ]
    },
    {
     "name": "stdout",
     "output_type": "stream",
     "text": [
      "Downloaded: downloaded_videos\\hd-944981830978756.mp4\n"
     ]
    },
    {
     "name": "stderr",
     "output_type": "stream",
     "text": [
      " 14%|███████████▏                                                                     | 37/268 [00:37<03:41,  1.04it/s]"
     ]
    },
    {
     "name": "stdout",
     "output_type": "stream",
     "text": [
      "Downloaded: downloaded_videos\\hd-944755280756437.mp4\n"
     ]
    },
    {
     "name": "stderr",
     "output_type": "stream",
     "text": [
      " 14%|███████████▍                                                                     | 38/268 [00:38<03:40,  1.04it/s]"
     ]
    },
    {
     "name": "stdout",
     "output_type": "stream",
     "text": [
      "Downloaded: downloaded_videos\\hd-944160410298140.mp4\n"
     ]
    },
    {
     "name": "stderr",
     "output_type": "stream",
     "text": [
      " 15%|███████████▊                                                                     | 39/268 [00:39<04:16,  1.12s/it]"
     ]
    },
    {
     "name": "stdout",
     "output_type": "stream",
     "text": [
      "Downloaded: downloaded_videos\\hd-942779243913664.mp4\n"
     ]
    },
    {
     "name": "stderr",
     "output_type": "stream",
     "text": [
      " 15%|████████████                                                                     | 40/268 [00:40<04:03,  1.07s/it]"
     ]
    },
    {
     "name": "stdout",
     "output_type": "stream",
     "text": [
      "Downloaded: downloaded_videos\\hd-942524046763053.mp4\n"
     ]
    },
    {
     "name": "stderr",
     "output_type": "stream",
     "text": [
      " 15%|████████████▍                                                                    | 41/268 [00:41<03:54,  1.03s/it]"
     ]
    },
    {
     "name": "stdout",
     "output_type": "stream",
     "text": [
      "Downloaded: downloaded_videos\\hd-940634710428411.mp4\n"
     ]
    },
    {
     "name": "stderr",
     "output_type": "stream",
     "text": [
      " 16%|████████████▋                                                                    | 42/268 [00:42<03:52,  1.03s/it]"
     ]
    },
    {
     "name": "stdout",
     "output_type": "stream",
     "text": [
      "Downloaded: downloaded_videos\\hd-939795907980426.mp4\n"
     ]
    },
    {
     "name": "stderr",
     "output_type": "stream",
     "text": [
      " 16%|████████████▉                                                                    | 43/268 [00:43<03:48,  1.02s/it]"
     ]
    },
    {
     "name": "stdout",
     "output_type": "stream",
     "text": [
      "Downloaded: downloaded_videos\\hd-938232524809973.mp4\n"
     ]
    },
    {
     "name": "stderr",
     "output_type": "stream",
     "text": [
      " 16%|█████████████▎                                                                   | 44/268 [00:44<03:47,  1.01s/it]"
     ]
    },
    {
     "name": "stdout",
     "output_type": "stream",
     "text": [
      "Downloaded: downloaded_videos\\hd-937508703912579.mp4\n"
     ]
    },
    {
     "name": "stderr",
     "output_type": "stream",
     "text": [
      " 17%|█████████████▌                                                                   | 45/268 [00:45<03:42,  1.00it/s]"
     ]
    },
    {
     "name": "stdout",
     "output_type": "stream",
     "text": [
      "Downloaded: downloaded_videos\\hd-937410954343974.mp4\n"
     ]
    },
    {
     "name": "stderr",
     "output_type": "stream",
     "text": [
      " 17%|█████████████▉                                                                   | 46/268 [00:46<03:37,  1.02it/s]"
     ]
    },
    {
     "name": "stdout",
     "output_type": "stream",
     "text": [
      "Downloaded: downloaded_videos\\hd-935558767885747.mp4\n"
     ]
    },
    {
     "name": "stderr",
     "output_type": "stream",
     "text": [
      " 18%|██████████████▏                                                                  | 47/268 [00:47<03:39,  1.01it/s]"
     ]
    },
    {
     "name": "stdout",
     "output_type": "stream",
     "text": [
      "Downloaded: downloaded_videos\\hd-935530867630269.mp4\n"
     ]
    },
    {
     "name": "stderr",
     "output_type": "stream",
     "text": [
      " 18%|██████████████▌                                                                  | 48/268 [00:48<03:40,  1.00s/it]"
     ]
    },
    {
     "name": "stdout",
     "output_type": "stream",
     "text": [
      "Downloaded: downloaded_videos\\hd-935168780798574.mp4\n"
     ]
    },
    {
     "name": "stderr",
     "output_type": "stream",
     "text": [
      " 18%|██████████████▊                                                                  | 49/268 [00:49<03:40,  1.01s/it]"
     ]
    },
    {
     "name": "stdout",
     "output_type": "stream",
     "text": [
      "Downloaded: downloaded_videos\\hd-933913194646448.mp4\n"
     ]
    },
    {
     "name": "stderr",
     "output_type": "stream",
     "text": [
      " 19%|███████████████                                                                  | 50/268 [00:50<03:41,  1.01s/it]"
     ]
    },
    {
     "name": "stdout",
     "output_type": "stream",
     "text": [
      "Downloaded: downloaded_videos\\hd-933773150951550.mp4\n"
     ]
    },
    {
     "name": "stderr",
     "output_type": "stream",
     "text": [
      " 19%|███████████████▍                                                                 | 51/268 [00:51<03:43,  1.03s/it]"
     ]
    },
    {
     "name": "stdout",
     "output_type": "stream",
     "text": [
      "Downloaded: downloaded_videos\\hd-932703258597949.mp4\n"
     ]
    },
    {
     "name": "stderr",
     "output_type": "stream",
     "text": [
      " 19%|███████████████▋                                                                 | 52/268 [00:52<03:43,  1.04s/it]"
     ]
    },
    {
     "name": "stdout",
     "output_type": "stream",
     "text": [
      "Downloaded: downloaded_videos\\hd-932296771464171.mp4\n"
     ]
    },
    {
     "name": "stderr",
     "output_type": "stream",
     "text": [
      " 20%|████████████████                                                                 | 53/268 [00:53<03:41,  1.03s/it]"
     ]
    },
    {
     "name": "stdout",
     "output_type": "stream",
     "text": [
      "Downloaded: downloaded_videos\\hd-932085787962122.mp4\n"
     ]
    },
    {
     "name": "stderr",
     "output_type": "stream",
     "text": [
      " 20%|████████████████▎                                                                | 54/268 [00:54<03:36,  1.01s/it]"
     ]
    },
    {
     "name": "stdout",
     "output_type": "stream",
     "text": [
      "Downloaded: downloaded_videos\\hd-932038864470963.mp4\n"
     ]
    },
    {
     "name": "stderr",
     "output_type": "stream",
     "text": [
      " 21%|████████████████▌                                                                | 55/268 [00:55<03:36,  1.02s/it]"
     ]
    },
    {
     "name": "stdout",
     "output_type": "stream",
     "text": [
      "Downloaded: downloaded_videos\\hd-930116227971248.mp4\n"
     ]
    },
    {
     "name": "stderr",
     "output_type": "stream",
     "text": [
      " 21%|████████████████▉                                                                | 56/268 [00:56<03:32,  1.00s/it]"
     ]
    },
    {
     "name": "stdout",
     "output_type": "stream",
     "text": [
      "Downloaded: downloaded_videos\\hd-929830031529018.mp4\n"
     ]
    },
    {
     "name": "stderr",
     "output_type": "stream",
     "text": [
      " 21%|█████████████████▏                                                               | 57/268 [00:57<03:38,  1.03s/it]"
     ]
    },
    {
     "name": "stdout",
     "output_type": "stream",
     "text": [
      "Downloaded: downloaded_videos\\hd-929511878466995.mp4\n"
     ]
    },
    {
     "name": "stderr",
     "output_type": "stream",
     "text": [
      " 22%|█████████████████▌                                                               | 58/268 [00:58<03:29,  1.00it/s]"
     ]
    },
    {
     "name": "stdout",
     "output_type": "stream",
     "text": [
      "Downloaded: downloaded_videos\\hd-929300948587514.mp4\n"
     ]
    },
    {
     "name": "stderr",
     "output_type": "stream",
     "text": [
      " 22%|█████████████████▊                                                               | 59/268 [00:59<03:30,  1.01s/it]"
     ]
    },
    {
     "name": "stdout",
     "output_type": "stream",
     "text": [
      "Downloaded: downloaded_videos\\hd-925596815118953.mp4\n"
     ]
    },
    {
     "name": "stderr",
     "output_type": "stream",
     "text": [
      " 22%|██████████████████▏                                                              | 60/268 [01:00<03:30,  1.01s/it]"
     ]
    },
    {
     "name": "stdout",
     "output_type": "stream",
     "text": [
      "Downloaded: downloaded_videos\\hd-925260332281638.mp4\n"
     ]
    },
    {
     "name": "stderr",
     "output_type": "stream",
     "text": [
      " 23%|██████████████████▍                                                              | 61/268 [01:01<03:37,  1.05s/it]"
     ]
    },
    {
     "name": "stdout",
     "output_type": "stream",
     "text": [
      "Downloaded: downloaded_videos\\hd-924865635226814.mp4\n"
     ]
    },
    {
     "name": "stderr",
     "output_type": "stream",
     "text": [
      " 23%|██████████████████▋                                                              | 62/268 [01:02<03:38,  1.06s/it]"
     ]
    },
    {
     "name": "stdout",
     "output_type": "stream",
     "text": [
      "Downloaded: downloaded_videos\\hd-924585008982148.mp4\n"
     ]
    },
    {
     "name": "stderr",
     "output_type": "stream",
     "text": [
      " 24%|███████████████████                                                              | 63/268 [01:03<03:32,  1.04s/it]"
     ]
    },
    {
     "name": "stdout",
     "output_type": "stream",
     "text": [
      "Downloaded: downloaded_videos\\hd-621652523105267.mp4\n"
     ]
    },
    {
     "name": "stderr",
     "output_type": "stream",
     "text": [
      " 24%|███████████████████▎                                                             | 64/268 [01:04<03:29,  1.02s/it]"
     ]
    },
    {
     "name": "stdout",
     "output_type": "stream",
     "text": [
      "Downloaded: downloaded_videos\\hd-621266003076530.mp4\n"
     ]
    },
    {
     "name": "stderr",
     "output_type": "stream",
     "text": [
      " 24%|███████████████████▋                                                             | 65/268 [01:05<03:06,  1.09it/s]"
     ]
    },
    {
     "name": "stdout",
     "output_type": "stream",
     "text": [
      "Downloaded: downloaded_videos\\hd-620702145697389.mp4\n"
     ]
    },
    {
     "name": "stderr",
     "output_type": "stream",
     "text": [
      " 25%|███████████████████▉                                                             | 66/268 [01:06<03:07,  1.07it/s]"
     ]
    },
    {
     "name": "stdout",
     "output_type": "stream",
     "text": [
      "Downloaded: downloaded_videos\\hd-620154813059921.mp4\n"
     ]
    },
    {
     "name": "stderr",
     "output_type": "stream",
     "text": [
      " 25%|████████████████████▎                                                            | 67/268 [01:07<03:12,  1.04it/s]"
     ]
    },
    {
     "name": "stdout",
     "output_type": "stream",
     "text": [
      "Downloaded: downloaded_videos\\hd-618555366744628.mp4\n"
     ]
    },
    {
     "name": "stderr",
     "output_type": "stream",
     "text": [
      " 25%|████████████████████▌                                                            | 68/268 [01:08<03:10,  1.05it/s]"
     ]
    },
    {
     "name": "stdout",
     "output_type": "stream",
     "text": [
      "Downloaded: downloaded_videos\\hd-6174004652651971.mp4\n"
     ]
    },
    {
     "name": "stderr",
     "output_type": "stream",
     "text": [
      " 26%|████████████████████▊                                                            | 69/268 [01:09<03:14,  1.02it/s]"
     ]
    },
    {
     "name": "stdout",
     "output_type": "stream",
     "text": [
      "Downloaded: downloaded_videos\\hd-617288786873081.mp4\n"
     ]
    },
    {
     "name": "stderr",
     "output_type": "stream",
     "text": [
      " 26%|█████████████████████▏                                                           | 70/268 [01:10<03:16,  1.01it/s]"
     ]
    },
    {
     "name": "stdout",
     "output_type": "stream",
     "text": [
      "Downloaded: downloaded_videos\\hd-6172742522782221.mp4\n"
     ]
    },
    {
     "name": "stderr",
     "output_type": "stream",
     "text": [
      " 26%|█████████████████████▍                                                           | 71/268 [01:11<03:12,  1.02it/s]"
     ]
    },
    {
     "name": "stdout",
     "output_type": "stream",
     "text": [
      "Downloaded: downloaded_videos\\hd-613417017284998.mp4\n"
     ]
    },
    {
     "name": "stderr",
     "output_type": "stream",
     "text": [
      " 27%|█████████████████████▊                                                           | 72/268 [01:12<03:02,  1.07it/s]"
     ]
    },
    {
     "name": "stdout",
     "output_type": "stream",
     "text": [
      "Downloaded: downloaded_videos\\hd-613197413789434.mp4\n"
     ]
    },
    {
     "name": "stderr",
     "output_type": "stream",
     "text": [
      " 27%|██████████████████████                                                           | 73/268 [01:13<03:01,  1.07it/s]"
     ]
    },
    {
     "name": "stdout",
     "output_type": "stream",
     "text": [
      "Downloaded: downloaded_videos\\hd-613152173490344.mp4\n"
     ]
    },
    {
     "name": "stderr",
     "output_type": "stream",
     "text": [
      " 28%|██████████████████████▎                                                          | 74/268 [01:14<03:04,  1.05it/s]"
     ]
    },
    {
     "name": "stdout",
     "output_type": "stream",
     "text": [
      "Downloaded: downloaded_videos\\hd-612555930635832.mp4\n"
     ]
    },
    {
     "name": "stderr",
     "output_type": "stream",
     "text": [
      " 28%|██████████████████████▋                                                          | 75/268 [01:15<03:05,  1.04it/s]"
     ]
    },
    {
     "name": "stdout",
     "output_type": "stream",
     "text": [
      "Downloaded: downloaded_videos\\hd-612426467555072.mp4\n"
     ]
    },
    {
     "name": "stderr",
     "output_type": "stream",
     "text": [
      " 28%|██████████████████████▉                                                          | 76/268 [01:16<03:05,  1.03it/s]"
     ]
    },
    {
     "name": "stdout",
     "output_type": "stream",
     "text": [
      "Downloaded: downloaded_videos\\hd-611188517518682.mp4\n"
     ]
    },
    {
     "name": "stderr",
     "output_type": "stream",
     "text": [
      " 29%|███████████████████████▎                                                         | 77/268 [01:17<03:07,  1.02it/s]"
     ]
    },
    {
     "name": "stdout",
     "output_type": "stream",
     "text": [
      "Downloaded: downloaded_videos\\hd-6107397609317402.mp4\n"
     ]
    },
    {
     "name": "stderr",
     "output_type": "stream",
     "text": [
      " 29%|███████████████████████▌                                                         | 78/268 [01:18<03:04,  1.03it/s]"
     ]
    },
    {
     "name": "stdout",
     "output_type": "stream",
     "text": [
      "Downloaded: downloaded_videos\\hd-6096104653784047.mp4\n"
     ]
    },
    {
     "name": "stderr",
     "output_type": "stream",
     "text": [
      " 29%|███████████████████████▉                                                         | 79/268 [01:19<03:06,  1.01it/s]"
     ]
    },
    {
     "name": "stdout",
     "output_type": "stream",
     "text": [
      "Downloaded: downloaded_videos\\hd-606237444463640.mp4\n"
     ]
    },
    {
     "name": "stderr",
     "output_type": "stream",
     "text": [
      " 30%|████████████████████████▏                                                        | 80/268 [01:20<03:06,  1.01it/s]"
     ]
    },
    {
     "name": "stdout",
     "output_type": "stream",
     "text": [
      "Downloaded: downloaded_videos\\hd-605272664726548.mp4\n"
     ]
    },
    {
     "name": "stderr",
     "output_type": "stream",
     "text": [
      " 30%|████████████████████████▍                                                        | 81/268 [01:21<03:10,  1.02s/it]"
     ]
    },
    {
     "name": "stdout",
     "output_type": "stream",
     "text": [
      "Downloaded: downloaded_videos\\hd-6046690562050296.mp4\n"
     ]
    },
    {
     "name": "stderr",
     "output_type": "stream",
     "text": [
      " 31%|████████████████████████▊                                                        | 82/268 [01:22<03:00,  1.03it/s]"
     ]
    },
    {
     "name": "stdout",
     "output_type": "stream",
     "text": [
      "Downloaded: downloaded_videos\\hd-604285914607200.mp4\n"
     ]
    },
    {
     "name": "stderr",
     "output_type": "stream",
     "text": [
      " 31%|█████████████████████████                                                        | 83/268 [01:23<03:07,  1.01s/it]"
     ]
    },
    {
     "name": "stdout",
     "output_type": "stream",
     "text": [
      "Downloaded: downloaded_videos\\hd-604041931565137.mp4\n"
     ]
    },
    {
     "name": "stderr",
     "output_type": "stream",
     "text": [
      " 31%|█████████████████████████▍                                                       | 84/268 [01:23<02:42,  1.13it/s]"
     ]
    },
    {
     "name": "stdout",
     "output_type": "stream",
     "text": [
      "Downloaded: downloaded_videos\\hd-603099807587246.mp4\n"
     ]
    },
    {
     "name": "stderr",
     "output_type": "stream",
     "text": [
      " 32%|█████████████████████████▋                                                       | 85/268 [01:24<02:46,  1.10it/s]"
     ]
    },
    {
     "name": "stdout",
     "output_type": "stream",
     "text": [
      "Downloaded: downloaded_videos\\hd-911926190614858.mp4\n"
     ]
    },
    {
     "name": "stderr",
     "output_type": "stream",
     "text": [
      " 32%|█████████████████████████▉                                                       | 86/268 [01:25<02:46,  1.09it/s]"
     ]
    },
    {
     "name": "stdout",
     "output_type": "stream",
     "text": [
      "Downloaded: downloaded_videos\\hd-911482386703699.mp4\n"
     ]
    },
    {
     "name": "stderr",
     "output_type": "stream",
     "text": [
      " 32%|██████████████████████████▎                                                      | 87/268 [01:26<02:52,  1.05it/s]"
     ]
    },
    {
     "name": "stdout",
     "output_type": "stream",
     "text": [
      "Downloaded: downloaded_videos\\hd-911172609864769.mp4\n"
     ]
    },
    {
     "name": "stderr",
     "output_type": "stream",
     "text": [
      " 33%|██████████████████████████▌                                                      | 88/268 [01:27<02:51,  1.05it/s]"
     ]
    },
    {
     "name": "stdout",
     "output_type": "stream",
     "text": [
      "Downloaded: downloaded_videos\\hd-910958533691058.mp4\n"
     ]
    },
    {
     "name": "stderr",
     "output_type": "stream",
     "text": [
      " 33%|██████████████████████████▉                                                      | 89/268 [01:28<02:50,  1.05it/s]"
     ]
    },
    {
     "name": "stdout",
     "output_type": "stream",
     "text": [
      "Downloaded: downloaded_videos\\hd-909937876815529.mp4\n"
     ]
    },
    {
     "name": "stderr",
     "output_type": "stream",
     "text": [
      " 34%|███████████████████████████▏                                                     | 90/268 [01:29<02:50,  1.05it/s]"
     ]
    },
    {
     "name": "stdout",
     "output_type": "stream",
     "text": [
      "Downloaded: downloaded_videos\\hd-909110383822260.mp4\n"
     ]
    },
    {
     "name": "stderr",
     "output_type": "stream",
     "text": [
      " 34%|███████████████████████████▌                                                     | 91/268 [01:30<03:09,  1.07s/it]"
     ]
    },
    {
     "name": "stdout",
     "output_type": "stream",
     "text": [
      "Downloaded: downloaded_videos\\hd-909067460285978.mp4\n"
     ]
    },
    {
     "name": "stderr",
     "output_type": "stream",
     "text": [
      " 34%|███████████████████████████▊                                                     | 92/268 [01:31<03:02,  1.03s/it]"
     ]
    },
    {
     "name": "stdout",
     "output_type": "stream",
     "text": [
      "Downloaded: downloaded_videos\\hd-907416560296782.mp4\n"
     ]
    },
    {
     "name": "stderr",
     "output_type": "stream",
     "text": [
      " 35%|████████████████████████████                                                     | 93/268 [01:32<03:00,  1.03s/it]"
     ]
    },
    {
     "name": "stdout",
     "output_type": "stream",
     "text": [
      "Downloaded: downloaded_videos\\hd-906909830682725.mp4\n"
     ]
    },
    {
     "name": "stderr",
     "output_type": "stream",
     "text": [
      " 35%|████████████████████████████▍                                                    | 94/268 [01:33<02:58,  1.02s/it]"
     ]
    },
    {
     "name": "stdout",
     "output_type": "stream",
     "text": [
      "Downloaded: downloaded_videos\\hd-906506897404894.mp4\n"
     ]
    },
    {
     "name": "stderr",
     "output_type": "stream",
     "text": [
      " 35%|████████████████████████████▋                                                    | 95/268 [01:34<02:57,  1.02s/it]"
     ]
    },
    {
     "name": "stdout",
     "output_type": "stream",
     "text": [
      "Downloaded: downloaded_videos\\hd-905844110841635.mp4\n"
     ]
    },
    {
     "name": "stderr",
     "output_type": "stream",
     "text": [
      " 36%|█████████████████████████████                                                    | 96/268 [01:35<02:51,  1.00it/s]"
     ]
    },
    {
     "name": "stdout",
     "output_type": "stream",
     "text": [
      "Downloaded: downloaded_videos\\hd-905739711170399.mp4\n"
     ]
    },
    {
     "name": "stderr",
     "output_type": "stream",
     "text": [
      " 36%|█████████████████████████████▎                                                   | 97/268 [01:36<02:47,  1.02it/s]"
     ]
    },
    {
     "name": "stdout",
     "output_type": "stream",
     "text": [
      "Downloaded: downloaded_videos\\hd-905545323817883.mp4\n"
     ]
    },
    {
     "name": "stderr",
     "output_type": "stream",
     "text": [
      " 37%|█████████████████████████████▌                                                   | 98/268 [01:37<02:53,  1.02s/it]"
     ]
    },
    {
     "name": "stdout",
     "output_type": "stream",
     "text": [
      "Downloaded: downloaded_videos\\hd-904815481005158.mp4\n"
     ]
    },
    {
     "name": "stderr",
     "output_type": "stream",
     "text": [
      " 37%|█████████████████████████████▉                                                   | 99/268 [01:38<02:58,  1.05s/it]"
     ]
    },
    {
     "name": "stdout",
     "output_type": "stream",
     "text": [
      "Downloaded: downloaded_videos\\hd-904480964010630.mp4\n"
     ]
    },
    {
     "name": "stderr",
     "output_type": "stream",
     "text": [
      " 37%|█████████████████████████████▊                                                  | 100/268 [01:40<03:08,  1.12s/it]"
     ]
    },
    {
     "name": "stdout",
     "output_type": "stream",
     "text": [
      "Downloaded: downloaded_videos\\hd-904174908300812.mp4\n"
     ]
    },
    {
     "name": "stderr",
     "output_type": "stream",
     "text": [
      " 38%|██████████████████████████████▏                                                 | 101/268 [01:41<03:02,  1.09s/it]"
     ]
    },
    {
     "name": "stdout",
     "output_type": "stream",
     "text": [
      "Downloaded: downloaded_videos\\hd-903960640750545.mp4\n"
     ]
    },
    {
     "name": "stderr",
     "output_type": "stream",
     "text": [
      " 38%|██████████████████████████████▍                                                 | 102/268 [01:42<03:06,  1.12s/it]"
     ]
    },
    {
     "name": "stdout",
     "output_type": "stream",
     "text": [
      "Downloaded: downloaded_videos\\hd-903913985069116.mp4\n"
     ]
    },
    {
     "name": "stderr",
     "output_type": "stream",
     "text": [
      " 38%|██████████████████████████████▋                                                 | 103/268 [01:43<02:57,  1.07s/it]"
     ]
    },
    {
     "name": "stdout",
     "output_type": "stream",
     "text": [
      "Downloaded: downloaded_videos\\hd-903060767715541.mp4\n"
     ]
    },
    {
     "name": "stderr",
     "output_type": "stream",
     "text": [
      " 39%|███████████████████████████████                                                 | 104/268 [01:44<02:50,  1.04s/it]"
     ]
    },
    {
     "name": "stdout",
     "output_type": "stream",
     "text": [
      "Downloaded: downloaded_videos\\hd-902843234362370.mp4\n"
     ]
    },
    {
     "name": "stderr",
     "output_type": "stream",
     "text": [
      " 39%|███████████████████████████████▎                                                | 105/268 [01:45<02:53,  1.07s/it]"
     ]
    },
    {
     "name": "stdout",
     "output_type": "stream",
     "text": [
      "Downloaded: downloaded_videos\\hd-902456848100089.mp4\n"
     ]
    },
    {
     "name": "stderr",
     "output_type": "stream",
     "text": [
      " 40%|███████████████████████████████▋                                                | 106/268 [01:46<02:51,  1.06s/it]"
     ]
    },
    {
     "name": "stdout",
     "output_type": "stream",
     "text": [
      "Downloaded: downloaded_videos\\hd-902309670925392.mp4\n"
     ]
    },
    {
     "name": "stderr",
     "output_type": "stream",
     "text": [
      " 40%|███████████████████████████████▉                                                | 107/268 [01:47<02:52,  1.07s/it]"
     ]
    },
    {
     "name": "stdout",
     "output_type": "stream",
     "text": [
      "Downloaded: downloaded_videos\\hd-9020567984620018.mp4\n"
     ]
    },
    {
     "name": "stderr",
     "output_type": "stream",
     "text": [
      " 40%|████████████████████████████████▏                                               | 108/268 [01:48<02:46,  1.04s/it]"
     ]
    },
    {
     "name": "stdout",
     "output_type": "stream",
     "text": [
      "Downloaded: downloaded_videos\\hd-901695498551491.mp4\n"
     ]
    },
    {
     "name": "stderr",
     "output_type": "stream",
     "text": [
      " 41%|████████████████████████████████▌                                               | 109/268 [01:50<03:12,  1.21s/it]"
     ]
    },
    {
     "name": "stdout",
     "output_type": "stream",
     "text": [
      "Downloaded: downloaded_videos\\hd-901272811190482.mp4\n"
     ]
    },
    {
     "name": "stderr",
     "output_type": "stream",
     "text": [
      " 41%|████████████████████████████████▊                                               | 110/268 [01:51<02:58,  1.13s/it]"
     ]
    },
    {
     "name": "stdout",
     "output_type": "stream",
     "text": [
      "Downloaded: downloaded_videos\\hd-899987727789409.mp4\n"
     ]
    },
    {
     "name": "stderr",
     "output_type": "stream",
     "text": [
      " 41%|█████████████████████████████████▏                                              | 111/268 [01:52<02:44,  1.05s/it]"
     ]
    },
    {
     "name": "stdout",
     "output_type": "stream",
     "text": [
      "Downloaded: downloaded_videos\\hd-8995485367146316.mp4\n"
     ]
    },
    {
     "name": "stderr",
     "output_type": "stream",
     "text": [
      " 42%|█████████████████████████████████▍                                              | 112/268 [01:53<02:39,  1.03s/it]"
     ]
    },
    {
     "name": "stdout",
     "output_type": "stream",
     "text": [
      "Downloaded: downloaded_videos\\hd-899155277883965.mp4\n"
     ]
    },
    {
     "name": "stderr",
     "output_type": "stream",
     "text": [
      " 42%|█████████████████████████████████▋                                              | 113/268 [01:53<02:34,  1.00it/s]"
     ]
    },
    {
     "name": "stdout",
     "output_type": "stream",
     "text": [
      "Downloaded: downloaded_videos\\hd-898967424867870.mp4\n"
     ]
    },
    {
     "name": "stderr",
     "output_type": "stream",
     "text": [
      " 43%|██████████████████████████████████                                              | 114/268 [01:55<02:35,  1.01s/it]"
     ]
    },
    {
     "name": "stdout",
     "output_type": "stream",
     "text": [
      "Downloaded: downloaded_videos\\hd-898402801287469.mp4\n"
     ]
    },
    {
     "name": "stderr",
     "output_type": "stream",
     "text": [
      " 43%|██████████████████████████████████▎                                             | 115/268 [01:56<02:38,  1.04s/it]"
     ]
    },
    {
     "name": "stdout",
     "output_type": "stream",
     "text": [
      "Downloaded: downloaded_videos\\hd-898103501380741.mp4\n"
     ]
    },
    {
     "name": "stderr",
     "output_type": "stream",
     "text": [
      " 43%|██████████████████████████████████▋                                             | 116/268 [01:57<02:36,  1.03s/it]"
     ]
    },
    {
     "name": "stdout",
     "output_type": "stream",
     "text": [
      "Downloaded: downloaded_videos\\hd-897680994566577.mp4\n"
     ]
    },
    {
     "name": "stderr",
     "output_type": "stream",
     "text": [
      " 44%|██████████████████████████████████▉                                             | 117/268 [01:58<02:38,  1.05s/it]"
     ]
    },
    {
     "name": "stdout",
     "output_type": "stream",
     "text": [
      "Downloaded: downloaded_videos\\hd-897088088160051.mp4\n"
     ]
    },
    {
     "name": "stderr",
     "output_type": "stream",
     "text": [
      " 44%|███████████████████████████████████▏                                            | 118/268 [01:59<02:35,  1.04s/it]"
     ]
    },
    {
     "name": "stdout",
     "output_type": "stream",
     "text": [
      "Downloaded: downloaded_videos\\hd-896843165102015.mp4\n"
     ]
    },
    {
     "name": "stderr",
     "output_type": "stream",
     "text": [
      " 44%|███████████████████████████████████▌                                            | 119/268 [02:00<02:37,  1.06s/it]"
     ]
    },
    {
     "name": "stdout",
     "output_type": "stream",
     "text": [
      "Downloaded: downloaded_videos\\hd-896598988012982.mp4\n"
     ]
    },
    {
     "name": "stderr",
     "output_type": "stream",
     "text": [
      " 45%|███████████████████████████████████▊                                            | 120/268 [02:01<02:34,  1.04s/it]"
     ]
    },
    {
     "name": "stdout",
     "output_type": "stream",
     "text": [
      "Downloaded: downloaded_videos\\hd-896589688256009.mp4\n"
     ]
    },
    {
     "name": "stderr",
     "output_type": "stream",
     "text": [
      " 45%|████████████████████████████████████                                            | 121/268 [02:12<09:55,  4.05s/it]"
     ]
    },
    {
     "name": "stdout",
     "output_type": "stream",
     "text": [
      "Error downloading https://fgimagestorage.blob.core.windows.net/facebook-assets/hd-895042408159688: HTTPSConnectionPool(host='fgimagestorage.blob.core.windows.net', port=443): Max retries exceeded with url: /facebook-assets/hd-895042408159688 (Caused by NameResolutionError(\"<urllib3.connection.HTTPSConnection object at 0x0000023970605510>: Failed to resolve 'fgimagestorage.blob.core.windows.net' ([Errno 11001] getaddrinfo failed)\"))\n"
     ]
    },
    {
     "name": "stderr",
     "output_type": "stream",
     "text": [
      " 46%|████████████████████████████████████▍                                           | 122/268 [02:23<14:58,  6.16s/it]"
     ]
    },
    {
     "name": "stdout",
     "output_type": "stream",
     "text": [
      "Error downloading https://fgimagestorage.blob.core.windows.net/facebook-assets/hd-894559812351386: HTTPSConnectionPool(host='fgimagestorage.blob.core.windows.net', port=443): Max retries exceeded with url: /facebook-assets/hd-894559812351386 (Caused by NameResolutionError(\"<urllib3.connection.HTTPSConnection object at 0x0000023970606260>: Failed to resolve 'fgimagestorage.blob.core.windows.net' ([Errno 11001] getaddrinfo failed)\"))\n"
     ]
    },
    {
     "name": "stderr",
     "output_type": "stream",
     "text": [
      " 46%|████████████████████████████████████▋                                           | 123/268 [02:24<11:08,  4.61s/it]"
     ]
    },
    {
     "name": "stdout",
     "output_type": "stream",
     "text": [
      "Downloaded: downloaded_videos\\hd-894559522288371.mp4\n"
     ]
    },
    {
     "name": "stderr",
     "output_type": "stream",
     "text": [
      " 46%|█████████████████████████████████████                                           | 124/268 [02:25<08:28,  3.53s/it]"
     ]
    },
    {
     "name": "stdout",
     "output_type": "stream",
     "text": [
      "Downloaded: downloaded_videos\\hd-894457734962164.mp4\n"
     ]
    },
    {
     "name": "stderr",
     "output_type": "stream",
     "text": [
      " 47%|█████████████████████████████████████▎                                          | 125/268 [02:26<06:37,  2.78s/it]"
     ]
    },
    {
     "name": "stdout",
     "output_type": "stream",
     "text": [
      "Downloaded: downloaded_videos\\hd-894066258497958.mp4\n"
     ]
    },
    {
     "name": "stderr",
     "output_type": "stream",
     "text": [
      " 47%|█████████████████████████████████████▌                                          | 126/268 [02:27<05:23,  2.28s/it]"
     ]
    },
    {
     "name": "stdout",
     "output_type": "stream",
     "text": [
      "Downloaded: downloaded_videos\\hd-893539262677484.mp4\n"
     ]
    },
    {
     "name": "stderr",
     "output_type": "stream",
     "text": [
      " 47%|█████████████████████████████████████▉                                          | 127/268 [02:28<04:27,  1.90s/it]"
     ]
    },
    {
     "name": "stdout",
     "output_type": "stream",
     "text": [
      "Downloaded: downloaded_videos\\hd-893173505441981.mp4\n"
     ]
    },
    {
     "name": "stderr",
     "output_type": "stream",
     "text": [
      " 48%|██████████████████████████████████████▏                                         | 128/268 [02:29<03:44,  1.60s/it]"
     ]
    },
    {
     "name": "stdout",
     "output_type": "stream",
     "text": [
      "Downloaded: downloaded_videos\\hd-892383375224287.mp4\n"
     ]
    },
    {
     "name": "stderr",
     "output_type": "stream",
     "text": [
      " 48%|██████████████████████████████████████▌                                         | 129/268 [02:30<03:18,  1.43s/it]"
     ]
    },
    {
     "name": "stdout",
     "output_type": "stream",
     "text": [
      "Downloaded: downloaded_videos\\hd-891684945300160.mp4\n"
     ]
    },
    {
     "name": "stderr",
     "output_type": "stream",
     "text": [
      " 49%|██████████████████████████████████████▊                                         | 130/268 [02:31<03:03,  1.33s/it]"
     ]
    },
    {
     "name": "stdout",
     "output_type": "stream",
     "text": [
      "Downloaded: downloaded_videos\\hd-891661008828094.mp4\n"
     ]
    },
    {
     "name": "stderr",
     "output_type": "stream",
     "text": [
      " 49%|███████████████████████████████████████                                         | 131/268 [02:32<02:50,  1.24s/it]"
     ]
    },
    {
     "name": "stdout",
     "output_type": "stream",
     "text": [
      "Downloaded: downloaded_videos\\hd-891391212618023.mp4\n"
     ]
    },
    {
     "name": "stderr",
     "output_type": "stream",
     "text": [
      " 49%|███████████████████████████████████████▍                                        | 132/268 [02:33<02:40,  1.18s/it]"
     ]
    },
    {
     "name": "stdout",
     "output_type": "stream",
     "text": [
      "Downloaded: downloaded_videos\\hd-890166872024685.mp4\n"
     ]
    },
    {
     "name": "stderr",
     "output_type": "stream",
     "text": [
      " 50%|███████████████████████████████████████▋                                        | 133/268 [02:34<02:35,  1.15s/it]"
     ]
    },
    {
     "name": "stdout",
     "output_type": "stream",
     "text": [
      "Downloaded: downloaded_videos\\hd-890005255637433.mp4\n"
     ]
    },
    {
     "name": "stderr",
     "output_type": "stream",
     "text": [
      " 50%|████████████████████████████████████████                                        | 134/268 [02:35<02:34,  1.15s/it]"
     ]
    },
    {
     "name": "stdout",
     "output_type": "stream",
     "text": [
      "Downloaded: downloaded_videos\\hd-889728479746704.mp4\n"
     ]
    },
    {
     "name": "stderr",
     "output_type": "stream",
     "text": [
      " 50%|████████████████████████████████████████▎                                       | 135/268 [02:36<02:24,  1.09s/it]"
     ]
    },
    {
     "name": "stdout",
     "output_type": "stream",
     "text": [
      "Downloaded: downloaded_videos\\hd-889604775414234.mp4\n"
     ]
    },
    {
     "name": "stderr",
     "output_type": "stream",
     "text": [
      " 51%|████████████████████████████████████████▌                                       | 136/268 [02:37<02:22,  1.08s/it]"
     ]
    },
    {
     "name": "stdout",
     "output_type": "stream",
     "text": [
      "Downloaded: downloaded_videos\\hd-889375178765113.mp4\n"
     ]
    },
    {
     "name": "stderr",
     "output_type": "stream",
     "text": [
      " 51%|████████████████████████████████████████▉                                       | 137/268 [02:39<02:20,  1.07s/it]"
     ]
    },
    {
     "name": "stdout",
     "output_type": "stream",
     "text": [
      "Downloaded: downloaded_videos\\hd-888593019388197.mp4\n"
     ]
    },
    {
     "name": "stderr",
     "output_type": "stream",
     "text": [
      " 51%|█████████████████████████████████████████▏                                      | 138/268 [02:39<02:13,  1.03s/it]"
     ]
    },
    {
     "name": "stdout",
     "output_type": "stream",
     "text": [
      "Downloaded: downloaded_videos\\hd-888183703182855.mp4\n"
     ]
    },
    {
     "name": "stderr",
     "output_type": "stream",
     "text": [
      " 52%|█████████████████████████████████████████▍                                      | 139/268 [02:41<02:17,  1.06s/it]"
     ]
    },
    {
     "name": "stdout",
     "output_type": "stream",
     "text": [
      "Downloaded: downloaded_videos\\hd-888062106715252.mp4\n"
     ]
    },
    {
     "name": "stderr",
     "output_type": "stream",
     "text": [
      " 52%|█████████████████████████████████████████▊                                      | 140/268 [02:42<02:11,  1.03s/it]"
     ]
    },
    {
     "name": "stdout",
     "output_type": "stream",
     "text": [
      "Downloaded: downloaded_videos\\hd-888056015719840.mp4\n"
     ]
    },
    {
     "name": "stderr",
     "output_type": "stream",
     "text": [
      " 53%|██████████████████████████████████████████                                      | 141/268 [02:43<02:09,  1.02s/it]"
     ]
    },
    {
     "name": "stdout",
     "output_type": "stream",
     "text": [
      "Downloaded: downloaded_videos\\hd-887363366529815.mp4\n"
     ]
    },
    {
     "name": "stderr",
     "output_type": "stream",
     "text": [
      " 53%|██████████████████████████████████████████▍                                     | 142/268 [02:44<02:06,  1.00s/it]"
     ]
    },
    {
     "name": "stdout",
     "output_type": "stream",
     "text": [
      "Downloaded: downloaded_videos\\hd-886609482926268.mp4\n"
     ]
    },
    {
     "name": "stderr",
     "output_type": "stream",
     "text": [
      " 53%|██████████████████████████████████████████▋                                     | 143/268 [02:45<02:05,  1.01s/it]"
     ]
    },
    {
     "name": "stdout",
     "output_type": "stream",
     "text": [
      "Downloaded: downloaded_videos\\hd-886049645973007.mp4\n"
     ]
    },
    {
     "name": "stderr",
     "output_type": "stream",
     "text": [
      " 54%|██████████████████████████████████████████▉                                     | 144/268 [02:45<02:02,  1.01it/s]"
     ]
    },
    {
     "name": "stdout",
     "output_type": "stream",
     "text": [
      "Downloaded: downloaded_videos\\hd-885689066019680.mp4\n"
     ]
    },
    {
     "name": "stderr",
     "output_type": "stream",
     "text": [
      " 54%|███████████████████████████████████████████▎                                    | 145/268 [02:47<02:03,  1.01s/it]"
     ]
    },
    {
     "name": "stdout",
     "output_type": "stream",
     "text": [
      "Downloaded: downloaded_videos\\hd-885670366433640.mp4\n"
     ]
    },
    {
     "name": "stderr",
     "output_type": "stream",
     "text": [
      " 54%|███████████████████████████████████████████▌                                    | 146/268 [02:48<02:02,  1.01s/it]"
     ]
    },
    {
     "name": "stdout",
     "output_type": "stream",
     "text": [
      "Downloaded: downloaded_videos\\hd-885209946993560.mp4\n"
     ]
    },
    {
     "name": "stderr",
     "output_type": "stream",
     "text": [
      " 55%|███████████████████████████████████████████▉                                    | 147/268 [02:48<01:59,  1.01it/s]"
     ]
    },
    {
     "name": "stdout",
     "output_type": "stream",
     "text": [
      "Downloaded: downloaded_videos\\hd-883738210384679.mp4\n"
     ]
    },
    {
     "name": "stderr",
     "output_type": "stream",
     "text": [
      " 55%|████████████████████████████████████████████▏                                   | 148/268 [02:49<01:59,  1.01it/s]"
     ]
    },
    {
     "name": "stdout",
     "output_type": "stream",
     "text": [
      "Downloaded: downloaded_videos\\hd-883246492824014.mp4\n"
     ]
    },
    {
     "name": "stderr",
     "output_type": "stream",
     "text": [
      " 56%|████████████████████████████████████████████▍                                   | 149/268 [02:50<01:58,  1.00it/s]"
     ]
    },
    {
     "name": "stdout",
     "output_type": "stream",
     "text": [
      "Downloaded: downloaded_videos\\hd-882993126248062.mp4\n"
     ]
    },
    {
     "name": "stderr",
     "output_type": "stream",
     "text": [
      " 56%|████████████████████████████████████████████▊                                   | 150/268 [02:52<02:01,  1.03s/it]"
     ]
    },
    {
     "name": "stdout",
     "output_type": "stream",
     "text": [
      "Downloaded: downloaded_videos\\hd-8828692983838031.mp4\n"
     ]
    },
    {
     "name": "stderr",
     "output_type": "stream",
     "text": [
      " 56%|█████████████████████████████████████████████                                   | 151/268 [02:53<01:58,  1.01s/it]"
     ]
    },
    {
     "name": "stdout",
     "output_type": "stream",
     "text": [
      "Downloaded: downloaded_videos\\hd-882867522830120.mp4\n"
     ]
    },
    {
     "name": "stderr",
     "output_type": "stream",
     "text": [
      " 57%|█████████████████████████████████████████████▎                                  | 152/268 [02:54<01:59,  1.03s/it]"
     ]
    },
    {
     "name": "stdout",
     "output_type": "stream",
     "text": [
      "Downloaded: downloaded_videos\\hd-882019143545185.mp4\n"
     ]
    },
    {
     "name": "stderr",
     "output_type": "stream",
     "text": [
      " 57%|█████████████████████████████████████████████▋                                  | 153/268 [02:55<02:00,  1.05s/it]"
     ]
    },
    {
     "name": "stdout",
     "output_type": "stream",
     "text": [
      "Downloaded: downloaded_videos\\hd-881925359723909.mp4\n"
     ]
    },
    {
     "name": "stderr",
     "output_type": "stream",
     "text": [
      " 57%|█████████████████████████████████████████████▉                                  | 154/268 [02:56<01:59,  1.05s/it]"
     ]
    },
    {
     "name": "stdout",
     "output_type": "stream",
     "text": [
      "Downloaded: downloaded_videos\\hd-8816515918390519.mp4\n"
     ]
    },
    {
     "name": "stderr",
     "output_type": "stream",
     "text": [
      " 58%|██████████████████████████████████████████████▎                                 | 155/268 [02:57<01:57,  1.04s/it]"
     ]
    },
    {
     "name": "stdout",
     "output_type": "stream",
     "text": [
      "Downloaded: downloaded_videos\\hd-881342303358042.mp4\n"
     ]
    },
    {
     "name": "stderr",
     "output_type": "stream",
     "text": [
      " 58%|██████████████████████████████████████████████▌                                 | 156/268 [02:58<01:56,  1.04s/it]"
     ]
    },
    {
     "name": "stdout",
     "output_type": "stream",
     "text": [
      "Downloaded: downloaded_videos\\hd-881270063889884.mp4\n"
     ]
    },
    {
     "name": "stderr",
     "output_type": "stream",
     "text": [
      " 59%|██████████████████████████████████████████████▊                                 | 157/268 [02:59<01:52,  1.01s/it]"
     ]
    },
    {
     "name": "stdout",
     "output_type": "stream",
     "text": [
      "Downloaded: downloaded_videos\\hd-8806609246079208.mp4\n"
     ]
    },
    {
     "name": "stderr",
     "output_type": "stream",
     "text": [
      " 59%|███████████████████████████████████████████████▏                                | 158/268 [03:00<01:52,  1.02s/it]"
     ]
    },
    {
     "name": "stdout",
     "output_type": "stream",
     "text": [
      "Downloaded: downloaded_videos\\hd-880568190186256.mp4\n"
     ]
    },
    {
     "name": "stderr",
     "output_type": "stream",
     "text": [
      " 59%|███████████████████████████████████████████████▍                                | 159/268 [03:01<01:52,  1.03s/it]"
     ]
    },
    {
     "name": "stdout",
     "output_type": "stream",
     "text": [
      "Downloaded: downloaded_videos\\hd-880340126836307.mp4\n"
     ]
    },
    {
     "name": "stderr",
     "output_type": "stream",
     "text": [
      " 60%|███████████████████████████████████████████████▊                                | 160/268 [03:02<01:48,  1.01s/it]"
     ]
    },
    {
     "name": "stdout",
     "output_type": "stream",
     "text": [
      "Downloaded: downloaded_videos\\hd-8796411607036992.mp4\n"
     ]
    },
    {
     "name": "stderr",
     "output_type": "stream",
     "text": [
      " 60%|████████████████████████████████████████████████                                | 161/268 [03:03<01:48,  1.01s/it]"
     ]
    },
    {
     "name": "stdout",
     "output_type": "stream",
     "text": [
      "Downloaded: downloaded_videos\\hd-879631723735807.mp4\n"
     ]
    },
    {
     "name": "stderr",
     "output_type": "stream",
     "text": [
      " 60%|████████████████████████████████████████████████▎                               | 162/268 [03:04<01:47,  1.01s/it]"
     ]
    },
    {
     "name": "stdout",
     "output_type": "stream",
     "text": [
      "Downloaded: downloaded_videos\\hd-879049300656635.mp4\n"
     ]
    },
    {
     "name": "stderr",
     "output_type": "stream",
     "text": [
      " 61%|████████████████████████████████████████████████▋                               | 163/268 [03:05<01:47,  1.02s/it]"
     ]
    },
    {
     "name": "stdout",
     "output_type": "stream",
     "text": [
      "Downloaded: downloaded_videos\\hd-877975993416760.mp4\n"
     ]
    },
    {
     "name": "stderr",
     "output_type": "stream",
     "text": [
      " 61%|████████████████████████████████████████████████▉                               | 164/268 [03:06<01:45,  1.02s/it]"
     ]
    },
    {
     "name": "stdout",
     "output_type": "stream",
     "text": [
      "Downloaded: downloaded_videos\\hd-877662697022279.mp4\n"
     ]
    },
    {
     "name": "stderr",
     "output_type": "stream",
     "text": [
      " 62%|█████████████████████████████████████████████████▎                              | 165/268 [03:07<01:42,  1.01it/s]"
     ]
    },
    {
     "name": "stdout",
     "output_type": "stream",
     "text": [
      "Downloaded: downloaded_videos\\hd-877511836784655.mp4\n"
     ]
    },
    {
     "name": "stderr",
     "output_type": "stream",
     "text": [
      " 62%|█████████████████████████████████████████████████▌                              | 166/268 [03:08<01:43,  1.01s/it]"
     ]
    },
    {
     "name": "stdout",
     "output_type": "stream",
     "text": [
      "Downloaded: downloaded_videos\\hd-877210454387561.mp4\n"
     ]
    },
    {
     "name": "stderr",
     "output_type": "stream",
     "text": [
      " 62%|█████████████████████████████████████████████████▊                              | 167/268 [03:09<01:42,  1.01s/it]"
     ]
    },
    {
     "name": "stdout",
     "output_type": "stream",
     "text": [
      "Downloaded: downloaded_videos\\hd-877129693575192.mp4\n"
     ]
    },
    {
     "name": "stderr",
     "output_type": "stream",
     "text": [
      " 63%|██████████████████████████████████████████████████▏                             | 168/268 [03:10<01:49,  1.09s/it]"
     ]
    },
    {
     "name": "stdout",
     "output_type": "stream",
     "text": [
      "Downloaded: downloaded_videos\\hd-876239523982490.mp4\n"
     ]
    },
    {
     "name": "stderr",
     "output_type": "stream",
     "text": [
      " 63%|██████████████████████████████████████████████████▍                             | 169/268 [03:11<01:46,  1.08s/it]"
     ]
    },
    {
     "name": "stdout",
     "output_type": "stream",
     "text": [
      "Downloaded: downloaded_videos\\hd-876121221160846.mp4\n"
     ]
    },
    {
     "name": "stderr",
     "output_type": "stream",
     "text": [
      " 63%|██████████████████████████████████████████████████▋                             | 170/268 [03:12<01:42,  1.04s/it]"
     ]
    },
    {
     "name": "stdout",
     "output_type": "stream",
     "text": [
      "Downloaded: downloaded_videos\\hd-875485623676104.mp4\n"
     ]
    },
    {
     "name": "stderr",
     "output_type": "stream",
     "text": [
      " 64%|███████████████████████████████████████████████████                             | 171/268 [03:13<01:46,  1.10s/it]"
     ]
    },
    {
     "name": "stdout",
     "output_type": "stream",
     "text": [
      "Downloaded: downloaded_videos\\hd-874864704574925.mp4\n"
     ]
    },
    {
     "name": "stderr",
     "output_type": "stream",
     "text": [
      " 64%|███████████████████████████████████████████████████▎                            | 172/268 [03:14<01:41,  1.06s/it]"
     ]
    },
    {
     "name": "stdout",
     "output_type": "stream",
     "text": [
      "Downloaded: downloaded_videos\\hd-874747697073121.mp4\n"
     ]
    },
    {
     "name": "stderr",
     "output_type": "stream",
     "text": [
      " 65%|███████████████████████████████████████████████████▋                            | 173/268 [03:15<01:39,  1.05s/it]"
     ]
    },
    {
     "name": "stdout",
     "output_type": "stream",
     "text": [
      "Downloaded: downloaded_videos\\hd-874543520932484.mp4\n"
     ]
    },
    {
     "name": "stderr",
     "output_type": "stream",
     "text": [
      " 65%|███████████████████████████████████████████████████▉                            | 174/268 [03:16<01:37,  1.04s/it]"
     ]
    },
    {
     "name": "stdout",
     "output_type": "stream",
     "text": [
      "Downloaded: downloaded_videos\\hd-874190910572544.mp4\n"
     ]
    },
    {
     "name": "stderr",
     "output_type": "stream",
     "text": [
      " 65%|████████████████████████████████████████████████████▏                           | 175/268 [03:18<01:38,  1.06s/it]"
     ]
    },
    {
     "name": "stdout",
     "output_type": "stream",
     "text": [
      "Downloaded: downloaded_videos\\hd-874084244131796.mp4\n"
     ]
    },
    {
     "name": "stderr",
     "output_type": "stream",
     "text": [
      " 66%|████████████████████████████████████████████████████▌                           | 176/268 [03:18<01:34,  1.02s/it]"
     ]
    },
    {
     "name": "stdout",
     "output_type": "stream",
     "text": [
      "Downloaded: downloaded_videos\\hd-873560550525047.mp4\n"
     ]
    },
    {
     "name": "stderr",
     "output_type": "stream",
     "text": [
      " 66%|████████████████████████████████████████████████████▊                           | 177/268 [03:19<01:32,  1.02s/it]"
     ]
    },
    {
     "name": "stdout",
     "output_type": "stream",
     "text": [
      "Downloaded: downloaded_videos\\hd-873317140849832.mp4\n"
     ]
    },
    {
     "name": "stderr",
     "output_type": "stream",
     "text": [
      " 66%|█████████████████████████████████████████████████████▏                          | 178/268 [03:21<01:31,  1.02s/it]"
     ]
    },
    {
     "name": "stdout",
     "output_type": "stream",
     "text": [
      "Downloaded: downloaded_videos\\hd-873043573965895.mp4\n"
     ]
    },
    {
     "name": "stderr",
     "output_type": "stream",
     "text": [
      " 67%|█████████████████████████████████████████████████████▍                          | 179/268 [03:21<01:28,  1.01it/s]"
     ]
    },
    {
     "name": "stdout",
     "output_type": "stream",
     "text": [
      "Downloaded: downloaded_videos\\hd-872760463806517.mp4\n"
     ]
    },
    {
     "name": "stderr",
     "output_type": "stream",
     "text": [
      " 67%|█████████████████████████████████████████████████████▋                          | 180/268 [03:22<01:27,  1.01it/s]"
     ]
    },
    {
     "name": "stdout",
     "output_type": "stream",
     "text": [
      "Downloaded: downloaded_videos\\hd-872400620956045.mp4\n"
     ]
    },
    {
     "name": "stderr",
     "output_type": "stream",
     "text": [
      " 68%|██████████████████████████████████████████████████████                          | 181/268 [03:23<01:27,  1.00s/it]"
     ]
    },
    {
     "name": "stdout",
     "output_type": "stream",
     "text": [
      "Downloaded: downloaded_videos\\hd-872222594086011.mp4\n"
     ]
    },
    {
     "name": "stderr",
     "output_type": "stream",
     "text": [
      " 68%|██████████████████████████████████████████████████████▎                         | 182/268 [03:24<01:26,  1.00s/it]"
     ]
    },
    {
     "name": "stdout",
     "output_type": "stream",
     "text": [
      "Downloaded: downloaded_videos\\hd-872188860590219.mp4\n"
     ]
    },
    {
     "name": "stderr",
     "output_type": "stream",
     "text": [
      " 68%|██████████████████████████████████████████████████████▋                         | 183/268 [03:26<01:28,  1.04s/it]"
     ]
    },
    {
     "name": "stdout",
     "output_type": "stream",
     "text": [
      "Downloaded: downloaded_videos\\hd-871981848375866.mp4\n"
     ]
    },
    {
     "name": "stderr",
     "output_type": "stream",
     "text": [
      " 69%|██████████████████████████████████████████████████████▉                         | 184/268 [03:27<01:27,  1.04s/it]"
     ]
    },
    {
     "name": "stdout",
     "output_type": "stream",
     "text": [
      "Downloaded: downloaded_videos\\hd-8715627171842855.mp4\n"
     ]
    },
    {
     "name": "stderr",
     "output_type": "stream",
     "text": [
      " 69%|███████████████████████████████████████████████████████▏                        | 185/268 [03:28<01:23,  1.01s/it]"
     ]
    },
    {
     "name": "stdout",
     "output_type": "stream",
     "text": [
      "Downloaded: downloaded_videos\\hd-871286287458461.mp4\n"
     ]
    },
    {
     "name": "stderr",
     "output_type": "stream",
     "text": [
      " 69%|███████████████████████████████████████████████████████▌                        | 186/268 [03:29<01:21,  1.00it/s]"
     ]
    },
    {
     "name": "stdout",
     "output_type": "stream",
     "text": [
      "Downloaded: downloaded_videos\\hd-871185627435460.mp4\n"
     ]
    },
    {
     "name": "stderr",
     "output_type": "stream",
     "text": [
      " 70%|███████████████████████████████████████████████████████▊                        | 187/268 [03:29<01:19,  1.02it/s]"
     ]
    },
    {
     "name": "stdout",
     "output_type": "stream",
     "text": [
      "Downloaded: downloaded_videos\\hd-871075730546911.mp4\n"
     ]
    },
    {
     "name": "stderr",
     "output_type": "stream",
     "text": [
      " 70%|████████████████████████████████████████████████████████                        | 188/268 [03:31<01:19,  1.01it/s]"
     ]
    },
    {
     "name": "stdout",
     "output_type": "stream",
     "text": [
      "Downloaded: downloaded_videos\\hd-871037203883530.mp4\n"
     ]
    },
    {
     "name": "stderr",
     "output_type": "stream",
     "text": [
      " 71%|████████████████████████████████████████████████████████▍                       | 189/268 [03:32<01:19,  1.00s/it]"
     ]
    },
    {
     "name": "stdout",
     "output_type": "stream",
     "text": [
      "Downloaded: downloaded_videos\\hd-819765763526762.mp4\n"
     ]
    },
    {
     "name": "stderr",
     "output_type": "stream",
     "text": [
      " 71%|████████████████████████████████████████████████████████▋                       | 190/268 [03:33<01:19,  1.02s/it]"
     ]
    },
    {
     "name": "stdout",
     "output_type": "stream",
     "text": [
      "Downloaded: downloaded_videos\\hd-818776323774715.mp4\n"
     ]
    },
    {
     "name": "stderr",
     "output_type": "stream",
     "text": [
      " 71%|█████████████████████████████████████████████████████████                       | 191/268 [03:34<01:18,  1.01s/it]"
     ]
    },
    {
     "name": "stdout",
     "output_type": "stream",
     "text": [
      "Downloaded: downloaded_videos\\hd-818462803696191.mp4\n"
     ]
    },
    {
     "name": "stderr",
     "output_type": "stream",
     "text": [
      " 72%|█████████████████████████████████████████████████████████▎                      | 192/268 [03:35<01:15,  1.00it/s]"
     ]
    },
    {
     "name": "stdout",
     "output_type": "stream",
     "text": [
      "Downloaded: downloaded_videos\\hd-817768845898837.mp4\n"
     ]
    },
    {
     "name": "stderr",
     "output_type": "stream",
     "text": [
      " 72%|█████████████████████████████████████████████████████████▌                      | 193/268 [03:35<01:13,  1.02it/s]"
     ]
    },
    {
     "name": "stdout",
     "output_type": "stream",
     "text": [
      "Downloaded: downloaded_videos\\hd-817763467176157.mp4\n"
     ]
    },
    {
     "name": "stderr",
     "output_type": "stream",
     "text": [
      " 72%|█████████████████████████████████████████████████████████▉                      | 194/268 [03:37<01:13,  1.00it/s]"
     ]
    },
    {
     "name": "stdout",
     "output_type": "stream",
     "text": [
      "Downloaded: downloaded_videos\\hd-817477363934899.mp4\n"
     ]
    },
    {
     "name": "stderr",
     "output_type": "stream",
     "text": [
      " 73%|██████████████████████████████████████████████████████████▏                     | 195/268 [03:38<01:13,  1.01s/it]"
     ]
    },
    {
     "name": "stdout",
     "output_type": "stream",
     "text": [
      "Downloaded: downloaded_videos\\hd-817475239730695.mp4\n"
     ]
    },
    {
     "name": "stderr",
     "output_type": "stream",
     "text": [
      " 73%|██████████████████████████████████████████████████████████▌                     | 196/268 [03:39<01:15,  1.05s/it]"
     ]
    },
    {
     "name": "stdout",
     "output_type": "stream",
     "text": [
      "Downloaded: downloaded_videos\\hd-817135236672734.mp4\n"
     ]
    },
    {
     "name": "stderr",
     "output_type": "stream",
     "text": [
      " 74%|██████████████████████████████████████████████████████████▊                     | 197/268 [03:40<01:14,  1.05s/it]"
     ]
    },
    {
     "name": "stdout",
     "output_type": "stream",
     "text": [
      "Downloaded: downloaded_videos\\hd-816335920524988.mp4\n"
     ]
    },
    {
     "name": "stderr",
     "output_type": "stream",
     "text": [
      " 74%|███████████████████████████████████████████████████████████                     | 198/268 [03:41<01:11,  1.02s/it]"
     ]
    },
    {
     "name": "stdout",
     "output_type": "stream",
     "text": [
      "Downloaded: downloaded_videos\\hd-815391233916449.mp4\n"
     ]
    },
    {
     "name": "stderr",
     "output_type": "stream",
     "text": [
      " 74%|███████████████████████████████████████████████████████████▍                    | 199/268 [03:42<01:12,  1.04s/it]"
     ]
    },
    {
     "name": "stdout",
     "output_type": "stream",
     "text": [
      "Downloaded: downloaded_videos\\hd-814072014151046.mp4\n"
     ]
    },
    {
     "name": "stderr",
     "output_type": "stream",
     "text": [
      " 75%|███████████████████████████████████████████████████████████▋                    | 200/268 [03:43<01:09,  1.02s/it]"
     ]
    },
    {
     "name": "stdout",
     "output_type": "stream",
     "text": [
      "Downloaded: downloaded_videos\\hd-813828049840959.mp4\n"
     ]
    },
    {
     "name": "stderr",
     "output_type": "stream",
     "text": [
      " 75%|████████████████████████████████████████████████████████████                    | 201/268 [03:44<01:06,  1.01it/s]"
     ]
    },
    {
     "name": "stdout",
     "output_type": "stream",
     "text": [
      "Downloaded: downloaded_videos\\hd-811606650922029.mp4\n"
     ]
    },
    {
     "name": "stderr",
     "output_type": "stream",
     "text": [
      " 75%|████████████████████████████████████████████████████████████▎                   | 202/268 [03:45<01:08,  1.04s/it]"
     ]
    },
    {
     "name": "stdout",
     "output_type": "stream",
     "text": [
      "Downloaded: downloaded_videos\\hd-8111507755613955.mp4\n"
     ]
    },
    {
     "name": "stderr",
     "output_type": "stream",
     "text": [
      " 76%|████████████████████████████████████████████████████████████▌                   | 203/268 [03:46<01:07,  1.03s/it]"
     ]
    },
    {
     "name": "stdout",
     "output_type": "stream",
     "text": [
      "Downloaded: downloaded_videos\\hd-8100667816697710.mp4\n"
     ]
    },
    {
     "name": "stderr",
     "output_type": "stream",
     "text": [
      " 76%|████████████████████████████████████████████████████████████▉                   | 204/268 [03:47<01:05,  1.03s/it]"
     ]
    },
    {
     "name": "stdout",
     "output_type": "stream",
     "text": [
      "Downloaded: downloaded_videos\\hd-809480737932683.mp4\n"
     ]
    },
    {
     "name": "stderr",
     "output_type": "stream",
     "text": [
      " 76%|█████████████████████████████████████████████████████████████▏                  | 205/268 [03:48<01:05,  1.04s/it]"
     ]
    },
    {
     "name": "stdout",
     "output_type": "stream",
     "text": [
      "Downloaded: downloaded_videos\\hd-808321904744283.mp4\n"
     ]
    },
    {
     "name": "stderr",
     "output_type": "stream",
     "text": [
      " 77%|█████████████████████████████████████████████████████████████▍                  | 206/268 [03:49<01:06,  1.08s/it]"
     ]
    },
    {
     "name": "stdout",
     "output_type": "stream",
     "text": [
      "Downloaded: downloaded_videos\\hd-808097524590260.mp4\n"
     ]
    },
    {
     "name": "stderr",
     "output_type": "stream",
     "text": [
      " 77%|█████████████████████████████████████████████████████████████▊                  | 207/268 [03:50<01:07,  1.10s/it]"
     ]
    },
    {
     "name": "stdout",
     "output_type": "stream",
     "text": [
      "Downloaded: downloaded_videos\\hd-807800198130528.mp4\n"
     ]
    },
    {
     "name": "stderr",
     "output_type": "stream",
     "text": [
      " 78%|██████████████████████████████████████████████████████████████                  | 208/268 [03:51<01:02,  1.04s/it]"
     ]
    },
    {
     "name": "stdout",
     "output_type": "stream",
     "text": [
      "Downloaded: downloaded_videos\\hd-806751788307038.mp4\n"
     ]
    },
    {
     "name": "stderr",
     "output_type": "stream",
     "text": [
      " 78%|██████████████████████████████████████████████████████████████▍                 | 209/268 [03:52<01:01,  1.04s/it]"
     ]
    },
    {
     "name": "stdout",
     "output_type": "stream",
     "text": [
      "Downloaded: downloaded_videos\\hd-8057957437624799.mp4\n"
     ]
    },
    {
     "name": "stderr",
     "output_type": "stream",
     "text": [
      " 78%|██████████████████████████████████████████████████████████████▋                 | 210/268 [03:53<00:59,  1.03s/it]"
     ]
    },
    {
     "name": "stdout",
     "output_type": "stream",
     "text": [
      "Downloaded: downloaded_videos\\hd-803990118540094.mp4\n"
     ]
    },
    {
     "name": "stderr",
     "output_type": "stream",
     "text": [
      " 79%|██████████████████████████████████████████████████████████████▉                 | 211/268 [03:54<00:55,  1.02it/s]"
     ]
    },
    {
     "name": "stdout",
     "output_type": "stream",
     "text": [
      "Downloaded: downloaded_videos\\hd-803897110603133.mp4\n"
     ]
    },
    {
     "name": "stderr",
     "output_type": "stream",
     "text": [
      " 79%|███████████████████████████████████████████████████████████████▎                | 212/268 [03:55<00:54,  1.03it/s]"
     ]
    },
    {
     "name": "stdout",
     "output_type": "stream",
     "text": [
      "Downloaded: downloaded_videos\\hd-802443478544141.mp4\n"
     ]
    },
    {
     "name": "stderr",
     "output_type": "stream",
     "text": [
      " 79%|███████████████████████████████████████████████████████████████▌                | 213/268 [03:56<00:54,  1.00it/s]"
     ]
    },
    {
     "name": "stdout",
     "output_type": "stream",
     "text": [
      "Downloaded: downloaded_videos\\hd-8008073409211713.mp4\n"
     ]
    },
    {
     "name": "stderr",
     "output_type": "stream",
     "text": [
      " 80%|███████████████████████████████████████████████████████████████▉                | 214/268 [03:57<00:52,  1.02it/s]"
     ]
    },
    {
     "name": "stdout",
     "output_type": "stream",
     "text": [
      "Downloaded: downloaded_videos\\hd-7995631707140182.mp4\n"
     ]
    },
    {
     "name": "stderr",
     "output_type": "stream",
     "text": [
      " 80%|████████████████████████████████████████████████████████████████▏               | 215/268 [03:58<00:50,  1.06it/s]"
     ]
    },
    {
     "name": "stdout",
     "output_type": "stream",
     "text": [
      "Downloaded: downloaded_videos\\hd-797179088937277.mp4\n"
     ]
    },
    {
     "name": "stderr",
     "output_type": "stream",
     "text": [
      " 81%|████████████████████████████████████████████████████████████████▍               | 216/268 [03:59<00:55,  1.06s/it]"
     ]
    },
    {
     "name": "stdout",
     "output_type": "stream",
     "text": [
      "Downloaded: downloaded_videos\\hd-797024995612413.mp4\n"
     ]
    },
    {
     "name": "stderr",
     "output_type": "stream",
     "text": [
      " 81%|████████████████████████████████████████████████████████████████▊               | 217/268 [04:00<00:53,  1.05s/it]"
     ]
    },
    {
     "name": "stdout",
     "output_type": "stream",
     "text": [
      "Downloaded: downloaded_videos\\hd-796944101940903.mp4\n"
     ]
    },
    {
     "name": "stderr",
     "output_type": "stream",
     "text": [
      " 81%|█████████████████████████████████████████████████████████████████               | 218/268 [04:01<00:53,  1.07s/it]"
     ]
    },
    {
     "name": "stdout",
     "output_type": "stream",
     "text": [
      "Downloaded: downloaded_videos\\hd-793257836073148.mp4\n"
     ]
    },
    {
     "name": "stderr",
     "output_type": "stream",
     "text": [
      " 82%|█████████████████████████████████████████████████████████████████▎              | 219/268 [04:02<00:51,  1.06s/it]"
     ]
    },
    {
     "name": "stdout",
     "output_type": "stream",
     "text": [
      "Downloaded: downloaded_videos\\hd-791572172961239.mp4\n"
     ]
    },
    {
     "name": "stderr",
     "output_type": "stream",
     "text": [
      " 82%|█████████████████████████████████████████████████████████████████▋              | 220/268 [04:03<00:49,  1.03s/it]"
     ]
    },
    {
     "name": "stdout",
     "output_type": "stream",
     "text": [
      "Downloaded: downloaded_videos\\hd-790055392972248.mp4\n"
     ]
    },
    {
     "name": "stderr",
     "output_type": "stream",
     "text": [
      " 82%|█████████████████████████████████████████████████████████████████▉              | 221/268 [04:04<00:47,  1.00s/it]"
     ]
    },
    {
     "name": "stdout",
     "output_type": "stream",
     "text": [
      "Downloaded: downloaded_videos\\hd-789793989900194.mp4\n"
     ]
    },
    {
     "name": "stderr",
     "output_type": "stream",
     "text": [
      " 83%|██████████████████████████████████████████████████████████████████▎             | 222/268 [04:05<00:46,  1.02s/it]"
     ]
    },
    {
     "name": "stdout",
     "output_type": "stream",
     "text": [
      "Downloaded: downloaded_videos\\hd-789715035654710.mp4\n"
     ]
    },
    {
     "name": "stderr",
     "output_type": "stream",
     "text": [
      " 83%|██████████████████████████████████████████████████████████████████▌             | 223/268 [04:06<00:44,  1.01it/s]"
     ]
    },
    {
     "name": "stdout",
     "output_type": "stream",
     "text": [
      "Downloaded: downloaded_videos\\hd-786610583313461.mp4\n"
     ]
    },
    {
     "name": "stderr",
     "output_type": "stream",
     "text": [
      " 84%|██████████████████████████████████████████████████████████████████▊             | 224/268 [04:07<00:43,  1.00it/s]"
     ]
    },
    {
     "name": "stdout",
     "output_type": "stream",
     "text": [
      "Downloaded: downloaded_videos\\hd-696006115320413.mp4\n"
     ]
    },
    {
     "name": "stderr",
     "output_type": "stream",
     "text": [
      " 84%|███████████████████████████████████████████████████████████████████▏            | 225/268 [04:08<00:43,  1.01s/it]"
     ]
    },
    {
     "name": "stdout",
     "output_type": "stream",
     "text": [
      "Downloaded: downloaded_videos\\hd-695130362192250.mp4\n"
     ]
    },
    {
     "name": "stderr",
     "output_type": "stream",
     "text": [
      " 84%|███████████████████████████████████████████████████████████████████▍            | 226/268 [04:09<00:43,  1.02s/it]"
     ]
    },
    {
     "name": "stdout",
     "output_type": "stream",
     "text": [
      "Downloaded: downloaded_videos\\hd-694675672308301.mp4\n"
     ]
    },
    {
     "name": "stderr",
     "output_type": "stream",
     "text": [
      " 85%|███████████████████████████████████████████████████████████████████▊            | 227/268 [04:10<00:42,  1.03s/it]"
     ]
    },
    {
     "name": "stdout",
     "output_type": "stream",
     "text": [
      "Downloaded: downloaded_videos\\hd-693988272279384.mp4\n"
     ]
    },
    {
     "name": "stderr",
     "output_type": "stream",
     "text": [
      " 85%|████████████████████████████████████████████████████████████████████            | 228/268 [04:11<00:40,  1.01s/it]"
     ]
    },
    {
     "name": "stdout",
     "output_type": "stream",
     "text": [
      "Downloaded: downloaded_videos\\hd-691857912087615.mp4\n"
     ]
    },
    {
     "name": "stderr",
     "output_type": "stream",
     "text": [
      " 85%|████████████████████████████████████████████████████████████████████▎           | 229/268 [04:12<00:39,  1.01s/it]"
     ]
    },
    {
     "name": "stdout",
     "output_type": "stream",
     "text": [
      "Downloaded: downloaded_videos\\hd-691581235967071.mp4\n"
     ]
    },
    {
     "name": "stderr",
     "output_type": "stream",
     "text": [
      " 86%|████████████████████████████████████████████████████████████████████▋           | 230/268 [04:13<00:38,  1.01s/it]"
     ]
    },
    {
     "name": "stdout",
     "output_type": "stream",
     "text": [
      "Downloaded: downloaded_videos\\hd-691252805779835.mp4\n"
     ]
    },
    {
     "name": "stderr",
     "output_type": "stream",
     "text": [
      " 86%|████████████████████████████████████████████████████████████████████▉           | 231/268 [04:14<00:37,  1.00s/it]"
     ]
    },
    {
     "name": "stdout",
     "output_type": "stream",
     "text": [
      "Downloaded: downloaded_videos\\hd-690670309134450.mp4\n"
     ]
    },
    {
     "name": "stderr",
     "output_type": "stream",
     "text": [
      " 87%|█████████████████████████████████████████████████████████████████████▎          | 232/268 [04:15<00:35,  1.02it/s]"
     ]
    },
    {
     "name": "stdout",
     "output_type": "stream",
     "text": [
      "Downloaded: downloaded_videos\\hd-690541956158254.mp4\n"
     ]
    },
    {
     "name": "stderr",
     "output_type": "stream",
     "text": [
      " 87%|█████████████████████████████████████████████████████████████████████▌          | 233/268 [04:16<00:33,  1.03it/s]"
     ]
    },
    {
     "name": "stdout",
     "output_type": "stream",
     "text": [
      "Downloaded: downloaded_videos\\hd-689771035910864.mp4\n"
     ]
    },
    {
     "name": "stderr",
     "output_type": "stream",
     "text": [
      " 87%|█████████████████████████████████████████████████████████████████████▊          | 234/268 [04:17<00:32,  1.05it/s]"
     ]
    },
    {
     "name": "stdout",
     "output_type": "stream",
     "text": [
      "Downloaded: downloaded_videos\\hd-689599909618915.mp4\n"
     ]
    },
    {
     "name": "stderr",
     "output_type": "stream",
     "text": [
      " 88%|██████████████████████████████████████████████████████████████████████▏         | 235/268 [04:18<00:31,  1.05it/s]"
     ]
    },
    {
     "name": "stdout",
     "output_type": "stream",
     "text": [
      "Downloaded: downloaded_videos\\hd-689363059404444.mp4\n"
     ]
    },
    {
     "name": "stderr",
     "output_type": "stream",
     "text": [
      " 88%|██████████████████████████████████████████████████████████████████████▍         | 236/268 [04:19<00:30,  1.05it/s]"
     ]
    },
    {
     "name": "stdout",
     "output_type": "stream",
     "text": [
      "Downloaded: downloaded_videos\\hd-688887926060399.mp4\n"
     ]
    },
    {
     "name": "stderr",
     "output_type": "stream",
     "text": [
      " 88%|██████████████████████████████████████████████████████████████████████▋         | 237/268 [04:20<00:30,  1.03it/s]"
     ]
    },
    {
     "name": "stdout",
     "output_type": "stream",
     "text": [
      "Downloaded: downloaded_videos\\hd-687665956347322.mp4\n"
     ]
    },
    {
     "name": "stderr",
     "output_type": "stream",
     "text": [
      " 89%|███████████████████████████████████████████████████████████████████████         | 238/268 [04:21<00:29,  1.02it/s]"
     ]
    },
    {
     "name": "stdout",
     "output_type": "stream",
     "text": [
      "Downloaded: downloaded_videos\\hd-687024156350870.mp4\n"
     ]
    },
    {
     "name": "stderr",
     "output_type": "stream",
     "text": [
      " 89%|███████████████████████████████████████████████████████████████████████▎        | 239/268 [04:22<00:28,  1.03it/s]"
     ]
    },
    {
     "name": "stdout",
     "output_type": "stream",
     "text": [
      "Downloaded: downloaded_videos\\hd-686488653080244.mp4\n"
     ]
    },
    {
     "name": "stderr",
     "output_type": "stream",
     "text": [
      " 90%|███████████████████████████████████████████████████████████████████████▋        | 240/268 [04:23<00:27,  1.03it/s]"
     ]
    },
    {
     "name": "stdout",
     "output_type": "stream",
     "text": [
      "Downloaded: downloaded_videos\\hd-686083626588321.mp4\n"
     ]
    },
    {
     "name": "stderr",
     "output_type": "stream",
     "text": [
      " 90%|███████████████████████████████████████████████████████████████████████▉        | 241/268 [04:24<00:26,  1.03it/s]"
     ]
    },
    {
     "name": "stdout",
     "output_type": "stream",
     "text": [
      "Downloaded: downloaded_videos\\hd-684364333171304.mp4\n"
     ]
    },
    {
     "name": "stderr",
     "output_type": "stream",
     "text": [
      " 90%|████████████████████████████████████████████████████████████████████████▏       | 242/268 [04:25<00:25,  1.01it/s]"
     ]
    },
    {
     "name": "stdout",
     "output_type": "stream",
     "text": [
      "Downloaded: downloaded_videos\\hd-684264882912286.mp4\n"
     ]
    },
    {
     "name": "stderr",
     "output_type": "stream",
     "text": [
      " 91%|████████████████████████████████████████████████████████████████████████▌       | 243/268 [04:36<01:40,  4.01s/it]"
     ]
    },
    {
     "name": "stdout",
     "output_type": "stream",
     "text": [
      "Error downloading https://fgimagestorage.blob.core.windows.net/facebook-assets/hd-6837957766319053: HTTPSConnectionPool(host='fgimagestorage.blob.core.windows.net', port=443): Max retries exceeded with url: /facebook-assets/hd-6837957766319053 (Caused by NameResolutionError(\"<urllib3.connection.HTTPSConnection object at 0x0000023970606170>: Failed to resolve 'fgimagestorage.blob.core.windows.net' ([Errno 11001] getaddrinfo failed)\"))\n"
     ]
    },
    {
     "name": "stderr",
     "output_type": "stream",
     "text": [
      " 91%|████████████████████████████████████████████████████████████████████████▊       | 244/268 [04:37<01:16,  3.17s/it]"
     ]
    },
    {
     "name": "stdout",
     "output_type": "stream",
     "text": [
      "Downloaded: downloaded_videos\\hd-682791943270614.mp4\n"
     ]
    },
    {
     "name": "stderr",
     "output_type": "stream",
     "text": [
      " 91%|█████████████████████████████████████████████████████████████████████████▏      | 245/268 [04:38<00:57,  2.50s/it]"
     ]
    },
    {
     "name": "stdout",
     "output_type": "stream",
     "text": [
      "Downloaded: downloaded_videos\\hd-682596103528135.mp4\n"
     ]
    },
    {
     "name": "stderr",
     "output_type": "stream",
     "text": [
      " 92%|█████████████████████████████████████████████████████████████████████████▍      | 246/268 [04:39<00:45,  2.06s/it]"
     ]
    },
    {
     "name": "stdout",
     "output_type": "stream",
     "text": [
      "Downloaded: downloaded_videos\\hd-680549530054789.mp4\n"
     ]
    },
    {
     "name": "stderr",
     "output_type": "stream",
     "text": [
      " 92%|█████████████████████████████████████████████████████████████████████████▋      | 247/268 [04:40<00:36,  1.73s/it]"
     ]
    },
    {
     "name": "stdout",
     "output_type": "stream",
     "text": [
      "Downloaded: downloaded_videos\\hd-680540137074841.mp4\n"
     ]
    },
    {
     "name": "stderr",
     "output_type": "stream",
     "text": [
      " 93%|██████████████████████████████████████████████████████████████████████████      | 248/268 [04:41<00:30,  1.52s/it]"
     ]
    },
    {
     "name": "stdout",
     "output_type": "stream",
     "text": [
      "Downloaded: downloaded_videos\\hd-680162593779089.mp4\n"
     ]
    },
    {
     "name": "stderr",
     "output_type": "stream",
     "text": [
      " 93%|██████████████████████████████████████████████████████████████████████████▎     | 249/268 [04:42<00:26,  1.38s/it]"
     ]
    },
    {
     "name": "stdout",
     "output_type": "stream",
     "text": [
      "Downloaded: downloaded_videos\\hd-679261516829908.mp4\n"
     ]
    },
    {
     "name": "stderr",
     "output_type": "stream",
     "text": [
      " 93%|██████████████████████████████████████████████████████████████████████████▋     | 250/268 [04:43<00:22,  1.28s/it]"
     ]
    },
    {
     "name": "stdout",
     "output_type": "stream",
     "text": [
      "Downloaded: downloaded_videos\\hd-678133704039459.mp4\n"
     ]
    },
    {
     "name": "stderr",
     "output_type": "stream",
     "text": [
      " 94%|██████████████████████████████████████████████████████████████████████████▉     | 251/268 [04:44<00:20,  1.18s/it]"
     ]
    },
    {
     "name": "stdout",
     "output_type": "stream",
     "text": [
      "Downloaded: downloaded_videos\\hd-676770877464110.mp4\n"
     ]
    },
    {
     "name": "stderr",
     "output_type": "stream",
     "text": [
      " 94%|███████████████████████████████████████████████████████████████████████████▏    | 252/268 [04:45<00:18,  1.17s/it]"
     ]
    },
    {
     "name": "stdout",
     "output_type": "stream",
     "text": [
      "Downloaded: downloaded_videos\\hd-6764280623620361.mp4\n"
     ]
    },
    {
     "name": "stderr",
     "output_type": "stream",
     "text": [
      " 94%|███████████████████████████████████████████████████████████████████████████▌    | 253/268 [04:46<00:16,  1.11s/it]"
     ]
    },
    {
     "name": "stdout",
     "output_type": "stream",
     "text": [
      "Downloaded: downloaded_videos\\hd-673961584214053.mp4\n"
     ]
    },
    {
     "name": "stderr",
     "output_type": "stream",
     "text": [
      " 95%|███████████████████████████████████████████████████████████████████████████▊    | 254/268 [04:47<00:14,  1.03s/it]"
     ]
    },
    {
     "name": "stdout",
     "output_type": "stream",
     "text": [
      "Downloaded: downloaded_videos\\hd-6720438181324436.mp4\n"
     ]
    },
    {
     "name": "stderr",
     "output_type": "stream",
     "text": [
      " 95%|████████████████████████████████████████████████████████████████████████████    | 255/268 [04:48<00:12,  1.02it/s]"
     ]
    },
    {
     "name": "stdout",
     "output_type": "stream",
     "text": [
      "Downloaded: downloaded_videos\\hd-671839840899900.mp4\n"
     ]
    },
    {
     "name": "stderr",
     "output_type": "stream",
     "text": [
      " 96%|████████████████████████████████████████████████████████████████████████████▍   | 256/268 [04:49<00:11,  1.01it/s]"
     ]
    },
    {
     "name": "stdout",
     "output_type": "stream",
     "text": [
      "Downloaded: downloaded_videos\\hd-429145826826558.mp4\n"
     ]
    },
    {
     "name": "stderr",
     "output_type": "stream",
     "text": [
      " 96%|████████████████████████████████████████████████████████████████████████████▋   | 257/268 [04:50<00:10,  1.02it/s]"
     ]
    },
    {
     "name": "stdout",
     "output_type": "stream",
     "text": [
      "Downloaded: downloaded_videos\\hd-427878012859864.mp4\n"
     ]
    },
    {
     "name": "stderr",
     "output_type": "stream",
     "text": [
      " 96%|█████████████████████████████████████████████████████████████████████████████   | 258/268 [04:51<00:09,  1.01it/s]"
     ]
    },
    {
     "name": "stdout",
     "output_type": "stream",
     "text": [
      "Downloaded: downloaded_videos\\hd-426644026275739.mp4\n"
     ]
    },
    {
     "name": "stderr",
     "output_type": "stream",
     "text": [
      " 97%|█████████████████████████████████████████████████████████████████████████████▎  | 259/268 [04:52<00:09,  1.00s/it]"
     ]
    },
    {
     "name": "stdout",
     "output_type": "stream",
     "text": [
      "Downloaded: downloaded_videos\\hd-425151876539382.mp4\n"
     ]
    },
    {
     "name": "stderr",
     "output_type": "stream",
     "text": [
      " 97%|█████████████████████████████████████████████████████████████████████████████▌  | 260/268 [04:53<00:08,  1.01s/it]"
     ]
    },
    {
     "name": "stdout",
     "output_type": "stream",
     "text": [
      "Downloaded: downloaded_videos\\hd-424802420355057.mp4\n"
     ]
    },
    {
     "name": "stderr",
     "output_type": "stream",
     "text": [
      " 97%|█████████████████████████████████████████████████████████████████████████████▉  | 261/268 [04:54<00:06,  1.03it/s]"
     ]
    },
    {
     "name": "stdout",
     "output_type": "stream",
     "text": [
      "Downloaded: downloaded_videos\\hd-424394867097391.mp4\n"
     ]
    },
    {
     "name": "stderr",
     "output_type": "stream",
     "text": [
      " 98%|██████████████████████████████████████████████████████████████████████████████▏ | 262/268 [04:55<00:05,  1.05it/s]"
     ]
    },
    {
     "name": "stdout",
     "output_type": "stream",
     "text": [
      "Downloaded: downloaded_videos\\hd-1698824364241828.mp4\n"
     ]
    },
    {
     "name": "stderr",
     "output_type": "stream",
     "text": [
      " 98%|██████████████████████████████████████████████████████████████████████████████▌ | 263/268 [04:56<00:04,  1.06it/s]"
     ]
    },
    {
     "name": "stdout",
     "output_type": "stream",
     "text": [
      "Downloaded: downloaded_videos\\hd-1693566687752051.mp4\n"
     ]
    },
    {
     "name": "stderr",
     "output_type": "stream",
     "text": [
      " 99%|██████████████████████████████████████████████████████████████████████████████▊ | 264/268 [04:57<00:03,  1.02it/s]"
     ]
    },
    {
     "name": "stdout",
     "output_type": "stream",
     "text": [
      "Downloaded: downloaded_videos\\hd-1689212771862832.mp4\n"
     ]
    },
    {
     "name": "stderr",
     "output_type": "stream",
     "text": [
      " 99%|███████████████████████████████████████████████████████████████████████████████ | 265/268 [04:58<00:02,  1.03it/s]"
     ]
    },
    {
     "name": "stdout",
     "output_type": "stream",
     "text": [
      "Downloaded: downloaded_videos\\hd-1685108828975354.mp4\n"
     ]
    },
    {
     "name": "stderr",
     "output_type": "stream",
     "text": [
      " 99%|███████████████████████████████████████████████████████████████████████████████▍| 266/268 [04:59<00:02,  1.11s/it]"
     ]
    },
    {
     "name": "stdout",
     "output_type": "stream",
     "text": [
      "Downloaded: downloaded_videos\\hd-1119706949586170.mp4\n"
     ]
    },
    {
     "name": "stderr",
     "output_type": "stream",
     "text": [
      "100%|███████████████████████████████████████████████████████████████████████████████▋| 267/268 [05:00<00:01,  1.06s/it]"
     ]
    },
    {
     "name": "stdout",
     "output_type": "stream",
     "text": [
      "Downloaded: downloaded_videos\\hd-1119272995406354.mp4\n"
     ]
    },
    {
     "name": "stderr",
     "output_type": "stream",
     "text": [
      "100%|████████████████████████████████████████████████████████████████████████████████| 268/268 [05:01<00:00,  1.13s/it]"
     ]
    },
    {
     "name": "stdout",
     "output_type": "stream",
     "text": [
      "Downloaded: downloaded_videos\\hd-1118763132933218.mp4\n"
     ]
    },
    {
     "name": "stderr",
     "output_type": "stream",
     "text": [
      "\n"
     ]
    }
   ],
   "source": [
    "import os\n",
    "import requests\n",
    "from tqdm import tqdm  # For a progress bar\n",
    "import pandas as pd\n",
    "\n",
    "# Load the CSV file\n",
    "file_path = 'AssignmentData.csv'\n",
    "data = pd.read_csv(file_path)\n",
    "\n",
    "# Create a directory to save the downloaded videos\n",
    "download_dir = 'downloaded_videos'\n",
    "os.makedirs(download_dir, exist_ok=True)\n",
    "\n",
    "# Iterate through the URLs and download the videos\n",
    "for idx, url in tqdm(enumerate(data['Video URL']), total=len(data)):\n",
    "    try:\n",
    "        # Extract file name from the URL\n",
    "        file_name_from_url = url.split('/')[-1] + '.mp4'  # Take last part of URL and add .mp4\n",
    "        file_path = os.path.join(download_dir, file_name_from_url)\n",
    "        \n",
    "        # Download the video\n",
    "        response = requests.get(url, stream=True)\n",
    "        if response.status_code == 200:\n",
    "            with open(file_path, 'wb') as f:\n",
    "                for chunk in response.iter_content(chunk_size=8192):\n",
    "                    f.write(chunk)\n",
    "            print(f\"Downloaded: {file_path}\")\n",
    "        else:\n",
    "            print(f\"Failed to download: {url} (Status Code: {response.status_code})\")\n",
    "    except Exception as e:\n",
    "        print(f\"Error downloading {url}: {e}\")\n"
   ]
  },
  {
   "cell_type": "code",
   "execution_count": 4,
   "id": "c8339ae2-3587-4036-bad0-de0c8cb97bbf",
   "metadata": {},
   "outputs": [
    {
     "name": "stdout",
     "output_type": "stream",
     "text": [
      "Duplicates saved in their respective directories:\n",
      "Hash: a90e954df70a69a0e69057a72f17a328 -> Directory: duplicates\\a90e954df70a69a0e69057a72f17a328\n",
      "Hash: 84f96a2e9318a36eaff2c22ac0dbfa20 -> Directory: duplicates\\84f96a2e9318a36eaff2c22ac0dbfa20\n",
      "Hash: f53dba7891c00eda09c02649de831dab -> Directory: duplicates\\f53dba7891c00eda09c02649de831dab\n",
      "Hash: 28537714e547a673e5d070a292f5bd93 -> Directory: duplicates\\28537714e547a673e5d070a292f5bd93\n",
      "Hash: a6b2fdedbba69a7aad29927a917f4458 -> Directory: duplicates\\a6b2fdedbba69a7aad29927a917f4458\n",
      "Hash: 3b703bfd5f4395ad8da41764beabd825 -> Directory: duplicates\\3b703bfd5f4395ad8da41764beabd825\n",
      "Hash: 07442c85ffbd70b4714b8955949b19b9 -> Directory: duplicates\\07442c85ffbd70b4714b8955949b19b9\n",
      "Hash: bf2f6e0c1e6c758796ccab2e5546c383 -> Directory: duplicates\\bf2f6e0c1e6c758796ccab2e5546c383\n",
      "Hash: eec4394f6a1bb7e802fa3d69283acebe -> Directory: duplicates\\eec4394f6a1bb7e802fa3d69283acebe\n",
      "Hash: 9f57f3e4350e4aa3d29d8a434f6dc9f1 -> Directory: duplicates\\9f57f3e4350e4aa3d29d8a434f6dc9f1\n",
      "Hash: 367638e8cafbd7f1ff7e41b340924e49 -> Directory: duplicates\\367638e8cafbd7f1ff7e41b340924e49\n",
      "Hash: ff3dd0f222e0b504b36c856d307b082f -> Directory: duplicates\\ff3dd0f222e0b504b36c856d307b082f\n",
      "Hash: d55557bd4332c04edc9f9505a1341814 -> Directory: duplicates\\d55557bd4332c04edc9f9505a1341814\n",
      "Hash: 2815cd25f1bf751b1c3282b0e406bdac -> Directory: duplicates\\2815cd25f1bf751b1c3282b0e406bdac\n",
      "Hash: f8b549c412a3b5585b5c352e708e911b -> Directory: duplicates\\f8b549c412a3b5585b5c352e708e911b\n",
      "Hash: ad1f9800f36fac0b2ac08df0789b1f31 -> Directory: duplicates\\ad1f9800f36fac0b2ac08df0789b1f31\n",
      "Hash: 0b48c0334fbbd6165ab56eb8558c39c4 -> Directory: duplicates\\0b48c0334fbbd6165ab56eb8558c39c4\n",
      "Hash: 5c93e34a3bf1dddeac55fd515bd9b462 -> Directory: duplicates\\5c93e34a3bf1dddeac55fd515bd9b462\n",
      "Hash: 31f7dbb597bccd3d34b6d9c5723fee6b -> Directory: duplicates\\31f7dbb597bccd3d34b6d9c5723fee6b\n",
      "Hash: 6d1f912d321ad6a56c152d73a31b4b21 -> Directory: duplicates\\6d1f912d321ad6a56c152d73a31b4b21\n",
      "Hash: 6f0e6736916c01c91e9bb08f3c8ec12b -> Directory: duplicates\\6f0e6736916c01c91e9bb08f3c8ec12b\n",
      "Hash: dcae0161fdc53016df5201ba2140e698 -> Directory: duplicates\\dcae0161fdc53016df5201ba2140e698\n",
      "Hash: c31d113ae0b7a5d763e89f16684db241 -> Directory: duplicates\\c31d113ae0b7a5d763e89f16684db241\n",
      "Hash: 02e5422aab7de6f8c7085c49e3dcfbd0 -> Directory: duplicates\\02e5422aab7de6f8c7085c49e3dcfbd0\n",
      "Hash: 6f5048b60c8e15bb71ff9fe4297c6a9a -> Directory: duplicates\\6f5048b60c8e15bb71ff9fe4297c6a9a\n",
      "Hash: 5b348c2b378d5d06b41058f6ab1acd87 -> Directory: duplicates\\5b348c2b378d5d06b41058f6ab1acd87\n",
      "Hash: 2f7a6b1eb3db313ee03a9cdd9b5f612d -> Directory: duplicates\\2f7a6b1eb3db313ee03a9cdd9b5f612d\n",
      "Hash: 27c17d1425d8353cb99b891ee378aaa2 -> Directory: duplicates\\27c17d1425d8353cb99b891ee378aaa2\n",
      "Hash: 42eb2edb762f429e921cc34d71e3652c -> Directory: duplicates\\42eb2edb762f429e921cc34d71e3652c\n",
      "Hash: 861af745863aaee2f6221dbf8aae8f01 -> Directory: duplicates\\861af745863aaee2f6221dbf8aae8f01\n",
      "Hash: ccbff97faf9201c2b167b0c6fe2698f3 -> Directory: duplicates\\ccbff97faf9201c2b167b0c6fe2698f3\n",
      "Hash: 85864627c2342b749f422d188fa19f98 -> Directory: duplicates\\85864627c2342b749f422d188fa19f98\n",
      "Hash: 9391e2edd5ac0a4ce73889dffcf6c326 -> Directory: duplicates\\9391e2edd5ac0a4ce73889dffcf6c326\n",
      "Hash: 83432c9a3a854a5f654fcf246d66b8dd -> Directory: duplicates\\83432c9a3a854a5f654fcf246d66b8dd\n",
      "Hash: 5c6f360bda8fab851a3f96f5cad2b18a -> Directory: duplicates\\5c6f360bda8fab851a3f96f5cad2b18a\n",
      "Hash: 09bb89423fc0fc327c8e43e40e94bdec -> Directory: duplicates\\09bb89423fc0fc327c8e43e40e94bdec\n",
      "Hash: d8e384b9c5bb9e919c2a539447afa4ce -> Directory: duplicates\\d8e384b9c5bb9e919c2a539447afa4ce\n",
      "Hash: 2992d6bdeca59b85e54e32b0a4146631 -> Directory: duplicates\\2992d6bdeca59b85e54e32b0a4146631\n",
      "Hash: ce4c02813eaac2bb3e6c3d1c6093abf6 -> Directory: duplicates\\ce4c02813eaac2bb3e6c3d1c6093abf6\n",
      "Hash: 2173f067a16a31c6dd1b625a11bfd19c -> Directory: duplicates\\2173f067a16a31c6dd1b625a11bfd19c\n",
      "Hash: 06ca799d48ae36a9531806afdca88413 -> Directory: duplicates\\06ca799d48ae36a9531806afdca88413\n",
      "Hash: 1f1d3cc657bb2b6dec1e41b5741e1f09 -> Directory: duplicates\\1f1d3cc657bb2b6dec1e41b5741e1f09\n",
      "Hash: ba2ee1ee73c5a33672fa4a0d853a8190 -> Directory: duplicates\\ba2ee1ee73c5a33672fa4a0d853a8190\n",
      "Hash: b77d00ac9de1400ecb0ffc5b70aac51a -> Directory: duplicates\\b77d00ac9de1400ecb0ffc5b70aac51a\n",
      "Hash: 45261982bae50b13b491b8579a80c3bd -> Directory: duplicates\\45261982bae50b13b491b8579a80c3bd\n",
      "Hash: 842548910a3a35523e2d1b33def60dc5 -> Directory: duplicates\\842548910a3a35523e2d1b33def60dc5\n",
      "Hash: ec352aca335930f75c91ec2b8e60c73c -> Directory: duplicates\\ec352aca335930f75c91ec2b8e60c73c\n",
      "Hash: 843ba180c880ce8eb857d34a82b9d7a4 -> Directory: duplicates\\843ba180c880ce8eb857d34a82b9d7a4\n",
      "Hash: aae05ed03e2f6ea3cdb2792e8978d763 -> Directory: duplicates\\aae05ed03e2f6ea3cdb2792e8978d763\n",
      "Hash: cfe34e33e75225e587d7e7209b290f52 -> Directory: duplicates\\cfe34e33e75225e587d7e7209b290f52\n",
      "Hash: b7eb1c03591063a8eba3409829d08381 -> Directory: duplicates\\b7eb1c03591063a8eba3409829d08381\n",
      "Hash: afd36f9d4e305dc522fee08ec33f299d -> Directory: duplicates\\afd36f9d4e305dc522fee08ec33f299d\n",
      "Hash: 5375ca0dc74cac35c0da0f7388ecd8f6 -> Directory: duplicates\\5375ca0dc74cac35c0da0f7388ecd8f6\n",
      "Hash: cd0550c99c10cfa3e4d50752ca8df275 -> Directory: duplicates\\cd0550c99c10cfa3e4d50752ca8df275\n",
      "Hash: d493c65f52df3f52a2545fee044a1751 -> Directory: duplicates\\d493c65f52df3f52a2545fee044a1751\n",
      "Hash: 828de100ddeffb87385f6adbfa8c25b8 -> Directory: duplicates\\828de100ddeffb87385f6adbfa8c25b8\n",
      "Hash: fffc703a7886cdaa832003d16514a313 -> Directory: duplicates\\fffc703a7886cdaa832003d16514a313\n",
      "Hash: 721333549631e9652f3a585b3a296887 -> Directory: duplicates\\721333549631e9652f3a585b3a296887\n",
      "Hash: 7ed5b587b29059486f58041fc2c3ca17 -> Directory: duplicates\\7ed5b587b29059486f58041fc2c3ca17\n",
      "Hash: 3d390df5d70309227d28ac91e3357be3 -> Directory: duplicates\\3d390df5d70309227d28ac91e3357be3\n",
      "Hash: 85f2c5ceddbdc070e9baff2f4e033617 -> Directory: duplicates\\85f2c5ceddbdc070e9baff2f4e033617\n",
      "Hash: d804202f84cf0e2041358adad728a414 -> Directory: duplicates\\d804202f84cf0e2041358adad728a414\n",
      "Hash: 4a5aadc666abae4b9b0b80a0ad2f9865 -> Directory: duplicates\\4a5aadc666abae4b9b0b80a0ad2f9865\n",
      "Hash: 972d1d0935b9119411acfe9cde0f4da2 -> Directory: duplicates\\972d1d0935b9119411acfe9cde0f4da2\n",
      "Hash: a30c6dc2c66472a157c83009d75a0201 -> Directory: duplicates\\a30c6dc2c66472a157c83009d75a0201\n",
      "Hash: 6a93d65eeaab2d86f1732287be95ea7e -> Directory: duplicates\\6a93d65eeaab2d86f1732287be95ea7e\n",
      "Hash: 4f527fa5729695792aa8fc4a53f95a22 -> Directory: duplicates\\4f527fa5729695792aa8fc4a53f95a22\n",
      "Hash: 9f852879ba3602afff06fab9520cb4e0 -> Directory: duplicates\\9f852879ba3602afff06fab9520cb4e0\n",
      "Hash: 58967db3c17d5b7fd36b2c3ed4b0225b -> Directory: duplicates\\58967db3c17d5b7fd36b2c3ed4b0225b\n",
      "Hash: a5e7d9aee9cf32285f2d57cae2af9bdc -> Directory: duplicates\\a5e7d9aee9cf32285f2d57cae2af9bdc\n",
      "Hash: 2a2e503c7a4445c04c91790ffeca8d96 -> Directory: duplicates\\2a2e503c7a4445c04c91790ffeca8d96\n",
      "Hash: 83f346692ce782135b86e6b9375a91d3 -> Directory: duplicates\\83f346692ce782135b86e6b9375a91d3\n",
      "Hash: 4573a7486a7ae43385d01309a7ef4380 -> Directory: duplicates\\4573a7486a7ae43385d01309a7ef4380\n",
      "Hash: 37e2eb5bcd8950b70c43aa992b513f8f -> Directory: duplicates\\37e2eb5bcd8950b70c43aa992b513f8f\n",
      "Hash: 9015a1757693682cb771fef0111c4b12 -> Directory: duplicates\\9015a1757693682cb771fef0111c4b12\n"
     ]
    }
   ],
   "source": [
    "import hashlib\n",
    "import os\n",
    "import shutil  # For moving files\n",
    "\n",
    "def calculate_file_hash(filepath, hash_algorithm='md5'):\n",
    "    hash_func = hashlib.new(hash_algorithm)\n",
    "    with open(filepath, 'rb') as f:\n",
    "        while chunk := f.read(8192):  # Read in chunks\n",
    "            hash_func.update(chunk)\n",
    "    return hash_func.hexdigest()\n",
    "\n",
    "def save_duplicates_in_common_directory(directory, duplicates_base_dir):\n",
    "    hash_map = {}\n",
    "\n",
    "    # Ensure the base directory for duplicates exists\n",
    "    os.makedirs(duplicates_base_dir, exist_ok=True)\n",
    "\n",
    "    for root, _, files in os.walk(directory):\n",
    "        for file in files:\n",
    "            filepath = os.path.join(root, file)\n",
    "            file_hash = calculate_file_hash(filepath)\n",
    "\n",
    "            # If hash exists, move file to its corresponding subdirectory\n",
    "            if file_hash in hash_map:\n",
    "                duplicates_dir = os.path.join(duplicates_base_dir, file_hash)\n",
    "                os.makedirs(duplicates_dir, exist_ok=True)\n",
    "                dest_path = os.path.join(duplicates_dir, os.path.basename(filepath))\n",
    "                shutil.move(filepath, dest_path)\n",
    "            else:\n",
    "                # Create subdirectory for the first occurrence of this hash\n",
    "                duplicates_dir = os.path.join(duplicates_base_dir, file_hash)\n",
    "                os.makedirs(duplicates_dir, exist_ok=True)\n",
    "                dest_path = os.path.join(duplicates_dir, os.path.basename(filepath))\n",
    "                shutil.move(filepath, dest_path)\n",
    "                hash_map[file_hash] = duplicates_dir\n",
    "\n",
    "    return hash_map\n",
    "\n",
    "# Usage\n",
    "video_directory = \"downloaded_videos\"\n",
    "duplicates_base_directory = \"duplicates\"\n",
    "\n",
    "hash_map = save_duplicates_in_common_directory(video_directory, duplicates_base_directory)\n",
    "\n",
    "print(\"Duplicates saved in their respective directories:\")\n",
    "for video_hash, dir_path in hash_map.items():\n",
    "    print(f\"Hash: {video_hash} -> Directory: {dir_path}\")\n"
   ]
  },
  {
   "cell_type": "code",
   "execution_count": 5,
   "id": "b43122b3-9037-4002-938b-75b8481c7bcc",
   "metadata": {},
   "outputs": [
    {
     "name": "stderr",
     "output_type": "stream",
     "text": [
      "100%|███████████████████████████████████████████████████████████████████████████████| 268/268 [00:02<00:00, 100.13it/s]"
     ]
    },
    {
     "name": "stdout",
     "output_type": "stream",
     "text": [
      "Updated CSV saved to: AssignmentData_with_hashes.csv\n"
     ]
    },
    {
     "name": "stderr",
     "output_type": "stream",
     "text": [
      "\n"
     ]
    }
   ],
   "source": [
    "import hashlib\n",
    "import os\n",
    "import pandas as pd\n",
    "from tqdm import tqdm\n",
    "\n",
    "def calculate_file_hash(filepath, hash_algorithm='md5'):\n",
    "    \"\"\"Calculate the hash of a file.\"\"\"\n",
    "    hash_func = hashlib.new(hash_algorithm)\n",
    "    with open(filepath, 'rb') as f:\n",
    "        while chunk := f.read(8192):  # Read in chunks\n",
    "            hash_func.update(chunk)\n",
    "    return hash_func.hexdigest()\n",
    "\n",
    "def map_hashes_to_csv(csv_path, video_dir, output_csv_path, hash_algorithm='md5'):\n",
    "    \"\"\"Add a hash column to the CSV based on the videos in the directory.\"\"\"\n",
    "    # Load the CSV\n",
    "    data = pd.read_csv(csv_path)\n",
    "    hash_column = []\n",
    "\n",
    "    # Map each URL to its corresponding file and calculate hash\n",
    "    for idx, url in tqdm(enumerate(data['Video URL']), total=len(data)):\n",
    "        # Extract the expected file name from the URL\n",
    "        file_name_from_url = url.split('/')[-1] + '.mp4'\n",
    "        file_path = os.path.join(video_dir, file_name_from_url)\n",
    "\n",
    "        if os.path.exists(file_path):\n",
    "            file_hash = calculate_file_hash(file_path, hash_algorithm)\n",
    "        else:\n",
    "            file_hash = None  # If file is missing, mark it as None\n",
    "\n",
    "        hash_column.append(file_hash)\n",
    "\n",
    "    # Add the hash column to the DataFrame\n",
    "    data['Hash'] = hash_column\n",
    "\n",
    "    # Save the updated CSV\n",
    "    data.to_csv(output_csv_path, index=False)\n",
    "    print(f\"Updated CSV saved to: {output_csv_path}\")\n",
    "\n",
    "# Usage\n",
    "csv_path = 'AssignmentData.csv'\n",
    "video_directory = 'downloaded_videos'\n",
    "output_csv_path = 'AssignmentData_with_hashes.csv'\n",
    "\n",
    "map_hashes_to_csv(csv_path, video_directory, output_csv_path)\n"
   ]
  },
  {
   "cell_type": "code",
   "execution_count": 6,
   "id": "cb007db1-9498-496a-9edb-ef9ab3ed3d84",
   "metadata": {},
   "outputs": [
    {
     "name": "stdout",
     "output_type": "stream",
     "text": [
      "Statistics saved to: Hash_Performance_Statistics.csv\n"
     ]
    }
   ],
   "source": [
    "import pandas as pd\n",
    "\n",
    "# Load the input CSV file\n",
    "input_csv = 'AssignmentData_with_hashes.csv'\n",
    "output_csv = 'Hash_Performance_Statistics.csv'\n",
    "\n",
    "# Read the CSV\n",
    "data = pd.read_csv(input_csv)\n",
    "\n",
    "# Ensure there are no empty hash values (optional)\n",
    "data = data.dropna(subset=['Hash'])\n",
    "\n",
    "# Group by the Hash column and calculate statistics\n",
    "summary = data.groupby('Hash').agg(\n",
    "    Avg_Performance=('Performance', 'mean'),\n",
    "    Frequency=('Performance', 'count')\n",
    ").reset_index()\n",
    "\n",
    "# Save the results to a new CSV file\n",
    "summary.to_csv(output_csv, index=False)\n",
    "\n",
    "print(f\"Statistics saved to: {output_csv}\")\n"
   ]
  },
  {
   "cell_type": "code",
   "execution_count": 7,
   "id": "14704e2f-3594-4707-bfec-deeacf2d4d49",
   "metadata": {},
   "outputs": [
    {
     "name": "stdout",
     "output_type": "stream",
     "text": [
      "Removed duplicate: duplicates\\02e5422aab7de6f8c7085c49e3dcfbd0\\hd-815391233916449.mp4\n",
      "Removed duplicate: duplicates\\02e5422aab7de6f8c7085c49e3dcfbd0\\hd-819765763526762.mp4\n",
      "Removed duplicate: duplicates\\02e5422aab7de6f8c7085c49e3dcfbd0\\hd-886609482926268.mp4\n",
      "Removed duplicate: duplicates\\02e5422aab7de6f8c7085c49e3dcfbd0\\hd-911926190614858.mp4\n",
      "Kept: duplicates\\02e5422aab7de6f8c7085c49e3dcfbd0\\hd-790055392972248.mp4\n",
      "Only one file in duplicates\\06ca799d48ae36a9531806afdca88413, no duplicates to remove.\n",
      "Removed duplicate: duplicates\\07442c85ffbd70b4714b8955949b19b9\\hd-883738210384679.mp4\n",
      "Kept: duplicates\\07442c85ffbd70b4714b8955949b19b9\\hd-1698824364241828.mp4\n",
      "Only one file in duplicates\\09bb89423fc0fc327c8e43e40e94bdec, no duplicates to remove.\n",
      "Only one file in duplicates\\0b48c0334fbbd6165ab56eb8558c39c4, no duplicates to remove.\n",
      "Removed duplicate: duplicates\\1f1d3cc657bb2b6dec1e41b5741e1f09\\hd-876121221160846.mp4\n",
      "Removed duplicate: duplicates\\1f1d3cc657bb2b6dec1e41b5741e1f09\\hd-932703258597949.mp4\n",
      "Kept: duplicates\\1f1d3cc657bb2b6dec1e41b5741e1f09\\hd-873317140849832.mp4\n",
      "Removed duplicate: duplicates\\2173f067a16a31c6dd1b625a11bfd19c\\hd-887363366529815.mp4\n",
      "Kept: duplicates\\2173f067a16a31c6dd1b625a11bfd19c\\hd-817477363934899.mp4\n",
      "Only one file in duplicates\\27c17d1425d8353cb99b891ee378aaa2, no duplicates to remove.\n",
      "Only one file in duplicates\\2815cd25f1bf751b1c3282b0e406bdac, no duplicates to remove.\n",
      "Removed duplicate: duplicates\\28537714e547a673e5d070a292f5bd93\\hd-814072014151046.mp4\n",
      "Kept: duplicates\\28537714e547a673e5d070a292f5bd93\\hd-1685108828975354.mp4\n",
      "Removed duplicate: duplicates\\2992d6bdeca59b85e54e32b0a4146631\\hd-929511878466995.mp4\n",
      "Kept: duplicates\\2992d6bdeca59b85e54e32b0a4146631\\hd-816335920524988.mp4\n",
      "Only one file in duplicates\\2a2e503c7a4445c04c91790ffeca8d96, no duplicates to remove.\n",
      "Removed duplicate: duplicates\\2f7a6b1eb3db313ee03a9cdd9b5f612d\\hd-929300948587514.mp4\n",
      "Kept: duplicates\\2f7a6b1eb3db313ee03a9cdd9b5f612d\\hd-797179088937277.mp4\n",
      "Removed duplicate: duplicates\\31f7dbb597bccd3d34b6d9c5723fee6b\\hd-874190910572544.mp4\n",
      "Removed duplicate: duplicates\\31f7dbb597bccd3d34b6d9c5723fee6b\\hd-901272811190482.mp4\n",
      "Removed duplicate: duplicates\\31f7dbb597bccd3d34b6d9c5723fee6b\\hd-904480964010630.mp4\n",
      "Removed duplicate: duplicates\\31f7dbb597bccd3d34b6d9c5723fee6b\\hd-932296771464171.mp4\n",
      "Removed duplicate: duplicates\\31f7dbb597bccd3d34b6d9c5723fee6b\\hd-975523146942238.mp4\n",
      "Kept: duplicates\\31f7dbb597bccd3d34b6d9c5723fee6b\\hd-621652523105267.mp4\n",
      "Only one file in duplicates\\367638e8cafbd7f1ff7e41b340924e49, no duplicates to remove.\n",
      "Only one file in duplicates\\37e2eb5bcd8950b70c43aa992b513f8f, no duplicates to remove.\n",
      "Only one file in duplicates\\3b703bfd5f4395ad8da41764beabd825, no duplicates to remove.\n",
      "Only one file in duplicates\\3d390df5d70309227d28ac91e3357be3, no duplicates to remove.\n",
      "Removed duplicate: duplicates\\42eb2edb762f429e921cc34d71e3652c\\hd-8057957437624799.mp4\n",
      "Removed duplicate: duplicates\\42eb2edb762f429e921cc34d71e3652c\\hd-811606650922029.mp4\n",
      "Removed duplicate: duplicates\\42eb2edb762f429e921cc34d71e3652c\\hd-817763467176157.mp4\n",
      "Kept: duplicates\\42eb2edb762f429e921cc34d71e3652c\\hd-802443478544141.mp4\n",
      "Only one file in duplicates\\45261982bae50b13b491b8579a80c3bd, no duplicates to remove.\n",
      "Only one file in duplicates\\4573a7486a7ae43385d01309a7ef4380, no duplicates to remove.\n",
      "Only one file in duplicates\\4a5aadc666abae4b9b0b80a0ad2f9865, no duplicates to remove.\n",
      "Only one file in duplicates\\4f527fa5729695792aa8fc4a53f95a22, no duplicates to remove.\n",
      "Removed duplicate: duplicates\\5375ca0dc74cac35c0da0f7388ecd8f6\\hd-965108935263649.mp4\n",
      "Kept: duplicates\\5375ca0dc74cac35c0da0f7388ecd8f6\\hd-888062106715252.mp4\n",
      "Only one file in duplicates\\58967db3c17d5b7fd36b2c3ed4b0225b, no duplicates to remove.\n",
      "Removed duplicate: duplicates\\5b348c2b378d5d06b41058f6ab1acd87\\hd-954832972830686.mp4\n",
      "Kept: duplicates\\5b348c2b378d5d06b41058f6ab1acd87\\hd-797024995612413.mp4\n",
      "Only one file in duplicates\\5c6f360bda8fab851a3f96f5cad2b18a, no duplicates to remove.\n",
      "Only one file in duplicates\\5c93e34a3bf1dddeac55fd515bd9b462, no duplicates to remove.\n",
      "Only one file in duplicates\\6a93d65eeaab2d86f1732287be95ea7e, no duplicates to remove.\n",
      "Only one file in duplicates\\6d1f912d321ad6a56c152d73a31b4b21, no duplicates to remove.\n",
      "Only one file in duplicates\\6f0e6736916c01c91e9bb08f3c8ec12b, no duplicates to remove.\n",
      "Only one file in duplicates\\6f5048b60c8e15bb71ff9fe4297c6a9a, no duplicates to remove.\n",
      "Only one file in duplicates\\721333549631e9652f3a585b3a296887, no duplicates to remove.\n",
      "Only one file in duplicates\\7ed5b587b29059486f58041fc2c3ca17, no duplicates to remove.\n",
      "Removed duplicate: duplicates\\828de100ddeffb87385f6adbfa8c25b8\\hd-905739711170399.mp4\n",
      "Kept: duplicates\\828de100ddeffb87385f6adbfa8c25b8\\hd-894559522288371.mp4\n",
      "Removed duplicate: duplicates\\83432c9a3a854a5f654fcf246d66b8dd\\hd-818462803696191.mp4\n",
      "Removed duplicate: duplicates\\83432c9a3a854a5f654fcf246d66b8dd\\hd-818776323774715.mp4\n",
      "Removed duplicate: duplicates\\83432c9a3a854a5f654fcf246d66b8dd\\hd-885209946993560.mp4\n",
      "Kept: duplicates\\83432c9a3a854a5f654fcf246d66b8dd\\hd-808321904744283.mp4\n",
      "Only one file in duplicates\\83f346692ce782135b86e6b9375a91d3, no duplicates to remove.\n",
      "Only one file in duplicates\\842548910a3a35523e2d1b33def60dc5, no duplicates to remove.\n",
      "Only one file in duplicates\\843ba180c880ce8eb857d34a82b9d7a4, no duplicates to remove.\n",
      "Removed duplicate: duplicates\\84f96a2e9318a36eaff2c22ac0dbfa20\\hd-427878012859864.mp4\n",
      "Removed duplicate: duplicates\\84f96a2e9318a36eaff2c22ac0dbfa20\\hd-606237444463640.mp4\n",
      "Removed duplicate: duplicates\\84f96a2e9318a36eaff2c22ac0dbfa20\\hd-6096104653784047.mp4\n",
      "Removed duplicate: duplicates\\84f96a2e9318a36eaff2c22ac0dbfa20\\hd-612426467555072.mp4\n",
      "Removed duplicate: duplicates\\84f96a2e9318a36eaff2c22ac0dbfa20\\hd-613152173490344.mp4\n",
      "Removed duplicate: duplicates\\84f96a2e9318a36eaff2c22ac0dbfa20\\hd-618555366744628.mp4\n",
      "Removed duplicate: duplicates\\84f96a2e9318a36eaff2c22ac0dbfa20\\hd-682596103528135.mp4\n",
      "Removed duplicate: duplicates\\84f96a2e9318a36eaff2c22ac0dbfa20\\hd-686083626588321.mp4\n",
      "Removed duplicate: duplicates\\84f96a2e9318a36eaff2c22ac0dbfa20\\hd-686488653080244.mp4\n",
      "Removed duplicate: duplicates\\84f96a2e9318a36eaff2c22ac0dbfa20\\hd-690670309134450.mp4\n",
      "Removed duplicate: duplicates\\84f96a2e9318a36eaff2c22ac0dbfa20\\hd-691857912087615.mp4\n",
      "Removed duplicate: duplicates\\84f96a2e9318a36eaff2c22ac0dbfa20\\hd-693988272279384.mp4\n",
      "Removed duplicate: duplicates\\84f96a2e9318a36eaff2c22ac0dbfa20\\hd-695130362192250.mp4\n",
      "Removed duplicate: duplicates\\84f96a2e9318a36eaff2c22ac0dbfa20\\hd-813828049840959.mp4\n",
      "Removed duplicate: duplicates\\84f96a2e9318a36eaff2c22ac0dbfa20\\hd-817768845898837.mp4\n",
      "Removed duplicate: duplicates\\84f96a2e9318a36eaff2c22ac0dbfa20\\hd-871037203883530.mp4\n",
      "Removed duplicate: duplicates\\84f96a2e9318a36eaff2c22ac0dbfa20\\hd-871075730546911.mp4\n",
      "Removed duplicate: duplicates\\84f96a2e9318a36eaff2c22ac0dbfa20\\hd-872188860590219.mp4\n",
      "Removed duplicate: duplicates\\84f96a2e9318a36eaff2c22ac0dbfa20\\hd-889375178765113.mp4\n",
      "Removed duplicate: duplicates\\84f96a2e9318a36eaff2c22ac0dbfa20\\hd-889604775414234.mp4\n",
      "Removed duplicate: duplicates\\84f96a2e9318a36eaff2c22ac0dbfa20\\hd-891684945300160.mp4\n",
      "Removed duplicate: duplicates\\84f96a2e9318a36eaff2c22ac0dbfa20\\hd-896843165102015.mp4\n",
      "Removed duplicate: duplicates\\84f96a2e9318a36eaff2c22ac0dbfa20\\hd-898402801287469.mp4\n",
      "Removed duplicate: duplicates\\84f96a2e9318a36eaff2c22ac0dbfa20\\hd-899155277883965.mp4\n",
      "Removed duplicate: duplicates\\84f96a2e9318a36eaff2c22ac0dbfa20\\hd-899987727789409.mp4\n",
      "Removed duplicate: duplicates\\84f96a2e9318a36eaff2c22ac0dbfa20\\hd-907416560296782.mp4\n",
      "Removed duplicate: duplicates\\84f96a2e9318a36eaff2c22ac0dbfa20\\hd-910958533691058.mp4\n",
      "Removed duplicate: duplicates\\84f96a2e9318a36eaff2c22ac0dbfa20\\hd-958774641659407.mp4\n",
      "Kept: duplicates\\84f96a2e9318a36eaff2c22ac0dbfa20\\hd-1119272995406354.mp4\n",
      "Removed duplicate: duplicates\\85864627c2342b749f422d188fa19f98\\hd-989969399547901.mp4\n",
      "Kept: duplicates\\85864627c2342b749f422d188fa19f98\\hd-807800198130528.mp4\n",
      "Removed duplicate: duplicates\\85f2c5ceddbdc070e9baff2f4e033617\\hd-963303392509872.mp4\n",
      "Kept: duplicates\\85f2c5ceddbdc070e9baff2f4e033617\\hd-904174908300812.mp4\n",
      "Only one file in duplicates\\861af745863aaee2f6221dbf8aae8f01, no duplicates to remove.\n",
      "Only one file in duplicates\\9015a1757693682cb771fef0111c4b12, no duplicates to remove.\n",
      "Removed duplicate: duplicates\\9391e2edd5ac0a4ce73889dffcf6c326\\hd-987643572956494.mp4\n",
      "Kept: duplicates\\9391e2edd5ac0a4ce73889dffcf6c326\\hd-808097524590260.mp4\n",
      "Removed duplicate: duplicates\\972d1d0935b9119411acfe9cde0f4da2\\hd-925260332281638.mp4\n",
      "Kept: duplicates\\972d1d0935b9119411acfe9cde0f4da2\\hd-909110383822260.mp4\n",
      "Removed duplicate: duplicates\\9f57f3e4350e4aa3d29d8a434f6dc9f1\\hd-6046690562050296.mp4\n",
      "Removed duplicate: duplicates\\9f57f3e4350e4aa3d29d8a434f6dc9f1\\hd-605272664726548.mp4\n",
      "Removed duplicate: duplicates\\9f57f3e4350e4aa3d29d8a434f6dc9f1\\hd-6172742522782221.mp4\n",
      "Removed duplicate: duplicates\\9f57f3e4350e4aa3d29d8a434f6dc9f1\\hd-620154813059921.mp4\n",
      "Removed duplicate: duplicates\\9f57f3e4350e4aa3d29d8a434f6dc9f1\\hd-621266003076530.mp4\n",
      "Removed duplicate: duplicates\\9f57f3e4350e4aa3d29d8a434f6dc9f1\\hd-679261516829908.mp4\n",
      "Removed duplicate: duplicates\\9f57f3e4350e4aa3d29d8a434f6dc9f1\\hd-680549530054789.mp4\n",
      "Removed duplicate: duplicates\\9f57f3e4350e4aa3d29d8a434f6dc9f1\\hd-684264882912286.mp4\n",
      "Removed duplicate: duplicates\\9f57f3e4350e4aa3d29d8a434f6dc9f1\\hd-688887926060399.mp4\n",
      "Removed duplicate: duplicates\\9f57f3e4350e4aa3d29d8a434f6dc9f1\\hd-689771035910864.mp4\n",
      "Removed duplicate: duplicates\\9f57f3e4350e4aa3d29d8a434f6dc9f1\\hd-691252805779835.mp4\n",
      "Removed duplicate: duplicates\\9f57f3e4350e4aa3d29d8a434f6dc9f1\\hd-696006115320413.mp4\n",
      "Removed duplicate: duplicates\\9f57f3e4350e4aa3d29d8a434f6dc9f1\\hd-789715035654710.mp4\n",
      "Removed duplicate: duplicates\\9f57f3e4350e4aa3d29d8a434f6dc9f1\\hd-796944101940903.mp4\n",
      "Removed duplicate: duplicates\\9f57f3e4350e4aa3d29d8a434f6dc9f1\\hd-8816515918390519.mp4\n",
      "Removed duplicate: duplicates\\9f57f3e4350e4aa3d29d8a434f6dc9f1\\hd-8828692983838031.mp4\n",
      "Removed duplicate: duplicates\\9f57f3e4350e4aa3d29d8a434f6dc9f1\\hd-883246492824014.mp4\n",
      "Removed duplicate: duplicates\\9f57f3e4350e4aa3d29d8a434f6dc9f1\\hd-886049645973007.mp4\n",
      "Removed duplicate: duplicates\\9f57f3e4350e4aa3d29d8a434f6dc9f1\\hd-888056015719840.mp4\n",
      "Removed duplicate: duplicates\\9f57f3e4350e4aa3d29d8a434f6dc9f1\\hd-890005255637433.mp4\n",
      "Removed duplicate: duplicates\\9f57f3e4350e4aa3d29d8a434f6dc9f1\\hd-896598988012982.mp4\n",
      "Removed duplicate: duplicates\\9f57f3e4350e4aa3d29d8a434f6dc9f1\\hd-897680994566577.mp4\n",
      "Removed duplicate: duplicates\\9f57f3e4350e4aa3d29d8a434f6dc9f1\\hd-903060767715541.mp4\n",
      "Removed duplicate: duplicates\\9f57f3e4350e4aa3d29d8a434f6dc9f1\\hd-911172609864769.mp4\n",
      "Removed duplicate: duplicates\\9f57f3e4350e4aa3d29d8a434f6dc9f1\\hd-930116227971248.mp4\n",
      "Removed duplicate: duplicates\\9f57f3e4350e4aa3d29d8a434f6dc9f1\\hd-933773150951550.mp4\n",
      "Removed duplicate: duplicates\\9f57f3e4350e4aa3d29d8a434f6dc9f1\\hd-933913194646448.mp4\n",
      "Removed duplicate: duplicates\\9f57f3e4350e4aa3d29d8a434f6dc9f1\\hd-937410954343974.mp4\n",
      "Removed duplicate: duplicates\\9f57f3e4350e4aa3d29d8a434f6dc9f1\\hd-992064161877405.mp4\n",
      "Kept: duplicates\\9f57f3e4350e4aa3d29d8a434f6dc9f1\\hd-426644026275739.mp4\n",
      "Only one file in duplicates\\9f852879ba3602afff06fab9520cb4e0, no duplicates to remove.\n",
      "Only one file in duplicates\\a30c6dc2c66472a157c83009d75a0201, no duplicates to remove.\n",
      "Only one file in duplicates\\a5e7d9aee9cf32285f2d57cae2af9bdc, no duplicates to remove.\n",
      "Removed duplicate: duplicates\\a6b2fdedbba69a7aad29927a917f4458\\hd-874084244131796.mp4\n",
      "Removed duplicate: duplicates\\a6b2fdedbba69a7aad29927a917f4458\\hd-880340126836307.mp4\n",
      "Kept: duplicates\\a6b2fdedbba69a7aad29927a917f4458\\hd-1689212771862832.mp4\n",
      "Removed duplicate: duplicates\\a90e954df70a69a0e69057a72f17a328\\hd-424394867097391.mp4\n",
      "Removed duplicate: duplicates\\a90e954df70a69a0e69057a72f17a328\\hd-8995485367146316.mp4\n",
      "Removed duplicate: duplicates\\a90e954df70a69a0e69057a72f17a328\\hd-997580728807604.mp4\n",
      "Kept: duplicates\\a90e954df70a69a0e69057a72f17a328\\hd-1118763132933218.mp4\n",
      "Removed duplicate: duplicates\\aae05ed03e2f6ea3cdb2792e8978d763\\hd-986360206629277.mp4\n",
      "Kept: duplicates\\aae05ed03e2f6ea3cdb2792e8978d763\\hd-8796411607036992.mp4\n",
      "Removed duplicate: duplicates\\ad1f9800f36fac0b2ac08df0789b1f31\\hd-617288786873081.mp4\n",
      "Removed duplicate: duplicates\\ad1f9800f36fac0b2ac08df0789b1f31\\hd-881925359723909.mp4\n",
      "Removed duplicate: duplicates\\ad1f9800f36fac0b2ac08df0789b1f31\\hd-903960640750545.mp4\n",
      "Removed duplicate: duplicates\\ad1f9800f36fac0b2ac08df0789b1f31\\hd-924865635226814.mp4\n",
      "Kept: duplicates\\ad1f9800f36fac0b2ac08df0789b1f31\\hd-611188517518682.mp4\n",
      "Only one file in duplicates\\afd36f9d4e305dc522fee08ec33f299d, no duplicates to remove.\n",
      "Only one file in duplicates\\b77d00ac9de1400ecb0ffc5b70aac51a, no duplicates to remove.\n",
      "Only one file in duplicates\\b7eb1c03591063a8eba3409829d08381, no duplicates to remove.\n",
      "Removed duplicate: duplicates\\ba2ee1ee73c5a33672fa4a0d853a8190\\hd-881342303358042.mp4\n",
      "Kept: duplicates\\ba2ee1ee73c5a33672fa4a0d853a8190\\hd-874543520932484.mp4\n",
      "Removed duplicate: duplicates\\bf2f6e0c1e6c758796ccab2e5546c383\\hd-791572172961239.mp4\n",
      "Removed duplicate: duplicates\\bf2f6e0c1e6c758796ccab2e5546c383\\hd-8008073409211713.mp4\n",
      "Removed duplicate: duplicates\\bf2f6e0c1e6c758796ccab2e5546c383\\hd-803990118540094.mp4\n",
      "Kept: duplicates\\bf2f6e0c1e6c758796ccab2e5546c383\\hd-424802420355057.mp4\n",
      "Removed duplicate: duplicates\\c31d113ae0b7a5d763e89f16684db241\\hd-880568190186256.mp4\n",
      "Kept: duplicates\\c31d113ae0b7a5d763e89f16684db241\\hd-789793989900194.mp4\n",
      "Only one file in duplicates\\ccbff97faf9201c2b167b0c6fe2698f3, no duplicates to remove.\n",
      "Only one file in duplicates\\cd0550c99c10cfa3e4d50752ca8df275, no duplicates to remove.\n",
      "Removed duplicate: duplicates\\ce4c02813eaac2bb3e6c3d1c6093abf6\\hd-989930303148492.mp4\n",
      "Kept: duplicates\\ce4c02813eaac2bb3e6c3d1c6093abf6\\hd-817135236672734.mp4\n",
      "Removed duplicate: duplicates\\cfe34e33e75225e587d7e7209b290f52\\hd-888183703182855.mp4\n",
      "Kept: duplicates\\cfe34e33e75225e587d7e7209b290f52\\hd-881270063889884.mp4\n",
      "Removed duplicate: duplicates\\d493c65f52df3f52a2545fee044a1751\\hd-893539262677484.mp4\n",
      "Kept: duplicates\\d493c65f52df3f52a2545fee044a1751\\hd-889728479746704.mp4\n",
      "Only one file in duplicates\\d55557bd4332c04edc9f9505a1341814, no duplicates to remove.\n",
      "Only one file in duplicates\\d804202f84cf0e2041358adad728a414, no duplicates to remove.\n",
      "Only one file in duplicates\\d8e384b9c5bb9e919c2a539447afa4ce, no duplicates to remove.\n",
      "Only one file in duplicates\\dcae0161fdc53016df5201ba2140e698, no duplicates to remove.\n",
      "Removed duplicate: duplicates\\ec352aca335930f75c91ec2b8e60c73c\\hd-891391212618023.mp4\n",
      "Removed duplicate: duplicates\\ec352aca335930f75c91ec2b8e60c73c\\hd-987287402378278.mp4\n",
      "Kept: duplicates\\ec352aca335930f75c91ec2b8e60c73c\\hd-879049300656635.mp4\n",
      "Only one file in duplicates\\eec4394f6a1bb7e802fa3d69283acebe, no duplicates to remove.\n",
      "Only one file in duplicates\\f53dba7891c00eda09c02649de831dab, no duplicates to remove.\n",
      "Removed duplicate: duplicates\\f8b549c412a3b5585b5c352e708e911b\\hd-612555930635832.mp4\n",
      "Removed duplicate: duplicates\\f8b549c412a3b5585b5c352e708e911b\\hd-613417017284998.mp4\n",
      "Removed duplicate: duplicates\\f8b549c412a3b5585b5c352e708e911b\\hd-6174004652651971.mp4\n",
      "Removed duplicate: duplicates\\f8b549c412a3b5585b5c352e708e911b\\hd-673961584214053.mp4\n",
      "Removed duplicate: duplicates\\f8b549c412a3b5585b5c352e708e911b\\hd-676770877464110.mp4\n",
      "Removed duplicate: duplicates\\f8b549c412a3b5585b5c352e708e911b\\hd-678133704039459.mp4\n",
      "Removed duplicate: duplicates\\f8b549c412a3b5585b5c352e708e911b\\hd-680162593779089.mp4\n",
      "Removed duplicate: duplicates\\f8b549c412a3b5585b5c352e708e911b\\hd-680540137074841.mp4\n",
      "Removed duplicate: duplicates\\f8b549c412a3b5585b5c352e708e911b\\hd-682791943270614.mp4\n",
      "Removed duplicate: duplicates\\f8b549c412a3b5585b5c352e708e911b\\hd-6837957766319053.mp4\n",
      "Removed duplicate: duplicates\\f8b549c412a3b5585b5c352e708e911b\\hd-684364333171304.mp4\n",
      "Removed duplicate: duplicates\\f8b549c412a3b5585b5c352e708e911b\\hd-687024156350870.mp4\n",
      "Removed duplicate: duplicates\\f8b549c412a3b5585b5c352e708e911b\\hd-687665956347322.mp4\n",
      "Removed duplicate: duplicates\\f8b549c412a3b5585b5c352e708e911b\\hd-689363059404444.mp4\n",
      "Removed duplicate: duplicates\\f8b549c412a3b5585b5c352e708e911b\\hd-689599909618915.mp4\n",
      "Removed duplicate: duplicates\\f8b549c412a3b5585b5c352e708e911b\\hd-690541956158254.mp4\n",
      "Removed duplicate: duplicates\\f8b549c412a3b5585b5c352e708e911b\\hd-691581235967071.mp4\n",
      "Removed duplicate: duplicates\\f8b549c412a3b5585b5c352e708e911b\\hd-694675672308301.mp4\n",
      "Removed duplicate: duplicates\\f8b549c412a3b5585b5c352e708e911b\\hd-786610583313461.mp4\n",
      "Removed duplicate: duplicates\\f8b549c412a3b5585b5c352e708e911b\\hd-817475239730695.mp4\n",
      "Removed duplicate: duplicates\\f8b549c412a3b5585b5c352e708e911b\\hd-871185627435460.mp4\n",
      "Removed duplicate: duplicates\\f8b549c412a3b5585b5c352e708e911b\\hd-871286287458461.mp4\n",
      "Removed duplicate: duplicates\\f8b549c412a3b5585b5c352e708e911b\\hd-8715627171842855.mp4\n",
      "Removed duplicate: duplicates\\f8b549c412a3b5585b5c352e708e911b\\hd-872222594086011.mp4\n",
      "Removed duplicate: duplicates\\f8b549c412a3b5585b5c352e708e911b\\hd-872400620956045.mp4\n",
      "Removed duplicate: duplicates\\f8b549c412a3b5585b5c352e708e911b\\hd-872760463806517.mp4\n",
      "Removed duplicate: duplicates\\f8b549c412a3b5585b5c352e708e911b\\hd-873043573965895.mp4\n",
      "Removed duplicate: duplicates\\f8b549c412a3b5585b5c352e708e911b\\hd-873560550525047.mp4\n",
      "Removed duplicate: duplicates\\f8b549c412a3b5585b5c352e708e911b\\hd-874747697073121.mp4\n",
      "Removed duplicate: duplicates\\f8b549c412a3b5585b5c352e708e911b\\hd-875485623676104.mp4\n",
      "Removed duplicate: duplicates\\f8b549c412a3b5585b5c352e708e911b\\hd-877129693575192.mp4\n",
      "Removed duplicate: duplicates\\f8b549c412a3b5585b5c352e708e911b\\hd-877511836784655.mp4\n",
      "Removed duplicate: duplicates\\f8b549c412a3b5585b5c352e708e911b\\hd-877662697022279.mp4\n",
      "Removed duplicate: duplicates\\f8b549c412a3b5585b5c352e708e911b\\hd-877975993416760.mp4\n",
      "Removed duplicate: duplicates\\f8b549c412a3b5585b5c352e708e911b\\hd-8806609246079208.mp4\n",
      "Removed duplicate: duplicates\\f8b549c412a3b5585b5c352e708e911b\\hd-882867522830120.mp4\n",
      "Removed duplicate: duplicates\\f8b549c412a3b5585b5c352e708e911b\\hd-882993126248062.mp4\n",
      "Removed duplicate: duplicates\\f8b549c412a3b5585b5c352e708e911b\\hd-885689066019680.mp4\n",
      "Removed duplicate: duplicates\\f8b549c412a3b5585b5c352e708e911b\\hd-890166872024685.mp4\n",
      "Removed duplicate: duplicates\\f8b549c412a3b5585b5c352e708e911b\\hd-891661008828094.mp4\n",
      "Removed duplicate: duplicates\\f8b549c412a3b5585b5c352e708e911b\\hd-892383375224287.mp4\n",
      "Removed duplicate: duplicates\\f8b549c412a3b5585b5c352e708e911b\\hd-893173505441981.mp4\n",
      "Removed duplicate: duplicates\\f8b549c412a3b5585b5c352e708e911b\\hd-894066258497958.mp4\n",
      "Removed duplicate: duplicates\\f8b549c412a3b5585b5c352e708e911b\\hd-894457734962164.mp4\n",
      "Removed duplicate: duplicates\\f8b549c412a3b5585b5c352e708e911b\\hd-895042408159688.mp4\n",
      "Removed duplicate: duplicates\\f8b549c412a3b5585b5c352e708e911b\\hd-896589688256009.mp4\n",
      "Removed duplicate: duplicates\\f8b549c412a3b5585b5c352e708e911b\\hd-897088088160051.mp4\n",
      "Removed duplicate: duplicates\\f8b549c412a3b5585b5c352e708e911b\\hd-898103501380741.mp4\n",
      "Removed duplicate: duplicates\\f8b549c412a3b5585b5c352e708e911b\\hd-898967424867870.mp4\n",
      "Removed duplicate: duplicates\\f8b549c412a3b5585b5c352e708e911b\\hd-9020567984620018.mp4\n",
      "Removed duplicate: duplicates\\f8b549c412a3b5585b5c352e708e911b\\hd-902309670925392.mp4\n",
      "Removed duplicate: duplicates\\f8b549c412a3b5585b5c352e708e911b\\hd-902843234362370.mp4\n",
      "Removed duplicate: duplicates\\f8b549c412a3b5585b5c352e708e911b\\hd-905545323817883.mp4\n",
      "Removed duplicate: duplicates\\f8b549c412a3b5585b5c352e708e911b\\hd-905844110841635.mp4\n",
      "Removed duplicate: duplicates\\f8b549c412a3b5585b5c352e708e911b\\hd-906909830682725.mp4\n",
      "Removed duplicate: duplicates\\f8b549c412a3b5585b5c352e708e911b\\hd-909067460285978.mp4\n",
      "Removed duplicate: duplicates\\f8b549c412a3b5585b5c352e708e911b\\hd-909937876815529.mp4\n",
      "Removed duplicate: duplicates\\f8b549c412a3b5585b5c352e708e911b\\hd-911482386703699.mp4\n",
      "Removed duplicate: duplicates\\f8b549c412a3b5585b5c352e708e911b\\hd-924585008982148.mp4\n",
      "Removed duplicate: duplicates\\f8b549c412a3b5585b5c352e708e911b\\hd-925596815118953.mp4\n",
      "Removed duplicate: duplicates\\f8b549c412a3b5585b5c352e708e911b\\hd-929830031529018.mp4\n",
      "Removed duplicate: duplicates\\f8b549c412a3b5585b5c352e708e911b\\hd-932038864470963.mp4\n",
      "Removed duplicate: duplicates\\f8b549c412a3b5585b5c352e708e911b\\hd-932085787962122.mp4\n",
      "Removed duplicate: duplicates\\f8b549c412a3b5585b5c352e708e911b\\hd-935168780798574.mp4\n",
      "Removed duplicate: duplicates\\f8b549c412a3b5585b5c352e708e911b\\hd-935530867630269.mp4\n",
      "Removed duplicate: duplicates\\f8b549c412a3b5585b5c352e708e911b\\hd-935558767885747.mp4\n",
      "Removed duplicate: duplicates\\f8b549c412a3b5585b5c352e708e911b\\hd-937508703912579.mp4\n",
      "Removed duplicate: duplicates\\f8b549c412a3b5585b5c352e708e911b\\hd-940634710428411.mp4\n",
      "Removed duplicate: duplicates\\f8b549c412a3b5585b5c352e708e911b\\hd-942524046763053.mp4\n",
      "Removed duplicate: duplicates\\f8b549c412a3b5585b5c352e708e911b\\hd-944160410298140.mp4\n",
      "Removed duplicate: duplicates\\f8b549c412a3b5585b5c352e708e911b\\hd-944755280756437.mp4\n",
      "Removed duplicate: duplicates\\f8b549c412a3b5585b5c352e708e911b\\hd-946181943065342.mp4\n",
      "Removed duplicate: duplicates\\f8b549c412a3b5585b5c352e708e911b\\hd-951491629353387.mp4\n",
      "Removed duplicate: duplicates\\f8b549c412a3b5585b5c352e708e911b\\hd-958267042213267.mp4\n",
      "Removed duplicate: duplicates\\f8b549c412a3b5585b5c352e708e911b\\hd-958675741960412.mp4\n",
      "Removed duplicate: duplicates\\f8b549c412a3b5585b5c352e708e911b\\hd-966019214364727.mp4\n",
      "Removed duplicate: duplicates\\f8b549c412a3b5585b5c352e708e911b\\hd-966458824582483.mp4\n",
      "Removed duplicate: duplicates\\f8b549c412a3b5585b5c352e708e911b\\hd-966715248087290.mp4\n",
      "Removed duplicate: duplicates\\f8b549c412a3b5585b5c352e708e911b\\hd-967731231014052.mp4\n",
      "Removed duplicate: duplicates\\f8b549c412a3b5585b5c352e708e911b\\hd-977008307250628.mp4\n",
      "Removed duplicate: duplicates\\f8b549c412a3b5585b5c352e708e911b\\hd-978448136455993.mp4\n",
      "Removed duplicate: duplicates\\f8b549c412a3b5585b5c352e708e911b\\hd-987232088920289.mp4\n",
      "Removed duplicate: duplicates\\f8b549c412a3b5585b5c352e708e911b\\hd-988185795921355.mp4\n",
      "Removed duplicate: duplicates\\f8b549c412a3b5585b5c352e708e911b\\hd-989284361966196.mp4\n",
      "Removed duplicate: duplicates\\f8b549c412a3b5585b5c352e708e911b\\hd-989600295478567.mp4\n",
      "Removed duplicate: duplicates\\f8b549c412a3b5585b5c352e708e911b\\hd-991636695150147.mp4\n",
      "Removed duplicate: duplicates\\f8b549c412a3b5585b5c352e708e911b\\hd-999607261342550.mp4\n",
      "Kept: duplicates\\f8b549c412a3b5585b5c352e708e911b\\hd-6107397609317402.mp4\n",
      "Only one file in duplicates\\ff3dd0f222e0b504b36c856d307b082f, no duplicates to remove.\n",
      "Only one file in duplicates\\fffc703a7886cdaa832003d16514a313, no duplicates to remove.\n"
     ]
    }
   ],
   "source": [
    "import os\n",
    "\n",
    "def remove_duplicates_in_subdirectories(base_directory):\n",
    "    \"\"\"\n",
    "    Retain only one video file in each subdirectory and remove the rest.\n",
    "    \"\"\"\n",
    "    for root, subdirs, _ in os.walk(base_directory):\n",
    "        for subdir in subdirs:\n",
    "            subdir_path = os.path.join(root, subdir)\n",
    "            video_files = [f for f in os.listdir(subdir_path) if os.path.isfile(os.path.join(subdir_path, f))]\n",
    "            \n",
    "            # Retain only one file (e.g., the first one) and delete the rest\n",
    "            if len(video_files) > 1:\n",
    "                first_file = video_files[0]\n",
    "                for file in video_files[1:]:\n",
    "                    file_path = os.path.join(subdir_path, file)\n",
    "                    os.remove(file_path)\n",
    "                    print(f\"Removed duplicate: {file_path}\")\n",
    "                print(f\"Kept: {os.path.join(subdir_path, first_file)}\")\n",
    "            elif len(video_files) == 1:\n",
    "                print(f\"Only one file in {subdir_path}, no duplicates to remove.\")\n",
    "            else:\n",
    "                print(f\"No files found in {subdir_path}.\")\n",
    "                \n",
    "# Usage\n",
    "base_directory = 'duplicates'\n",
    "remove_duplicates_in_subdirectories(base_directory)\n"
   ]
  },
  {
   "cell_type": "code",
   "execution_count": 10,
   "id": "edf1cdc8-425d-4410-b0f9-cb9783e6ed5a",
   "metadata": {},
   "outputs": [
    {
     "name": "stdout",
     "output_type": "stream",
     "text": [
      "Moved unique file: duplicates\\02e5422aab7de6f8c7085c49e3dcfbd0\\hd-790055392972248.mp4 -> unique_videos\\02e5422aab7de6f8c7085c49e3dcfbd0.mp4\n",
      "Moved unique file: duplicates\\06ca799d48ae36a9531806afdca88413\\hd-871981848375866.mp4 -> unique_videos\\06ca799d48ae36a9531806afdca88413.mp4\n",
      "Moved unique file: duplicates\\07442c85ffbd70b4714b8955949b19b9\\hd-1698824364241828.mp4 -> unique_videos\\07442c85ffbd70b4714b8955949b19b9.mp4\n",
      "Moved unique file: duplicates\\09bb89423fc0fc327c8e43e40e94bdec\\hd-8100667816697710.mp4 -> unique_videos\\09bb89423fc0fc327c8e43e40e94bdec.mp4\n",
      "Moved unique file: duplicates\\0b48c0334fbbd6165ab56eb8558c39c4\\hd-613197413789434.mp4 -> unique_videos\\0b48c0334fbbd6165ab56eb8558c39c4.mp4\n",
      "Moved unique file: duplicates\\1f1d3cc657bb2b6dec1e41b5741e1f09\\hd-873317140849832.mp4 -> unique_videos\\1f1d3cc657bb2b6dec1e41b5741e1f09.mp4\n",
      "Moved unique file: duplicates\\2173f067a16a31c6dd1b625a11bfd19c\\hd-817477363934899.mp4 -> unique_videos\\2173f067a16a31c6dd1b625a11bfd19c.mp4\n",
      "Moved unique file: duplicates\\27c17d1425d8353cb99b891ee378aaa2\\hd-7995631707140182.mp4 -> unique_videos\\27c17d1425d8353cb99b891ee378aaa2.mp4\n",
      "Moved unique file: duplicates\\2815cd25f1bf751b1c3282b0e406bdac\\hd-604285914607200.mp4 -> unique_videos\\2815cd25f1bf751b1c3282b0e406bdac.mp4\n",
      "Moved unique file: duplicates\\28537714e547a673e5d070a292f5bd93\\hd-1685108828975354.mp4 -> unique_videos\\28537714e547a673e5d070a292f5bd93.mp4\n",
      "Moved unique file: duplicates\\2992d6bdeca59b85e54e32b0a4146631\\hd-816335920524988.mp4 -> unique_videos\\2992d6bdeca59b85e54e32b0a4146631.mp4\n",
      "Moved unique file: duplicates\\2a2e503c7a4445c04c91790ffeca8d96\\hd-960884234555681.mp4 -> unique_videos\\2a2e503c7a4445c04c91790ffeca8d96.mp4\n",
      "Moved unique file: duplicates\\2f7a6b1eb3db313ee03a9cdd9b5f612d\\hd-797179088937277.mp4 -> unique_videos\\2f7a6b1eb3db313ee03a9cdd9b5f612d.mp4\n",
      "Moved unique file: duplicates\\31f7dbb597bccd3d34b6d9c5723fee6b\\hd-621652523105267.mp4 -> unique_videos\\31f7dbb597bccd3d34b6d9c5723fee6b.mp4\n",
      "Moved unique file: duplicates\\367638e8cafbd7f1ff7e41b340924e49\\hd-429145826826558.mp4 -> unique_videos\\367638e8cafbd7f1ff7e41b340924e49.mp4\n",
      "Moved unique file: duplicates\\37e2eb5bcd8950b70c43aa992b513f8f\\hd-989654009083459.mp4 -> unique_videos\\37e2eb5bcd8950b70c43aa992b513f8f.mp4\n",
      "Moved unique file: duplicates\\3b703bfd5f4395ad8da41764beabd825\\hd-1693566687752051.mp4 -> unique_videos\\3b703bfd5f4395ad8da41764beabd825.mp4\n",
      "Moved unique file: duplicates\\3d390df5d70309227d28ac91e3357be3\\hd-903913985069116.mp4 -> unique_videos\\3d390df5d70309227d28ac91e3357be3.mp4\n",
      "Moved unique file: duplicates\\42eb2edb762f429e921cc34d71e3652c\\hd-802443478544141.mp4 -> unique_videos\\42eb2edb762f429e921cc34d71e3652c.mp4\n",
      "Moved unique file: duplicates\\45261982bae50b13b491b8579a80c3bd\\hd-876239523982490.mp4 -> unique_videos\\45261982bae50b13b491b8579a80c3bd.mp4\n",
      "Moved unique file: duplicates\\4573a7486a7ae43385d01309a7ef4380\\hd-983335896508749.mp4 -> unique_videos\\4573a7486a7ae43385d01309a7ef4380.mp4\n",
      "Moved unique file: duplicates\\4a5aadc666abae4b9b0b80a0ad2f9865\\hd-906506897404894.mp4 -> unique_videos\\4a5aadc666abae4b9b0b80a0ad2f9865.mp4\n",
      "Moved unique file: duplicates\\4f527fa5729695792aa8fc4a53f95a22\\hd-942779243913664.mp4 -> unique_videos\\4f527fa5729695792aa8fc4a53f95a22.mp4\n",
      "Moved unique file: duplicates\\5375ca0dc74cac35c0da0f7388ecd8f6\\hd-888062106715252.mp4 -> unique_videos\\5375ca0dc74cac35c0da0f7388ecd8f6.mp4\n",
      "Moved unique file: duplicates\\58967db3c17d5b7fd36b2c3ed4b0225b\\hd-951885082053340.mp4 -> unique_videos\\58967db3c17d5b7fd36b2c3ed4b0225b.mp4\n",
      "Moved unique file: duplicates\\5b348c2b378d5d06b41058f6ab1acd87\\hd-797024995612413.mp4 -> unique_videos\\5b348c2b378d5d06b41058f6ab1acd87.mp4\n",
      "Moved unique file: duplicates\\5c6f360bda8fab851a3f96f5cad2b18a\\hd-809480737932683.mp4 -> unique_videos\\5c6f360bda8fab851a3f96f5cad2b18a.mp4\n",
      "Moved unique file: duplicates\\5c93e34a3bf1dddeac55fd515bd9b462\\hd-620702145697389.mp4 -> unique_videos\\5c93e34a3bf1dddeac55fd515bd9b462.mp4\n",
      "Moved unique file: duplicates\\6a93d65eeaab2d86f1732287be95ea7e\\hd-939795907980426.mp4 -> unique_videos\\6a93d65eeaab2d86f1732287be95ea7e.mp4\n",
      "Moved unique file: duplicates\\6d1f912d321ad6a56c152d73a31b4b21\\hd-671839840899900.mp4 -> unique_videos\\6d1f912d321ad6a56c152d73a31b4b21.mp4\n",
      "Moved unique file: duplicates\\6f0e6736916c01c91e9bb08f3c8ec12b\\hd-6720438181324436.mp4 -> unique_videos\\6f0e6736916c01c91e9bb08f3c8ec12b.mp4\n",
      "Moved unique file: duplicates\\6f5048b60c8e15bb71ff9fe4297c6a9a\\hd-793257836073148.mp4 -> unique_videos\\6f5048b60c8e15bb71ff9fe4297c6a9a.mp4\n",
      "Moved unique file: duplicates\\721333549631e9652f3a585b3a296887\\hd-901695498551491.mp4 -> unique_videos\\721333549631e9652f3a585b3a296887.mp4\n",
      "Moved unique file: duplicates\\7ed5b587b29059486f58041fc2c3ca17\\hd-902456848100089.mp4 -> unique_videos\\7ed5b587b29059486f58041fc2c3ca17.mp4\n",
      "Moved unique file: duplicates\\828de100ddeffb87385f6adbfa8c25b8\\hd-894559522288371.mp4 -> unique_videos\\828de100ddeffb87385f6adbfa8c25b8.mp4\n",
      "Moved unique file: duplicates\\83432c9a3a854a5f654fcf246d66b8dd\\hd-808321904744283.mp4 -> unique_videos\\83432c9a3a854a5f654fcf246d66b8dd.mp4\n",
      "Moved unique file: duplicates\\83f346692ce782135b86e6b9375a91d3\\hd-964733417506862.mp4 -> unique_videos\\83f346692ce782135b86e6b9375a91d3.mp4\n",
      "Moved unique file: duplicates\\842548910a3a35523e2d1b33def60dc5\\hd-877210454387561.mp4 -> unique_videos\\842548910a3a35523e2d1b33def60dc5.mp4\n",
      "Moved unique file: duplicates\\843ba180c880ce8eb857d34a82b9d7a4\\hd-879631723735807.mp4 -> unique_videos\\843ba180c880ce8eb857d34a82b9d7a4.mp4\n",
      "Moved unique file: duplicates\\84f96a2e9318a36eaff2c22ac0dbfa20\\hd-1119272995406354.mp4 -> unique_videos\\84f96a2e9318a36eaff2c22ac0dbfa20.mp4\n",
      "Moved unique file: duplicates\\85864627c2342b749f422d188fa19f98\\hd-807800198130528.mp4 -> unique_videos\\85864627c2342b749f422d188fa19f98.mp4\n",
      "Moved unique file: duplicates\\85f2c5ceddbdc070e9baff2f4e033617\\hd-904174908300812.mp4 -> unique_videos\\85f2c5ceddbdc070e9baff2f4e033617.mp4\n",
      "Moved unique file: duplicates\\861af745863aaee2f6221dbf8aae8f01\\hd-803897110603133.mp4 -> unique_videos\\861af745863aaee2f6221dbf8aae8f01.mp4\n",
      "Moved unique file: duplicates\\9015a1757693682cb771fef0111c4b12\\hd-992418235673669.mp4 -> unique_videos\\9015a1757693682cb771fef0111c4b12.mp4\n",
      "Moved unique file: duplicates\\9391e2edd5ac0a4ce73889dffcf6c326\\hd-808097524590260.mp4 -> unique_videos\\9391e2edd5ac0a4ce73889dffcf6c326.mp4\n",
      "Moved unique file: duplicates\\972d1d0935b9119411acfe9cde0f4da2\\hd-909110383822260.mp4 -> unique_videos\\972d1d0935b9119411acfe9cde0f4da2.mp4\n",
      "Moved unique file: duplicates\\9f57f3e4350e4aa3d29d8a434f6dc9f1\\hd-426644026275739.mp4 -> unique_videos\\9f57f3e4350e4aa3d29d8a434f6dc9f1.mp4\n",
      "Moved unique file: duplicates\\9f852879ba3602afff06fab9520cb4e0\\hd-944981830978756.mp4 -> unique_videos\\9f852879ba3602afff06fab9520cb4e0.mp4\n",
      "Moved unique file: duplicates\\a30c6dc2c66472a157c83009d75a0201\\hd-938232524809973.mp4 -> unique_videos\\a30c6dc2c66472a157c83009d75a0201.mp4\n",
      "Moved unique file: duplicates\\a5e7d9aee9cf32285f2d57cae2af9bdc\\hd-954440782897187.mp4 -> unique_videos\\a5e7d9aee9cf32285f2d57cae2af9bdc.mp4\n",
      "Moved unique file: duplicates\\a6b2fdedbba69a7aad29927a917f4458\\hd-1689212771862832.mp4 -> unique_videos\\a6b2fdedbba69a7aad29927a917f4458.mp4\n",
      "Moved unique file: duplicates\\a90e954df70a69a0e69057a72f17a328\\hd-1118763132933218.mp4 -> unique_videos\\a90e954df70a69a0e69057a72f17a328.mp4\n",
      "Moved unique file: duplicates\\aae05ed03e2f6ea3cdb2792e8978d763\\hd-8796411607036992.mp4 -> unique_videos\\aae05ed03e2f6ea3cdb2792e8978d763.mp4\n",
      "Moved unique file: duplicates\\ad1f9800f36fac0b2ac08df0789b1f31\\hd-611188517518682.mp4 -> unique_videos\\ad1f9800f36fac0b2ac08df0789b1f31.mp4\n",
      "Moved unique file: duplicates\\afd36f9d4e305dc522fee08ec33f299d\\hd-885670366433640.mp4 -> unique_videos\\afd36f9d4e305dc522fee08ec33f299d.mp4\n",
      "Moved unique file: duplicates\\b77d00ac9de1400ecb0ffc5b70aac51a\\hd-874864704574925.mp4 -> unique_videos\\b77d00ac9de1400ecb0ffc5b70aac51a.mp4\n",
      "Moved unique file: duplicates\\b7eb1c03591063a8eba3409829d08381\\hd-882019143545185.mp4 -> unique_videos\\b7eb1c03591063a8eba3409829d08381.mp4\n",
      "Moved unique file: duplicates\\ba2ee1ee73c5a33672fa4a0d853a8190\\hd-874543520932484.mp4 -> unique_videos\\ba2ee1ee73c5a33672fa4a0d853a8190.mp4\n",
      "Moved unique file: duplicates\\bf2f6e0c1e6c758796ccab2e5546c383\\hd-424802420355057.mp4 -> unique_videos\\bf2f6e0c1e6c758796ccab2e5546c383.mp4\n",
      "Moved unique file: duplicates\\c31d113ae0b7a5d763e89f16684db241\\hd-789793989900194.mp4 -> unique_videos\\c31d113ae0b7a5d763e89f16684db241.mp4\n",
      "Moved unique file: duplicates\\ccbff97faf9201c2b167b0c6fe2698f3\\hd-806751788307038.mp4 -> unique_videos\\ccbff97faf9201c2b167b0c6fe2698f3.mp4\n",
      "Moved unique file: duplicates\\cd0550c99c10cfa3e4d50752ca8df275\\hd-888593019388197.mp4 -> unique_videos\\cd0550c99c10cfa3e4d50752ca8df275.mp4\n",
      "Moved unique file: duplicates\\ce4c02813eaac2bb3e6c3d1c6093abf6\\hd-817135236672734.mp4 -> unique_videos\\ce4c02813eaac2bb3e6c3d1c6093abf6.mp4\n",
      "Moved unique file: duplicates\\cfe34e33e75225e587d7e7209b290f52\\hd-881270063889884.mp4 -> unique_videos\\cfe34e33e75225e587d7e7209b290f52.mp4\n",
      "Moved unique file: duplicates\\d493c65f52df3f52a2545fee044a1751\\hd-889728479746704.mp4 -> unique_videos\\d493c65f52df3f52a2545fee044a1751.mp4\n",
      "Moved unique file: duplicates\\d55557bd4332c04edc9f9505a1341814\\hd-604041931565137.mp4 -> unique_videos\\d55557bd4332c04edc9f9505a1341814.mp4\n",
      "Moved unique file: duplicates\\d804202f84cf0e2041358adad728a414\\hd-904815481005158.mp4 -> unique_videos\\d804202f84cf0e2041358adad728a414.mp4\n",
      "Moved unique file: duplicates\\d8e384b9c5bb9e919c2a539447afa4ce\\hd-8111507755613955.mp4 -> unique_videos\\d8e384b9c5bb9e919c2a539447afa4ce.mp4\n",
      "Moved unique file: duplicates\\dcae0161fdc53016df5201ba2140e698\\hd-6764280623620361.mp4 -> unique_videos\\dcae0161fdc53016df5201ba2140e698.mp4\n",
      "Moved unique file: duplicates\\ec352aca335930f75c91ec2b8e60c73c\\hd-879049300656635.mp4 -> unique_videos\\ec352aca335930f75c91ec2b8e60c73c.mp4\n",
      "Moved unique file: duplicates\\eec4394f6a1bb7e802fa3d69283acebe\\hd-425151876539382.mp4 -> unique_videos\\eec4394f6a1bb7e802fa3d69283acebe.mp4\n",
      "Moved unique file: duplicates\\f53dba7891c00eda09c02649de831dab\\hd-1119706949586170.mp4 -> unique_videos\\f53dba7891c00eda09c02649de831dab.mp4\n",
      "Moved unique file: duplicates\\f8b549c412a3b5585b5c352e708e911b\\hd-6107397609317402.mp4 -> unique_videos\\f8b549c412a3b5585b5c352e708e911b.mp4\n",
      "Moved unique file: duplicates\\ff3dd0f222e0b504b36c856d307b082f\\hd-603099807587246.mp4 -> unique_videos\\ff3dd0f222e0b504b36c856d307b082f.mp4\n",
      "Moved unique file: duplicates\\fffc703a7886cdaa832003d16514a313\\hd-894559812351386.mp4 -> unique_videos\\fffc703a7886cdaa832003d16514a313.mp4\n"
     ]
    }
   ],
   "source": [
    "import os\n",
    "import shutil\n",
    "\n",
    "def move_uniques_to_single_directory(base_directory, target_directory):\n",
    "    \"\"\"\n",
    "    Move unique files from each subdirectory to a single directory, renaming them to their hash names.\n",
    "    \"\"\"\n",
    "    os.makedirs(target_directory, exist_ok=True)  # Create the target directory if it doesn't exist\n",
    "\n",
    "    for root, subdirs, _ in os.walk(base_directory):\n",
    "        for subdir in subdirs:\n",
    "            subdir_path = os.path.join(root, subdir)\n",
    "            video_files = [f for f in os.listdir(subdir_path) if os.path.isfile(os.path.join(subdir_path, f))]\n",
    "\n",
    "            # Expect only one file per subdirectory\n",
    "            if len(video_files) == 1:\n",
    "                file_path = os.path.join(subdir_path, video_files[0])\n",
    "                new_name = f\"{subdir}.mp4\"  # Rename the file to match the subdirectory name\n",
    "                new_path = os.path.join(target_directory, new_name)\n",
    "\n",
    "                # Move the file\n",
    "                shutil.move(file_path, new_path)\n",
    "                print(f\"Moved unique file: {file_path} -> {new_path}\")\n",
    "            elif len(video_files) > 1:\n",
    "                print(f\"Warning: More than one file found in {subdir_path}. Skipping.\")\n",
    "            else:\n",
    "                print(f\"No files found in {subdir_path}. Skipping.\")\n",
    "\n",
    "# Usage\n",
    "base_directory = 'duplicates'\n",
    "target_directory = 'unique_videos'\n",
    "move_uniques_to_single_directory(base_directory, target_directory)\n"
   ]
  },
  {
   "cell_type": "code",
   "execution_count": 4,
   "id": "9bfaefef-6b02-4a6b-bba0-87dd80d9ae3f",
   "metadata": {},
   "outputs": [
    {
     "ename": "ModuleNotFoundError",
     "evalue": "No module named 'face_recognition'",
     "output_type": "error",
     "traceback": [
      "\u001b[1;31m---------------------------------------------------------------------------\u001b[0m",
      "\u001b[1;31mModuleNotFoundError\u001b[0m                       Traceback (most recent call last)",
      "Cell \u001b[1;32mIn[4], line 5\u001b[0m\n\u001b[0;32m      3\u001b[0m \u001b[38;5;28;01mimport\u001b[39;00m \u001b[38;5;21;01mnumpy\u001b[39;00m \u001b[38;5;28;01mas\u001b[39;00m \u001b[38;5;21;01mnp\u001b[39;00m\n\u001b[0;32m      4\u001b[0m \u001b[38;5;28;01mimport\u001b[39;00m \u001b[38;5;21;01mcv2\u001b[39;00m\n\u001b[1;32m----> 5\u001b[0m \u001b[38;5;28;01mimport\u001b[39;00m \u001b[38;5;21;01mface_recognition\u001b[39;00m\n\u001b[0;32m      6\u001b[0m \u001b[38;5;28;01mfrom\u001b[39;00m \u001b[38;5;21;01mtyping\u001b[39;00m \u001b[38;5;28;01mimport\u001b[39;00m List, Dict\n\u001b[0;32m      7\u001b[0m \u001b[38;5;28;01mfrom\u001b[39;00m \u001b[38;5;21;01mtqdm\u001b[39;00m \u001b[38;5;28;01mimport\u001b[39;00m tqdm\n",
      "\u001b[1;31mModuleNotFoundError\u001b[0m: No module named 'face_recognition'"
     ]
    }
   ],
   "source": [
    "import os\n",
    "import torch\n",
    "import numpy as np\n",
    "import cv2\n",
    "import face_recognition\n",
    "from typing import List, Dict\n",
    "from tqdm import tqdm\n",
    "import shutil\n",
    "\n",
    "class VideoPersonGrouper:\n",
    "    def __init__(self, input_dir: str, output_dir: str, similarity_threshold: float = 0.4):\n",
    "        \"\"\"\n",
    "        Initialize the video person grouping system\n",
    "        \n",
    "        Args:\n",
    "            input_dir (str): Directory containing input videos\n",
    "            output_dir (str): Directory to store grouped videos\n",
    "            similarity_threshold (float): Face similarity threshold for grouping\n",
    "        \"\"\"\n",
    "        self.input_dir = input_dir\n",
    "        self.output_dir = output_dir\n",
    "        self.similarity_threshold = similarity_threshold\n",
    "        \n",
    "        # Check for CUDA availability\n",
    "        self.device = torch.device('cuda' if torch.cuda.is_available() else 'cpu')\n",
    "        print(f\"Using device: {self.device}\")\n",
    "    \n",
    "    def extract_faces(self, video_path: str, max_frames: int = 10) -> List[np.ndarray]:\n",
    "        \"\"\"\n",
    "        Extract faces from a video\n",
    "        \n",
    "        Args:\n",
    "            video_path (str): Path to the video file\n",
    "            max_frames (int): Maximum number of frames to process\n",
    "        \n",
    "        Returns:\n",
    "            List of face encodings\n",
    "        \"\"\"\n",
    "        video = cv2.VideoCapture(video_path)\n",
    "        faces_encodings = []\n",
    "        frame_count = 0\n",
    "        \n",
    "        while video.isOpened() and frame_count < max_frames:\n",
    "            ret, frame = video.read()\n",
    "            if not ret:\n",
    "                break\n",
    "            \n",
    "            # Detect faces\n",
    "            face_locations = face_recognition.face_locations(frame,model = \"cnn\")\n",
    "            face_encodings = face_recognition.face_encodings(frame, face_locations)\n",
    "            \n",
    "            faces_encodings.extend(face_encodings)\n",
    "            frame_count += 1\n",
    "        \n",
    "        video.release()\n",
    "        return faces_encodings\n",
    "    \n",
    "    def group_videos_by_persons(self):\n",
    "        video_groups = {}\n",
    "        video_files = [f for f in os.listdir(self.input_dir) if f.endswith(('.mp4', '.avi', '.mov'))]\n",
    "        \n",
    "        for video_filename in tqdm(video_files, desc=\"Processing Videos\"):\n",
    "            video_path = os.path.join(self.input_dir, video_filename)\n",
    "            video_faces = self.extract_faces(video_path)\n",
    "            \n",
    "            # Compute average face encoding for the video\n",
    "            if video_faces:\n",
    "                avg_face_encoding = np.mean(video_faces, axis=0)\n",
    "            else:\n",
    "                continue\n",
    "            \n",
    "            # More robust group matching\n",
    "            matched_group = None\n",
    "            for group_id, group_videos in video_groups.items():\n",
    "                group_faces = []\n",
    "                for group_video in group_videos:\n",
    "                    group_faces.extend(self.extract_faces(os.path.join(self.input_dir, group_video)))\n",
    "                \n",
    "                # Compute average group face encoding\n",
    "                if group_faces:\n",
    "                    avg_group_face = np.mean(group_faces, axis=0)\n",
    "                    distance = face_recognition.face_distance([avg_group_face], avg_face_encoding)[0]\n",
    "                    \n",
    "                    if distance < self.similarity_threshold:\n",
    "                        matched_group = group_id\n",
    "                        break\n",
    "            \n",
    "            # Add to existing or new group\n",
    "            if matched_group is not None:\n",
    "                video_groups[matched_group].append(video_filename)\n",
    "            else:\n",
    "                new_group_id = len(video_groups)\n",
    "                video_groups[new_group_id] = [video_filename]\n",
    "        \n",
    "        return video_groups\n",
    "    \n",
    "    def save_grouped_videos(self, video_groups: Dict[int, List[str]]):\n",
    "        for group_id, videos in video_groups.items():\n",
    "            group_dir = os.path.join(self.output_dir, f'group_{group_id}')\n",
    "            os.makedirs(group_dir, exist_ok=True)\n",
    "            \n",
    "            # Copy videos to group directory\n",
    "            for video_filename in videos:\n",
    "                src_path = os.path.join(self.input_dir, video_filename)\n",
    "                dst_path = os.path.join(group_dir, video_filename)\n",
    "                shutil.copy2(src_path, dst_path)\n",
    "            \n",
    "            # Advanced representative face extraction\n",
    "            representative_faces = []\n",
    "            for video_filename in videos:\n",
    "                representative_video = os.path.join(self.input_dir, video_filename)\n",
    "                video = cv2.VideoCapture(representative_video)\n",
    "                \n",
    "                while video.isOpened():\n",
    "                    ret, frame = video.read()\n",
    "                    if not ret:\n",
    "                        break\n",
    "                    \n",
    "                    # Detect all faces in the frame\n",
    "                    face_locations = face_recognition.face_locations(frame, model=\"cnn\")\n",
    "                    face_encodings = face_recognition.face_encodings(frame, face_locations)\n",
    "                    \n",
    "                    # Save faces with their locations\n",
    "                    for (top, right, bottom, left), encoding in zip(face_locations, face_encodings):\n",
    "                        face_image = frame[top:bottom, left:right]\n",
    "                        representative_faces.append({\n",
    "                            'image': face_image,\n",
    "                            'encoding': encoding\n",
    "                        })\n",
    "                \n",
    "                video.release()\n",
    "            \n",
    "            # Cluster faces using a more advanced clustering approach\n",
    "            if representative_faces:\n",
    "                # Basic clustering (you might want to use more advanced clustering like DBSCAN)\n",
    "                clustered_faces = self.cluster_faces(representative_faces)\n",
    "                \n",
    "                # Save the most representative face from the largest cluster\n",
    "                if clustered_faces:\n",
    "                    largest_cluster = max(clustered_faces, key=len)\n",
    "                    representative_face = largest_cluster[0]['image']\n",
    "                    cv2.imwrite(os.path.join(group_dir, 'representative_face.jpg'), representative_face)\n",
    "\n",
    "    def cluster_faces(self, faces, threshold=0.6):\n",
    "        \"\"\"\n",
    "        Simple face clustering method\n",
    "        \n",
    "        Args:\n",
    "            faces (List): List of face dictionaries with 'image' and 'encoding'\n",
    "            threshold (float): Clustering threshold\n",
    "        \n",
    "        Returns:\n",
    "            List of face clusters\n",
    "        \"\"\"\n",
    "        clusters = []\n",
    "        for face in faces:\n",
    "            found_cluster = False\n",
    "            for cluster in clusters:\n",
    "                # Compare with the first face in each cluster\n",
    "                distance = face_recognition.face_distance([cluster[0]['encoding']], face['encoding'])[0]\n",
    "                if distance < threshold:\n",
    "                    cluster.append(face)\n",
    "                    found_cluster = True\n",
    "                    break\n",
    "            \n",
    "            if not found_cluster:\n",
    "                clusters.append([face])\n",
    "        \n",
    "        return clusters\n",
    "    \n",
    "    def run(self):\n",
    "        \"\"\"\n",
    "        Run the entire person grouping process\n",
    "        \"\"\"\n",
    "        video_groups = self.group_videos_by_persons()\n",
    "        self.save_grouped_videos(video_groups)\n",
    "        \n",
    "        # Print results\n",
    "        for group_id, videos in video_groups.items():\n",
    "            print(f\"Group {group_id}: {len(videos)} videos\")\n",
    "\n",
    "# Example usage\n",
    "if __name__ == \"__main__\":\n",
    "    input_directory = \"unique_videos\"\n",
    "    output_directory = \"grouped_videos\"\n",
    "    \n",
    "    grouper = VideoPersonGrouper(input_directory, output_directory)\n",
    "    grouper.run()\n"
   ]
  },
  {
   "cell_type": "code",
   "execution_count": 10,
   "id": "eeda1212-5871-4439-a429-88e78b604426",
   "metadata": {},
   "outputs": [
    {
     "name": "stdout",
     "output_type": "stream",
     "text": [
      "Excel file with images saved at: video_group_performance_with_images_v1.xlsx\n",
      "     Group ID                                             Hashes  \\\n",
      "14          8  a30c6dc2c66472a157c83009d75a0201, f8b549c412a3...   \n",
      "16  Ungrouped  06ca799d48ae36a9531806afdca88413, 09bb89423fc0...   \n",
      "1           1  84f96a2e9318a36eaff2c22ac0dbfa20, 9f57f3e4350e...   \n",
      "13          7  02e5422aab7de6f8c7085c49e3dcfbd0, 27c17d1425d8...   \n",
      "12          6  4f527fa5729695792aa8fc4a53f95a22, 5b348c2b378d...   \n",
      "5          13                   ba2ee1ee73c5a33672fa4a0d853a8190   \n",
      "4          12                   07442c85ffbd70b4714b8955949b19b9   \n",
      "9           3                   d55557bd4332c04edc9f9505a1341814   \n",
      "10          4  6f5048b60c8e15bb71ff9fe4297c6a9a, f53dba7891c0...   \n",
      "3          11                   5c93e34a3bf1dddeac55fd515bd9b462   \n",
      "11          5                   3d390df5d70309227d28ac91e3357be3   \n",
      "0           0  367638e8cafbd7f1ff7e41b340924e49, ccbff97faf92...   \n",
      "8           2                   dcae0161fdc53016df5201ba2140e698   \n",
      "2          10                   b77d00ac9de1400ecb0ffc5b70aac51a   \n",
      "6          14                   83f346692ce782135b86e6b9375a91d3   \n",
      "15          9                   828de100ddeffb87385f6adbfa8c25b8   \n",
      "7          15                   6f0e6736916c01c91e9bb08f3c8ec12b   \n",
      "\n",
      "    Weighted Avg Performance  Total Performance  Total Frequency  \\\n",
      "14                  1.062443          94.557426               89   \n",
      "16                  1.025581          94.353483               92   \n",
      "1                   0.859423          50.705941               59   \n",
      "13                  0.774368           6.194942                8   \n",
      "12                  1.147668           3.443004                3   \n",
      "5                   1.677401           3.354801                2   \n",
      "4                   0.970528           1.941056                2   \n",
      "9                   1.530400           1.530400                1   \n",
      "10                  0.755186           1.510372                2   \n",
      "3                   1.238300           1.238300                1   \n",
      "11                  0.826000           0.826000                1   \n",
      "0                   0.393384           0.786768                2   \n",
      "8                   0.741103           0.741103                1   \n",
      "2                   0.527749           0.527749                1   \n",
      "6                   0.327600           0.327600                1   \n",
      "15                  0.156648           0.313296                2   \n",
      "7                   0.287683           0.287683                1   \n",
      "\n",
      "                       Representative Image  \n",
      "14   Groups\\group_8\\representative_face.jpg  \n",
      "16                                           \n",
      "1    Groups\\group_1\\representative_face.jpg  \n",
      "13   Groups\\group_7\\representative_face.jpg  \n",
      "12   Groups\\group_6\\representative_face.jpg  \n",
      "5   Groups\\group_13\\representative_face.jpg  \n",
      "4   Groups\\group_12\\representative_face.jpg  \n",
      "9    Groups\\group_3\\representative_face.jpg  \n",
      "10   Groups\\group_4\\representative_face.jpg  \n",
      "3   Groups\\group_11\\representative_face.jpg  \n",
      "11   Groups\\group_5\\representative_face.jpg  \n",
      "0    Groups\\group_0\\representative_face.jpg  \n",
      "8    Groups\\group_2\\representative_face.jpg  \n",
      "2   Groups\\group_10\\representative_face.jpg  \n",
      "6   Groups\\group_14\\representative_face.jpg  \n",
      "15   Groups\\group_9\\representative_face.jpg  \n",
      "7   Groups\\group_15\\representative_face.jpg  \n"
     ]
    },
    {
     "data": {
      "text/html": [
       "<div>\n",
       "<style scoped>\n",
       "    .dataframe tbody tr th:only-of-type {\n",
       "        vertical-align: middle;\n",
       "    }\n",
       "\n",
       "    .dataframe tbody tr th {\n",
       "        vertical-align: top;\n",
       "    }\n",
       "\n",
       "    .dataframe thead th {\n",
       "        text-align: right;\n",
       "    }\n",
       "</style>\n",
       "<table border=\"1\" class=\"dataframe\">\n",
       "  <thead>\n",
       "    <tr style=\"text-align: right;\">\n",
       "      <th></th>\n",
       "      <th>Group ID</th>\n",
       "      <th>Hashes</th>\n",
       "      <th>Weighted Avg Performance</th>\n",
       "      <th>Total Performance</th>\n",
       "      <th>Total Frequency</th>\n",
       "      <th>Representative Image</th>\n",
       "    </tr>\n",
       "  </thead>\n",
       "  <tbody>\n",
       "    <tr>\n",
       "      <th>14</th>\n",
       "      <td>8</td>\n",
       "      <td>a30c6dc2c66472a157c83009d75a0201, f8b549c412a3...</td>\n",
       "      <td>1.062443</td>\n",
       "      <td>94.557426</td>\n",
       "      <td>89</td>\n",
       "      <td>Groups\\group_8\\representative_face.jpg</td>\n",
       "    </tr>\n",
       "    <tr>\n",
       "      <th>16</th>\n",
       "      <td>Ungrouped</td>\n",
       "      <td>06ca799d48ae36a9531806afdca88413, 09bb89423fc0...</td>\n",
       "      <td>1.025581</td>\n",
       "      <td>94.353483</td>\n",
       "      <td>92</td>\n",
       "      <td></td>\n",
       "    </tr>\n",
       "    <tr>\n",
       "      <th>1</th>\n",
       "      <td>1</td>\n",
       "      <td>84f96a2e9318a36eaff2c22ac0dbfa20, 9f57f3e4350e...</td>\n",
       "      <td>0.859423</td>\n",
       "      <td>50.705941</td>\n",
       "      <td>59</td>\n",
       "      <td>Groups\\group_1\\representative_face.jpg</td>\n",
       "    </tr>\n",
       "    <tr>\n",
       "      <th>13</th>\n",
       "      <td>7</td>\n",
       "      <td>02e5422aab7de6f8c7085c49e3dcfbd0, 27c17d1425d8...</td>\n",
       "      <td>0.774368</td>\n",
       "      <td>6.194942</td>\n",
       "      <td>8</td>\n",
       "      <td>Groups\\group_7\\representative_face.jpg</td>\n",
       "    </tr>\n",
       "    <tr>\n",
       "      <th>12</th>\n",
       "      <td>6</td>\n",
       "      <td>4f527fa5729695792aa8fc4a53f95a22, 5b348c2b378d...</td>\n",
       "      <td>1.147668</td>\n",
       "      <td>3.443004</td>\n",
       "      <td>3</td>\n",
       "      <td>Groups\\group_6\\representative_face.jpg</td>\n",
       "    </tr>\n",
       "    <tr>\n",
       "      <th>5</th>\n",
       "      <td>13</td>\n",
       "      <td>ba2ee1ee73c5a33672fa4a0d853a8190</td>\n",
       "      <td>1.677401</td>\n",
       "      <td>3.354801</td>\n",
       "      <td>2</td>\n",
       "      <td>Groups\\group_13\\representative_face.jpg</td>\n",
       "    </tr>\n",
       "    <tr>\n",
       "      <th>4</th>\n",
       "      <td>12</td>\n",
       "      <td>07442c85ffbd70b4714b8955949b19b9</td>\n",
       "      <td>0.970528</td>\n",
       "      <td>1.941056</td>\n",
       "      <td>2</td>\n",
       "      <td>Groups\\group_12\\representative_face.jpg</td>\n",
       "    </tr>\n",
       "    <tr>\n",
       "      <th>9</th>\n",
       "      <td>3</td>\n",
       "      <td>d55557bd4332c04edc9f9505a1341814</td>\n",
       "      <td>1.530400</td>\n",
       "      <td>1.530400</td>\n",
       "      <td>1</td>\n",
       "      <td>Groups\\group_3\\representative_face.jpg</td>\n",
       "    </tr>\n",
       "    <tr>\n",
       "      <th>10</th>\n",
       "      <td>4</td>\n",
       "      <td>6f5048b60c8e15bb71ff9fe4297c6a9a, f53dba7891c0...</td>\n",
       "      <td>0.755186</td>\n",
       "      <td>1.510372</td>\n",
       "      <td>2</td>\n",
       "      <td>Groups\\group_4\\representative_face.jpg</td>\n",
       "    </tr>\n",
       "    <tr>\n",
       "      <th>3</th>\n",
       "      <td>11</td>\n",
       "      <td>5c93e34a3bf1dddeac55fd515bd9b462</td>\n",
       "      <td>1.238300</td>\n",
       "      <td>1.238300</td>\n",
       "      <td>1</td>\n",
       "      <td>Groups\\group_11\\representative_face.jpg</td>\n",
       "    </tr>\n",
       "    <tr>\n",
       "      <th>11</th>\n",
       "      <td>5</td>\n",
       "      <td>3d390df5d70309227d28ac91e3357be3</td>\n",
       "      <td>0.826000</td>\n",
       "      <td>0.826000</td>\n",
       "      <td>1</td>\n",
       "      <td>Groups\\group_5\\representative_face.jpg</td>\n",
       "    </tr>\n",
       "    <tr>\n",
       "      <th>0</th>\n",
       "      <td>0</td>\n",
       "      <td>367638e8cafbd7f1ff7e41b340924e49, ccbff97faf92...</td>\n",
       "      <td>0.393384</td>\n",
       "      <td>0.786768</td>\n",
       "      <td>2</td>\n",
       "      <td>Groups\\group_0\\representative_face.jpg</td>\n",
       "    </tr>\n",
       "    <tr>\n",
       "      <th>8</th>\n",
       "      <td>2</td>\n",
       "      <td>dcae0161fdc53016df5201ba2140e698</td>\n",
       "      <td>0.741103</td>\n",
       "      <td>0.741103</td>\n",
       "      <td>1</td>\n",
       "      <td>Groups\\group_2\\representative_face.jpg</td>\n",
       "    </tr>\n",
       "    <tr>\n",
       "      <th>2</th>\n",
       "      <td>10</td>\n",
       "      <td>b77d00ac9de1400ecb0ffc5b70aac51a</td>\n",
       "      <td>0.527749</td>\n",
       "      <td>0.527749</td>\n",
       "      <td>1</td>\n",
       "      <td>Groups\\group_10\\representative_face.jpg</td>\n",
       "    </tr>\n",
       "    <tr>\n",
       "      <th>6</th>\n",
       "      <td>14</td>\n",
       "      <td>83f346692ce782135b86e6b9375a91d3</td>\n",
       "      <td>0.327600</td>\n",
       "      <td>0.327600</td>\n",
       "      <td>1</td>\n",
       "      <td>Groups\\group_14\\representative_face.jpg</td>\n",
       "    </tr>\n",
       "    <tr>\n",
       "      <th>15</th>\n",
       "      <td>9</td>\n",
       "      <td>828de100ddeffb87385f6adbfa8c25b8</td>\n",
       "      <td>0.156648</td>\n",
       "      <td>0.313296</td>\n",
       "      <td>2</td>\n",
       "      <td>Groups\\group_9\\representative_face.jpg</td>\n",
       "    </tr>\n",
       "    <tr>\n",
       "      <th>7</th>\n",
       "      <td>15</td>\n",
       "      <td>6f0e6736916c01c91e9bb08f3c8ec12b</td>\n",
       "      <td>0.287683</td>\n",
       "      <td>0.287683</td>\n",
       "      <td>1</td>\n",
       "      <td>Groups\\group_15\\representative_face.jpg</td>\n",
       "    </tr>\n",
       "  </tbody>\n",
       "</table>\n",
       "</div>"
      ],
      "text/plain": [
       "     Group ID                                             Hashes  \\\n",
       "14          8  a30c6dc2c66472a157c83009d75a0201, f8b549c412a3...   \n",
       "16  Ungrouped  06ca799d48ae36a9531806afdca88413, 09bb89423fc0...   \n",
       "1           1  84f96a2e9318a36eaff2c22ac0dbfa20, 9f57f3e4350e...   \n",
       "13          7  02e5422aab7de6f8c7085c49e3dcfbd0, 27c17d1425d8...   \n",
       "12          6  4f527fa5729695792aa8fc4a53f95a22, 5b348c2b378d...   \n",
       "5          13                   ba2ee1ee73c5a33672fa4a0d853a8190   \n",
       "4          12                   07442c85ffbd70b4714b8955949b19b9   \n",
       "9           3                   d55557bd4332c04edc9f9505a1341814   \n",
       "10          4  6f5048b60c8e15bb71ff9fe4297c6a9a, f53dba7891c0...   \n",
       "3          11                   5c93e34a3bf1dddeac55fd515bd9b462   \n",
       "11          5                   3d390df5d70309227d28ac91e3357be3   \n",
       "0           0  367638e8cafbd7f1ff7e41b340924e49, ccbff97faf92...   \n",
       "8           2                   dcae0161fdc53016df5201ba2140e698   \n",
       "2          10                   b77d00ac9de1400ecb0ffc5b70aac51a   \n",
       "6          14                   83f346692ce782135b86e6b9375a91d3   \n",
       "15          9                   828de100ddeffb87385f6adbfa8c25b8   \n",
       "7          15                   6f0e6736916c01c91e9bb08f3c8ec12b   \n",
       "\n",
       "    Weighted Avg Performance  Total Performance  Total Frequency  \\\n",
       "14                  1.062443          94.557426               89   \n",
       "16                  1.025581          94.353483               92   \n",
       "1                   0.859423          50.705941               59   \n",
       "13                  0.774368           6.194942                8   \n",
       "12                  1.147668           3.443004                3   \n",
       "5                   1.677401           3.354801                2   \n",
       "4                   0.970528           1.941056                2   \n",
       "9                   1.530400           1.530400                1   \n",
       "10                  0.755186           1.510372                2   \n",
       "3                   1.238300           1.238300                1   \n",
       "11                  0.826000           0.826000                1   \n",
       "0                   0.393384           0.786768                2   \n",
       "8                   0.741103           0.741103                1   \n",
       "2                   0.527749           0.527749                1   \n",
       "6                   0.327600           0.327600                1   \n",
       "15                  0.156648           0.313296                2   \n",
       "7                   0.287683           0.287683                1   \n",
       "\n",
       "                       Representative Image  \n",
       "14   Groups\\group_8\\representative_face.jpg  \n",
       "16                                           \n",
       "1    Groups\\group_1\\representative_face.jpg  \n",
       "13   Groups\\group_7\\representative_face.jpg  \n",
       "12   Groups\\group_6\\representative_face.jpg  \n",
       "5   Groups\\group_13\\representative_face.jpg  \n",
       "4   Groups\\group_12\\representative_face.jpg  \n",
       "9    Groups\\group_3\\representative_face.jpg  \n",
       "10   Groups\\group_4\\representative_face.jpg  \n",
       "3   Groups\\group_11\\representative_face.jpg  \n",
       "11   Groups\\group_5\\representative_face.jpg  \n",
       "0    Groups\\group_0\\representative_face.jpg  \n",
       "8    Groups\\group_2\\representative_face.jpg  \n",
       "2   Groups\\group_10\\representative_face.jpg  \n",
       "6   Groups\\group_14\\representative_face.jpg  \n",
       "15   Groups\\group_9\\representative_face.jpg  \n",
       "7   Groups\\group_15\\representative_face.jpg  "
      ]
     },
     "execution_count": 10,
     "metadata": {},
     "output_type": "execute_result"
    }
   ],
   "source": [
    "import pandas as pd\n",
    "import numpy as np\n",
    "import os\n",
    "from openpyxl import Workbook\n",
    "from openpyxl.utils.dataframe import dataframe_to_rows\n",
    "from openpyxl.drawing.image import Image as ExcelImage\n",
    "\n",
    "def process_video_groups(performance_file, output_dir, output_excel):\n",
    "    # Read performance data\n",
    "    df = pd.read_csv(performance_file)\n",
    "    \n",
    "    # Prepare a dictionary to store group mapping\n",
    "    group_mapping = {}\n",
    "    \n",
    "    # Scan group directories in output_dir\n",
    "    for group_dir in os.listdir(output_dir):\n",
    "        if group_dir.startswith('group_'):\n",
    "            group_id = group_dir.split('_')[1]\n",
    "            group_videos = os.listdir(os.path.join(output_dir, group_dir))\n",
    "            \n",
    "            # Find video files and representative image\n",
    "            video_files = [f for f in group_videos if f.endswith('.mp4')]\n",
    "            rep_image = [f for f in group_videos if f == 'representative_face.jpg']\n",
    "            rep_image_path = os.path.join(output_dir, group_dir, rep_image[0]) if rep_image else None\n",
    "            \n",
    "            # Map hash values to group\n",
    "            for video in video_files:\n",
    "                hash_value = video.split('.')[0]\n",
    "                group_mapping[hash_value] = {\n",
    "                    'Group ID': group_id,\n",
    "                    'Representative Image': rep_image_path\n",
    "                }\n",
    "    \n",
    "    # Add group information to performance dataframe\n",
    "    df['Group ID'] = df['Hash'].map(lambda x: group_mapping.get(x, {}).get('Group ID', 'Ungrouped'))\n",
    "    df['Representative Image'] = df['Hash'].map(lambda x: group_mapping.get(x, {}).get('Representative Image', ''))\n",
    "    \n",
    "    # Calculate Total Performance Value\n",
    "    df['Total_Performance'] = df['Avg_Performance'] * df['Frequency']\n",
    "\n",
    "    # Group by Group ID and aggregate\n",
    "    grouped_df = df.groupby('Group ID').agg({\n",
    "        'Hash': lambda x: \", \".join(x),  # Combine all hashes in the group\n",
    "        'Avg_Performance': lambda x: np.average(x, weights=df.loc[x.index, 'Frequency']),\n",
    "        'Total_Performance': 'sum',  # Sum of Total Performance\n",
    "        'Frequency': 'sum',  # Total frequency of the group\n",
    "        'Representative Image': 'first'  # Take the first representative image\n",
    "    }).reset_index()\n",
    "    \n",
    "    # Rename columns for clarity\n",
    "    grouped_df.columns = ['Group ID', 'Hashes', 'Weighted Avg Performance', 'Total Performance', 'Total Frequency', 'Representative Image']\n",
    "    \n",
    "    # Sort by Total Performance descending\n",
    "    grouped_df = grouped_df.sort_values('Total Performance', ascending=False)\n",
    "    \n",
    "    # Save to Excel with images\n",
    "    save_to_excel_with_images(grouped_df, output_excel)\n",
    "\n",
    "    print(grouped_df)\n",
    "    return grouped_df\n",
    "\n",
    "\n",
    "def save_to_excel_with_images(grouped_df, output_excel):\n",
    "    # Initialize Excel workbook\n",
    "    workbook = Workbook()\n",
    "    sheet = workbook.active\n",
    "    sheet.title = \"Group Summary\"\n",
    "    \n",
    "    # Add headers\n",
    "    headers = [\"Group ID\", \"Hashes\", \"Weighted Avg Performance\", \"Total Performance\", \"Total Frequency\", \"Representative Image\"]\n",
    "    sheet.append(headers)\n",
    "    \n",
    "    # Write data rows\n",
    "    for _, row in grouped_df.iterrows():\n",
    "        # Append row data (excluding the image path for now)\n",
    "        sheet.append([row[\"Group ID\"], row[\"Hashes\"], row[\"Weighted Avg Performance\"], row[\"Total Performance\"], row[\"Total Frequency\"], \"\"])\n",
    "        \n",
    "        # Embed representative image if it exists\n",
    "        if os.path.exists(row[\"Representative Image\"]):\n",
    "            img = ExcelImage(row[\"Representative Image\"])\n",
    "            img.height = 100  # Adjust the image size\n",
    "            img.width = 100\n",
    "            img_cell = f\"F{sheet.max_row}\"  # Assume image goes to the last row in column F\n",
    "            sheet.add_image(img, img_cell)\n",
    "    \n",
    "    # Save the workbook\n",
    "    workbook.save(output_excel)\n",
    "    print(f\"Excel file with images saved at: {output_excel}\")\n",
    "\n",
    "\n",
    "# Usage example\n",
    "process_video_groups('Hash_Performance_Statistics.csv', 'Groups', 'video_group_performance_with_images_v1.xlsx')\n"
   ]
  },
  {
   "cell_type": "code",
   "execution_count": 11,
   "id": "ff8112a2-8a6c-4565-9539-f9c3c595b6e8",
   "metadata": {},
   "outputs": [
    {
     "name": "stdout",
     "output_type": "stream",
     "text": [
      "Data from video_group_performance_with_images.xlsx saved to video_groups.db in table 'group_summary'.\n"
     ]
    }
   ],
   "source": [
    "import pandas as pd\n",
    "import sqlite3\n",
    "\n",
    "def save_excel_to_sqlite(excel_file, db_file, table_name):\n",
    "    \"\"\"\n",
    "    Save Excel data into an SQLite database.\n",
    "    \n",
    "    Args:\n",
    "        excel_file (str): Path to the Excel file.\n",
    "        db_file (str): Path to the SQLite database file.\n",
    "        table_name (str): Name of the table to store the data.\n",
    "    \"\"\"\n",
    "    # Load data from Excel file\n",
    "    df = pd.read_excel(excel_file)\n",
    "    \n",
    "    # Connect to SQLite database (creates it if it doesn't exist)\n",
    "    conn = sqlite3.connect(db_file)\n",
    "    cursor = conn.cursor()\n",
    "    \n",
    "    # Save dataframe to the database\n",
    "    df.to_sql(table_name, conn, if_exists='replace', index=False)\n",
    "    \n",
    "    # Commit changes and close connection\n",
    "    conn.commit()\n",
    "    conn.close()\n",
    "    print(f\"Data from {excel_file} saved to {db_file} in table '{table_name}'.\")\n",
    "\n",
    "# Usage example\n",
    "save_excel_to_sqlite('video_group_performance_with_images.xlsx', 'video_groups.db', 'group_summary')\n"
   ]
  },
  {
   "cell_type": "code",
   "execution_count": 12,
   "id": "2e703bfd-dc72-409c-91bb-ee2abd071b70",
   "metadata": {},
   "outputs": [
    {
     "name": "stdout",
     "output_type": "stream",
     "text": [
      "     Group ID                                             Hashes  \\\n",
      "0   Ungrouped  06ca799d48ae36a9531806afdca88413, 09bb89423fc0...   \n",
      "1           8  a30c6dc2c66472a157c83009d75a0201, f8b549c412a3...   \n",
      "2           1  84f96a2e9318a36eaff2c22ac0dbfa20, 9f57f3e4350e...   \n",
      "3           7  02e5422aab7de6f8c7085c49e3dcfbd0, 27c17d1425d8...   \n",
      "4           6  4f527fa5729695792aa8fc4a53f95a22, 5b348c2b378d...   \n",
      "5           9                   828de100ddeffb87385f6adbfa8c25b8   \n",
      "6           4  6f5048b60c8e15bb71ff9fe4297c6a9a, f53dba7891c0...   \n",
      "7           0  367638e8cafbd7f1ff7e41b340924e49, ccbff97faf92...   \n",
      "8          13                   ba2ee1ee73c5a33672fa4a0d853a8190   \n",
      "9          12                   07442c85ffbd70b4714b8955949b19b9   \n",
      "10         15                   6f0e6736916c01c91e9bb08f3c8ec12b   \n",
      "11          3                   d55557bd4332c04edc9f9505a1341814   \n",
      "12         14                   83f346692ce782135b86e6b9375a91d3   \n",
      "13          5                   3d390df5d70309227d28ac91e3357be3   \n",
      "14         11                   5c93e34a3bf1dddeac55fd515bd9b462   \n",
      "15         10                   b77d00ac9de1400ecb0ffc5b70aac51a   \n",
      "16          2                   dcae0161fdc53016df5201ba2140e698   \n",
      "\n",
      "    Weighted Avg Performance  Total Frequency Representative Image  \n",
      "0                   1.025581               92                 None  \n",
      "1                   1.062443               89                 None  \n",
      "2                   0.859423               59                 None  \n",
      "3                   0.774368                8                 None  \n",
      "4                   1.147668                3                 None  \n",
      "5                   0.156648                2                 None  \n",
      "6                   0.755186                2                 None  \n",
      "7                   0.393384                2                 None  \n",
      "8                   1.677401                2                 None  \n",
      "9                   0.970528                2                 None  \n",
      "10                  0.287683                1                 None  \n",
      "11                  1.530400                1                 None  \n",
      "12                  0.327600                1                 None  \n",
      "13                  0.826000                1                 None  \n",
      "14                  1.238300                1                 None  \n",
      "15                  0.527749                1                 None  \n",
      "16                  0.741103                1                 None  \n"
     ]
    }
   ],
   "source": [
    "def query_sqlite_db(db_file, query):\n",
    "    \"\"\"\n",
    "    Query an SQLite database.\n",
    "    \n",
    "    Args:\n",
    "        db_file (str): Path to the SQLite database file.\n",
    "        query (str): SQL query to execute.\n",
    "    \n",
    "    Returns:\n",
    "        pd.DataFrame: Query result as a pandas DataFrame.\n",
    "    \"\"\"\n",
    "    # Connect to SQLite database\n",
    "    conn = sqlite3.connect(db_file)\n",
    "    \n",
    "    # Execute query and load result into a DataFrame\n",
    "    result = pd.read_sql_query(query, conn)\n",
    "    \n",
    "    # Close connection\n",
    "    conn.close()\n",
    "    return result\n",
    "\n",
    "# Example query: Get all rows\n",
    "result_df = query_sqlite_db('video_groups.db', 'SELECT * FROM group_summary')\n",
    "print(result_df)\n"
   ]
  },
  {
   "cell_type": "code",
   "execution_count": null,
   "id": "bca4240f-bd6a-456d-86ed-de780bf2f9a6",
   "metadata": {},
   "outputs": [],
   "source": [
    "import sqlite3\n",
    "\n",
    "def save_image_to_db(db_file, table_name, group_id, image_path):\n",
    "    \"\"\"\n",
    "    Save a representative image as a BLOB in the SQLite database.\n",
    "    \n",
    "    Args:\n",
    "        db_file (str): Path to the SQLite database file.\n",
    "        table_name (str): Name of the table.\n",
    "        group_id (int): Group ID to associate the image with.\n",
    "        image_path (str): Path to the image file.\n",
    "    \"\"\"\n",
    "    # Read the image file in binary mode\n",
    "    with open(image_path, 'rb') as file:\n",
    "        image_data = file.read()\n",
    "    \n",
    "    # Connect to the database\n",
    "    conn = sqlite3.connect(db_file)\n",
    "    cursor = conn.cursor()\n",
    "    \n",
    "    # Update the table with the image\n",
    "    cursor.execute(f\"\"\"\n",
    "        UPDATE {table_name}\n",
    "        SET Representative_Image_BLOB = ?\n",
    "        WHERE [Group ID] = ?\n",
    "    \"\"\", (image_data, group_id))\n",
    "    \n",
    "    # Commit and close connection\n",
    "    conn.commit()\n",
    "    conn.close()\n",
    "    print(f\"Image {image_path} saved to database for Group ID {group_id}.\")\n",
    "\n"
   ]
  }
 ],
 "metadata": {
  "kernelspec": {
   "display_name": "temp1",
   "language": "python",
   "name": "temp1"
  },
  "language_info": {
   "codemirror_mode": {
    "name": "ipython",
    "version": 3
   },
   "file_extension": ".py",
   "mimetype": "text/x-python",
   "name": "python",
   "nbconvert_exporter": "python",
   "pygments_lexer": "ipython3",
   "version": "3.10.14"
  }
 },
 "nbformat": 4,
 "nbformat_minor": 5
}
