{
  "cells": [
    {
      "cell_type": "code",
      "source": [
        "!pip install face_recognition"
      ],
      "metadata": {
        "colab": {
          "base_uri": "https://localhost:8080/"
        },
        "id": "el7SSx_VePB0",
        "outputId": "08ec41ed-e72d-4c46-8116-859433e98241"
      },
      "execution_count": 1,
      "outputs": [
        {
          "output_type": "stream",
          "name": "stdout",
          "text": [
            "Collecting face_recognition\n",
            "  Downloading face_recognition-1.3.0-py2.py3-none-any.whl.metadata (21 kB)\n",
            "Collecting face-recognition-models>=0.3.0 (from face_recognition)\n",
            "  Downloading face_recognition_models-0.3.0.tar.gz (100.1 MB)\n",
            "\u001b[2K     \u001b[90m━━━━━━━━━━━━━━━━━━━━━━━━━━━━━━━━━━━━━━━━\u001b[0m \u001b[32m100.1/100.1 MB\u001b[0m \u001b[31m5.4 MB/s\u001b[0m eta \u001b[36m0:00:00\u001b[0m\n",
            "\u001b[?25h  Preparing metadata (setup.py) ... \u001b[?25l\u001b[?25hdone\n",
            "Requirement already satisfied: Click>=6.0 in /usr/local/lib/python3.10/dist-packages (from face_recognition) (8.1.7)\n",
            "Requirement already satisfied: dlib>=19.7 in /usr/local/lib/python3.10/dist-packages (from face_recognition) (19.24.2)\n",
            "Requirement already satisfied: numpy in /usr/local/lib/python3.10/dist-packages (from face_recognition) (1.26.4)\n",
            "Requirement already satisfied: Pillow in /usr/local/lib/python3.10/dist-packages (from face_recognition) (11.0.0)\n",
            "Downloading face_recognition-1.3.0-py2.py3-none-any.whl (15 kB)\n",
            "Building wheels for collected packages: face-recognition-models\n",
            "  Building wheel for face-recognition-models (setup.py) ... \u001b[?25l\u001b[?25hdone\n",
            "  Created wheel for face-recognition-models: filename=face_recognition_models-0.3.0-py2.py3-none-any.whl size=100566162 sha256=7a1df38a950533febe3825180a5368b84eaa2d7c5f31611b3ff6a772f6c59cde\n",
            "  Stored in directory: /root/.cache/pip/wheels/7a/eb/cf/e9eced74122b679557f597bb7c8e4c739cfcac526db1fd523d\n",
            "Successfully built face-recognition-models\n",
            "Installing collected packages: face-recognition-models, face_recognition\n",
            "Successfully installed face-recognition-models-0.3.0 face_recognition-1.3.0\n"
          ]
        }
      ]
    },
    {
      "cell_type": "code",
      "source": [
        "import os\n",
        "import requests\n",
        "from tqdm import tqdm  # For a progress bar\n",
        "import pandas as pd\n",
        "\n",
        "# Load the CSV file\n",
        "file_path = 'AssignmentData.csv'\n",
        "data = pd.read_csv(file_path)\n",
        "\n",
        "# Create a directory to save the downloaded videos\n",
        "download_dir = 'downloaded_videos'\n",
        "os.makedirs(download_dir, exist_ok=True)\n",
        "\n",
        "# Iterate through the URLs and download the videos\n",
        "for idx, url in tqdm(enumerate(data['Video URL']), total=len(data)):\n",
        "    try:\n",
        "        # Extract file name from the URL\n",
        "        file_name_from_url = url.split('/')[-1] + '.mp4'  # Take last part of URL and add .mp4\n",
        "        file_path = os.path.join(download_dir, file_name_from_url)\n",
        "\n",
        "        # Download the video\n",
        "        response = requests.get(url, stream=True)\n",
        "        if response.status_code == 200:\n",
        "            with open(file_path, 'wb') as f:\n",
        "                for chunk in response.iter_content(chunk_size=8192):\n",
        "                    f.write(chunk)\n",
        "            print(f\"Downloaded: {file_path}\")\n",
        "        else:\n",
        "            print(f\"Failed to download: {url} (Status Code: {response.status_code})\")\n",
        "    except Exception as e:\n",
        "        print(f\"Error downloading {url}: {e}\")\n"
      ],
      "metadata": {
        "colab": {
          "base_uri": "https://localhost:8080/"
        },
        "id": "skvRuwXK0Pma",
        "outputId": "8384bad1-255c-4a9a-8f32-535bc960d75c"
      },
      "execution_count": 19,
      "outputs": [
        {
          "output_type": "stream",
          "name": "stderr",
          "text": [
            "  0%|          | 1/268 [00:02<11:00,  2.48s/it]"
          ]
        },
        {
          "output_type": "stream",
          "name": "stdout",
          "text": [
            "Downloaded: downloaded_videos/hd-999607261342550.mp4\n"
          ]
        },
        {
          "output_type": "stream",
          "name": "stderr",
          "text": [
            "\r  1%|          | 2/268 [00:04<10:01,  2.26s/it]"
          ]
        },
        {
          "output_type": "stream",
          "name": "stdout",
          "text": [
            "Downloaded: downloaded_videos/hd-997580728807604.mp4\n"
          ]
        },
        {
          "output_type": "stream",
          "name": "stderr",
          "text": [
            "\r  1%|          | 3/268 [00:07<11:06,  2.52s/it]"
          ]
        },
        {
          "output_type": "stream",
          "name": "stdout",
          "text": [
            "Downloaded: downloaded_videos/hd-992418235673669.mp4\n"
          ]
        },
        {
          "output_type": "stream",
          "name": "stderr",
          "text": [
            "\r  1%|▏         | 4/268 [00:09<11:00,  2.50s/it]"
          ]
        },
        {
          "output_type": "stream",
          "name": "stdout",
          "text": [
            "Downloaded: downloaded_videos/hd-992064161877405.mp4\n"
          ]
        },
        {
          "output_type": "stream",
          "name": "stderr",
          "text": [
            "\r  2%|▏         | 5/268 [00:12<10:40,  2.44s/it]"
          ]
        },
        {
          "output_type": "stream",
          "name": "stdout",
          "text": [
            "Downloaded: downloaded_videos/hd-991636695150147.mp4\n"
          ]
        },
        {
          "output_type": "stream",
          "name": "stderr",
          "text": [
            "\r  2%|▏         | 6/268 [00:15<11:35,  2.66s/it]"
          ]
        },
        {
          "output_type": "stream",
          "name": "stdout",
          "text": [
            "Downloaded: downloaded_videos/hd-989969399547901.mp4\n"
          ]
        },
        {
          "output_type": "stream",
          "name": "stderr",
          "text": [
            "\r  3%|▎         | 7/268 [00:17<11:33,  2.66s/it]"
          ]
        },
        {
          "output_type": "stream",
          "name": "stdout",
          "text": [
            "Downloaded: downloaded_videos/hd-989930303148492.mp4\n"
          ]
        },
        {
          "output_type": "stream",
          "name": "stderr",
          "text": [
            "\r  3%|▎         | 8/268 [00:20<11:01,  2.54s/it]"
          ]
        },
        {
          "output_type": "stream",
          "name": "stdout",
          "text": [
            "Downloaded: downloaded_videos/hd-989654009083459.mp4\n"
          ]
        },
        {
          "output_type": "stream",
          "name": "stderr",
          "text": [
            "\r  3%|▎         | 9/268 [00:22<10:11,  2.36s/it]"
          ]
        },
        {
          "output_type": "stream",
          "name": "stdout",
          "text": [
            "Downloaded: downloaded_videos/hd-989600295478567.mp4\n"
          ]
        },
        {
          "output_type": "stream",
          "name": "stderr",
          "text": [
            "\r  4%|▎         | 10/268 [00:24<10:23,  2.42s/it]"
          ]
        },
        {
          "output_type": "stream",
          "name": "stdout",
          "text": [
            "Downloaded: downloaded_videos/hd-989284361966196.mp4\n"
          ]
        },
        {
          "output_type": "stream",
          "name": "stderr",
          "text": [
            "\r  4%|▍         | 11/268 [00:27<10:22,  2.42s/it]"
          ]
        },
        {
          "output_type": "stream",
          "name": "stdout",
          "text": [
            "Downloaded: downloaded_videos/hd-988185795921355.mp4\n"
          ]
        },
        {
          "output_type": "stream",
          "name": "stderr",
          "text": [
            "\r  4%|▍         | 12/268 [00:29<10:46,  2.53s/it]"
          ]
        },
        {
          "output_type": "stream",
          "name": "stdout",
          "text": [
            "Downloaded: downloaded_videos/hd-987643572956494.mp4\n"
          ]
        },
        {
          "output_type": "stream",
          "name": "stderr",
          "text": [
            "\r  5%|▍         | 13/268 [00:32<10:27,  2.46s/it]"
          ]
        },
        {
          "output_type": "stream",
          "name": "stdout",
          "text": [
            "Downloaded: downloaded_videos/hd-987287402378278.mp4\n"
          ]
        },
        {
          "output_type": "stream",
          "name": "stderr",
          "text": [
            "\r  5%|▌         | 14/268 [00:34<09:59,  2.36s/it]"
          ]
        },
        {
          "output_type": "stream",
          "name": "stdout",
          "text": [
            "Downloaded: downloaded_videos/hd-987232088920289.mp4\n"
          ]
        },
        {
          "output_type": "stream",
          "name": "stderr",
          "text": [
            "\r  6%|▌         | 15/268 [00:36<09:39,  2.29s/it]"
          ]
        },
        {
          "output_type": "stream",
          "name": "stdout",
          "text": [
            "Downloaded: downloaded_videos/hd-986360206629277.mp4\n"
          ]
        },
        {
          "output_type": "stream",
          "name": "stderr",
          "text": [
            "\r  6%|▌         | 16/268 [00:39<09:52,  2.35s/it]"
          ]
        },
        {
          "output_type": "stream",
          "name": "stdout",
          "text": [
            "Downloaded: downloaded_videos/hd-983335896508749.mp4\n"
          ]
        },
        {
          "output_type": "stream",
          "name": "stderr",
          "text": [
            "\r  6%|▋         | 17/268 [00:41<09:35,  2.29s/it]"
          ]
        },
        {
          "output_type": "stream",
          "name": "stdout",
          "text": [
            "Downloaded: downloaded_videos/hd-978448136455993.mp4\n"
          ]
        },
        {
          "output_type": "stream",
          "name": "stderr",
          "text": [
            "\r  7%|▋         | 18/268 [00:43<09:36,  2.30s/it]"
          ]
        },
        {
          "output_type": "stream",
          "name": "stdout",
          "text": [
            "Downloaded: downloaded_videos/hd-977008307250628.mp4\n"
          ]
        },
        {
          "output_type": "stream",
          "name": "stderr",
          "text": [
            "\r  7%|▋         | 19/268 [00:46<10:22,  2.50s/it]"
          ]
        },
        {
          "output_type": "stream",
          "name": "stdout",
          "text": [
            "Downloaded: downloaded_videos/hd-975523146942238.mp4\n"
          ]
        },
        {
          "output_type": "stream",
          "name": "stderr",
          "text": [
            "\r  7%|▋         | 20/268 [00:48<10:20,  2.50s/it]"
          ]
        },
        {
          "output_type": "stream",
          "name": "stdout",
          "text": [
            "Downloaded: downloaded_videos/hd-967731231014052.mp4\n"
          ]
        },
        {
          "output_type": "stream",
          "name": "stderr",
          "text": [
            "\r  8%|▊         | 21/268 [00:51<09:55,  2.41s/it]"
          ]
        },
        {
          "output_type": "stream",
          "name": "stdout",
          "text": [
            "Downloaded: downloaded_videos/hd-966715248087290.mp4\n"
          ]
        },
        {
          "output_type": "stream",
          "name": "stderr",
          "text": [
            "\r  8%|▊         | 22/268 [00:53<09:56,  2.42s/it]"
          ]
        },
        {
          "output_type": "stream",
          "name": "stdout",
          "text": [
            "Downloaded: downloaded_videos/hd-966458824582483.mp4\n"
          ]
        },
        {
          "output_type": "stream",
          "name": "stderr",
          "text": [
            "\r  9%|▊         | 23/268 [00:55<09:44,  2.38s/it]"
          ]
        },
        {
          "output_type": "stream",
          "name": "stdout",
          "text": [
            "Downloaded: downloaded_videos/hd-966019214364727.mp4\n"
          ]
        },
        {
          "output_type": "stream",
          "name": "stderr",
          "text": [
            "\r  9%|▉         | 24/268 [00:58<09:58,  2.45s/it]"
          ]
        },
        {
          "output_type": "stream",
          "name": "stdout",
          "text": [
            "Downloaded: downloaded_videos/hd-965108935263649.mp4\n"
          ]
        },
        {
          "output_type": "stream",
          "name": "stderr",
          "text": [
            "\r  9%|▉         | 25/268 [01:00<09:09,  2.26s/it]"
          ]
        },
        {
          "output_type": "stream",
          "name": "stdout",
          "text": [
            "Downloaded: downloaded_videos/hd-964733417506862.mp4\n"
          ]
        },
        {
          "output_type": "stream",
          "name": "stderr",
          "text": [
            "\r 10%|▉         | 26/268 [01:03<10:06,  2.51s/it]"
          ]
        },
        {
          "output_type": "stream",
          "name": "stdout",
          "text": [
            "Downloaded: downloaded_videos/hd-963303392509872.mp4\n"
          ]
        },
        {
          "output_type": "stream",
          "name": "stderr",
          "text": [
            "\r 10%|█         | 27/268 [01:05<09:13,  2.30s/it]"
          ]
        },
        {
          "output_type": "stream",
          "name": "stdout",
          "text": [
            "Downloaded: downloaded_videos/hd-960884234555681.mp4\n"
          ]
        },
        {
          "output_type": "stream",
          "name": "stderr",
          "text": [
            "\r 10%|█         | 28/268 [01:07<09:03,  2.27s/it]"
          ]
        },
        {
          "output_type": "stream",
          "name": "stdout",
          "text": [
            "Downloaded: downloaded_videos/hd-958774641659407.mp4\n"
          ]
        },
        {
          "output_type": "stream",
          "name": "stderr",
          "text": [
            "\r 11%|█         | 29/268 [01:09<09:14,  2.32s/it]"
          ]
        },
        {
          "output_type": "stream",
          "name": "stdout",
          "text": [
            "Downloaded: downloaded_videos/hd-958675741960412.mp4\n"
          ]
        },
        {
          "output_type": "stream",
          "name": "stderr",
          "text": [
            "\r 11%|█         | 30/268 [01:12<09:21,  2.36s/it]"
          ]
        },
        {
          "output_type": "stream",
          "name": "stdout",
          "text": [
            "Downloaded: downloaded_videos/hd-958267042213267.mp4\n"
          ]
        },
        {
          "output_type": "stream",
          "name": "stderr",
          "text": [
            "\r 12%|█▏        | 31/268 [01:15<09:52,  2.50s/it]"
          ]
        },
        {
          "output_type": "stream",
          "name": "stdout",
          "text": [
            "Downloaded: downloaded_videos/hd-954832972830686.mp4\n"
          ]
        },
        {
          "output_type": "stream",
          "name": "stderr",
          "text": [
            "\r 12%|█▏        | 32/268 [01:17<10:09,  2.58s/it]"
          ]
        },
        {
          "output_type": "stream",
          "name": "stdout",
          "text": [
            "Downloaded: downloaded_videos/hd-954440782897187.mp4\n"
          ]
        },
        {
          "output_type": "stream",
          "name": "stderr",
          "text": [
            "\r 12%|█▏        | 33/268 [01:20<09:38,  2.46s/it]"
          ]
        },
        {
          "output_type": "stream",
          "name": "stdout",
          "text": [
            "Downloaded: downloaded_videos/hd-951885082053340.mp4\n"
          ]
        },
        {
          "output_type": "stream",
          "name": "stderr",
          "text": [
            "\r 13%|█▎        | 34/268 [01:22<09:13,  2.37s/it]"
          ]
        },
        {
          "output_type": "stream",
          "name": "stdout",
          "text": [
            "Downloaded: downloaded_videos/hd-951491629353387.mp4\n"
          ]
        },
        {
          "output_type": "stream",
          "name": "stderr",
          "text": [
            "\r 13%|█▎        | 35/268 [01:24<09:19,  2.40s/it]"
          ]
        },
        {
          "output_type": "stream",
          "name": "stdout",
          "text": [
            "Downloaded: downloaded_videos/hd-946181943065342.mp4\n"
          ]
        },
        {
          "output_type": "stream",
          "name": "stderr",
          "text": [
            "\r 13%|█▎        | 36/268 [01:26<08:47,  2.27s/it]"
          ]
        },
        {
          "output_type": "stream",
          "name": "stdout",
          "text": [
            "Downloaded: downloaded_videos/hd-944981830978756.mp4\n"
          ]
        },
        {
          "output_type": "stream",
          "name": "stderr",
          "text": [
            "\r 14%|█▍        | 37/268 [01:29<08:58,  2.33s/it]"
          ]
        },
        {
          "output_type": "stream",
          "name": "stdout",
          "text": [
            "Downloaded: downloaded_videos/hd-944755280756437.mp4\n"
          ]
        },
        {
          "output_type": "stream",
          "name": "stderr",
          "text": [
            "\r 14%|█▍        | 38/268 [01:31<08:46,  2.29s/it]"
          ]
        },
        {
          "output_type": "stream",
          "name": "stdout",
          "text": [
            "Downloaded: downloaded_videos/hd-944160410298140.mp4\n"
          ]
        },
        {
          "output_type": "stream",
          "name": "stderr",
          "text": [
            "\r 15%|█▍        | 39/268 [01:34<09:51,  2.58s/it]"
          ]
        },
        {
          "output_type": "stream",
          "name": "stdout",
          "text": [
            "Downloaded: downloaded_videos/hd-942779243913664.mp4\n"
          ]
        },
        {
          "output_type": "stream",
          "name": "stderr",
          "text": [
            "\r 15%|█▍        | 40/268 [01:36<09:29,  2.50s/it]"
          ]
        },
        {
          "output_type": "stream",
          "name": "stdout",
          "text": [
            "Downloaded: downloaded_videos/hd-942524046763053.mp4\n"
          ]
        },
        {
          "output_type": "stream",
          "name": "stderr",
          "text": [
            "\r 15%|█▌        | 41/268 [01:39<09:11,  2.43s/it]"
          ]
        },
        {
          "output_type": "stream",
          "name": "stdout",
          "text": [
            "Downloaded: downloaded_videos/hd-940634710428411.mp4\n"
          ]
        },
        {
          "output_type": "stream",
          "name": "stderr",
          "text": [
            "\r 16%|█▌        | 42/268 [01:41<09:22,  2.49s/it]"
          ]
        },
        {
          "output_type": "stream",
          "name": "stdout",
          "text": [
            "Downloaded: downloaded_videos/hd-939795907980426.mp4\n"
          ]
        },
        {
          "output_type": "stream",
          "name": "stderr",
          "text": [
            "\r 16%|█▌        | 43/268 [01:44<09:29,  2.53s/it]"
          ]
        },
        {
          "output_type": "stream",
          "name": "stdout",
          "text": [
            "Downloaded: downloaded_videos/hd-938232524809973.mp4\n"
          ]
        },
        {
          "output_type": "stream",
          "name": "stderr",
          "text": [
            "\r 16%|█▋        | 44/268 [01:46<09:25,  2.52s/it]"
          ]
        },
        {
          "output_type": "stream",
          "name": "stdout",
          "text": [
            "Downloaded: downloaded_videos/hd-937508703912579.mp4\n"
          ]
        },
        {
          "output_type": "stream",
          "name": "stderr",
          "text": [
            "\r 17%|█▋        | 45/268 [01:49<09:28,  2.55s/it]"
          ]
        },
        {
          "output_type": "stream",
          "name": "stdout",
          "text": [
            "Downloaded: downloaded_videos/hd-937410954343974.mp4\n"
          ]
        },
        {
          "output_type": "stream",
          "name": "stderr",
          "text": [
            "\r 17%|█▋        | 46/268 [01:51<09:07,  2.47s/it]"
          ]
        },
        {
          "output_type": "stream",
          "name": "stdout",
          "text": [
            "Downloaded: downloaded_videos/hd-935558767885747.mp4\n"
          ]
        },
        {
          "output_type": "stream",
          "name": "stderr",
          "text": [
            "\r 18%|█▊        | 47/268 [01:53<08:43,  2.37s/it]"
          ]
        },
        {
          "output_type": "stream",
          "name": "stdout",
          "text": [
            "Downloaded: downloaded_videos/hd-935530867630269.mp4\n"
          ]
        },
        {
          "output_type": "stream",
          "name": "stderr",
          "text": [
            "\r 18%|█▊        | 48/268 [01:56<08:27,  2.31s/it]"
          ]
        },
        {
          "output_type": "stream",
          "name": "stdout",
          "text": [
            "Downloaded: downloaded_videos/hd-935168780798574.mp4\n"
          ]
        },
        {
          "output_type": "stream",
          "name": "stderr",
          "text": [
            "\r 18%|█▊        | 49/268 [01:58<08:37,  2.36s/it]"
          ]
        },
        {
          "output_type": "stream",
          "name": "stdout",
          "text": [
            "Downloaded: downloaded_videos/hd-933913194646448.mp4\n"
          ]
        },
        {
          "output_type": "stream",
          "name": "stderr",
          "text": [
            "\r 19%|█▊        | 50/268 [02:01<08:52,  2.44s/it]"
          ]
        },
        {
          "output_type": "stream",
          "name": "stdout",
          "text": [
            "Downloaded: downloaded_videos/hd-933773150951550.mp4\n"
          ]
        },
        {
          "output_type": "stream",
          "name": "stderr",
          "text": [
            "\r 19%|█▉        | 51/268 [02:03<09:03,  2.50s/it]"
          ]
        },
        {
          "output_type": "stream",
          "name": "stdout",
          "text": [
            "Downloaded: downloaded_videos/hd-932703258597949.mp4\n"
          ]
        },
        {
          "output_type": "stream",
          "name": "stderr",
          "text": [
            "\r 19%|█▉        | 52/268 [02:06<09:11,  2.55s/it]"
          ]
        },
        {
          "output_type": "stream",
          "name": "stdout",
          "text": [
            "Downloaded: downloaded_videos/hd-932296771464171.mp4\n"
          ]
        },
        {
          "output_type": "stream",
          "name": "stderr",
          "text": [
            "\r 20%|█▉        | 53/268 [02:08<08:53,  2.48s/it]"
          ]
        },
        {
          "output_type": "stream",
          "name": "stdout",
          "text": [
            "Downloaded: downloaded_videos/hd-932085787962122.mp4\n"
          ]
        },
        {
          "output_type": "stream",
          "name": "stderr",
          "text": [
            "\r 20%|██        | 54/268 [02:11<08:50,  2.48s/it]"
          ]
        },
        {
          "output_type": "stream",
          "name": "stdout",
          "text": [
            "Downloaded: downloaded_videos/hd-932038864470963.mp4\n"
          ]
        },
        {
          "output_type": "stream",
          "name": "stderr",
          "text": [
            "\r 21%|██        | 55/268 [02:13<08:38,  2.43s/it]"
          ]
        },
        {
          "output_type": "stream",
          "name": "stdout",
          "text": [
            "Downloaded: downloaded_videos/hd-930116227971248.mp4\n"
          ]
        },
        {
          "output_type": "stream",
          "name": "stderr",
          "text": [
            "\r 21%|██        | 56/268 [02:16<08:37,  2.44s/it]"
          ]
        },
        {
          "output_type": "stream",
          "name": "stdout",
          "text": [
            "Downloaded: downloaded_videos/hd-929830031529018.mp4\n"
          ]
        },
        {
          "output_type": "stream",
          "name": "stderr",
          "text": [
            "\r 21%|██▏       | 57/268 [02:18<08:50,  2.51s/it]"
          ]
        },
        {
          "output_type": "stream",
          "name": "stdout",
          "text": [
            "Downloaded: downloaded_videos/hd-929511878466995.mp4\n"
          ]
        },
        {
          "output_type": "stream",
          "name": "stderr",
          "text": [
            "\r 22%|██▏       | 58/268 [02:21<08:33,  2.44s/it]"
          ]
        },
        {
          "output_type": "stream",
          "name": "stdout",
          "text": [
            "Downloaded: downloaded_videos/hd-929300948587514.mp4\n"
          ]
        },
        {
          "output_type": "stream",
          "name": "stderr",
          "text": [
            "\r 22%|██▏       | 59/268 [02:23<08:29,  2.44s/it]"
          ]
        },
        {
          "output_type": "stream",
          "name": "stdout",
          "text": [
            "Downloaded: downloaded_videos/hd-925596815118953.mp4\n"
          ]
        },
        {
          "output_type": "stream",
          "name": "stderr",
          "text": [
            "\r 22%|██▏       | 60/268 [02:25<08:18,  2.39s/it]"
          ]
        },
        {
          "output_type": "stream",
          "name": "stdout",
          "text": [
            "Downloaded: downloaded_videos/hd-925260332281638.mp4\n"
          ]
        },
        {
          "output_type": "stream",
          "name": "stderr",
          "text": [
            "\r 23%|██▎       | 61/268 [02:28<08:18,  2.41s/it]"
          ]
        },
        {
          "output_type": "stream",
          "name": "stdout",
          "text": [
            "Downloaded: downloaded_videos/hd-924865635226814.mp4\n"
          ]
        },
        {
          "output_type": "stream",
          "name": "stderr",
          "text": [
            "\r 23%|██▎       | 62/268 [02:30<08:08,  2.37s/it]"
          ]
        },
        {
          "output_type": "stream",
          "name": "stdout",
          "text": [
            "Downloaded: downloaded_videos/hd-924585008982148.mp4\n"
          ]
        },
        {
          "output_type": "stream",
          "name": "stderr",
          "text": [
            "\r 24%|██▎       | 63/268 [02:33<08:15,  2.42s/it]"
          ]
        },
        {
          "output_type": "stream",
          "name": "stdout",
          "text": [
            "Downloaded: downloaded_videos/hd-621652523105267.mp4\n"
          ]
        },
        {
          "output_type": "stream",
          "name": "stderr",
          "text": [
            "\r 24%|██▍       | 64/268 [02:35<08:06,  2.38s/it]"
          ]
        },
        {
          "output_type": "stream",
          "name": "stdout",
          "text": [
            "Downloaded: downloaded_videos/hd-621266003076530.mp4\n"
          ]
        },
        {
          "output_type": "stream",
          "name": "stderr",
          "text": [
            "\r 24%|██▍       | 65/268 [02:37<07:20,  2.17s/it]"
          ]
        },
        {
          "output_type": "stream",
          "name": "stdout",
          "text": [
            "Downloaded: downloaded_videos/hd-620702145697389.mp4\n"
          ]
        },
        {
          "output_type": "stream",
          "name": "stderr",
          "text": [
            "\r 25%|██▍       | 66/268 [02:39<07:47,  2.31s/it]"
          ]
        },
        {
          "output_type": "stream",
          "name": "stdout",
          "text": [
            "Downloaded: downloaded_videos/hd-620154813059921.mp4\n"
          ]
        },
        {
          "output_type": "stream",
          "name": "stderr",
          "text": [
            "\r 25%|██▌       | 67/268 [02:41<07:35,  2.27s/it]"
          ]
        },
        {
          "output_type": "stream",
          "name": "stdout",
          "text": [
            "Downloaded: downloaded_videos/hd-618555366744628.mp4\n"
          ]
        },
        {
          "output_type": "stream",
          "name": "stderr",
          "text": [
            "\r 25%|██▌       | 68/268 [02:44<07:44,  2.32s/it]"
          ]
        },
        {
          "output_type": "stream",
          "name": "stdout",
          "text": [
            "Downloaded: downloaded_videos/hd-6174004652651971.mp4\n"
          ]
        },
        {
          "output_type": "stream",
          "name": "stderr",
          "text": [
            "\r 26%|██▌       | 69/268 [02:46<07:45,  2.34s/it]"
          ]
        },
        {
          "output_type": "stream",
          "name": "stdout",
          "text": [
            "Downloaded: downloaded_videos/hd-617288786873081.mp4\n"
          ]
        },
        {
          "output_type": "stream",
          "name": "stderr",
          "text": [
            "\r 26%|██▌       | 70/268 [02:49<07:51,  2.38s/it]"
          ]
        },
        {
          "output_type": "stream",
          "name": "stdout",
          "text": [
            "Downloaded: downloaded_videos/hd-6172742522782221.mp4\n"
          ]
        },
        {
          "output_type": "stream",
          "name": "stderr",
          "text": [
            "\r 26%|██▋       | 71/268 [02:51<07:38,  2.33s/it]"
          ]
        },
        {
          "output_type": "stream",
          "name": "stdout",
          "text": [
            "Downloaded: downloaded_videos/hd-613417017284998.mp4\n"
          ]
        },
        {
          "output_type": "stream",
          "name": "stderr",
          "text": [
            "\r 27%|██▋       | 72/268 [02:53<07:14,  2.22s/it]"
          ]
        },
        {
          "output_type": "stream",
          "name": "stdout",
          "text": [
            "Downloaded: downloaded_videos/hd-613197413789434.mp4\n"
          ]
        },
        {
          "output_type": "stream",
          "name": "stderr",
          "text": [
            "\r 27%|██▋       | 73/268 [02:55<07:16,  2.24s/it]"
          ]
        },
        {
          "output_type": "stream",
          "name": "stdout",
          "text": [
            "Downloaded: downloaded_videos/hd-613152173490344.mp4\n"
          ]
        },
        {
          "output_type": "stream",
          "name": "stderr",
          "text": [
            "\r 28%|██▊       | 74/268 [02:57<07:13,  2.23s/it]"
          ]
        },
        {
          "output_type": "stream",
          "name": "stdout",
          "text": [
            "Downloaded: downloaded_videos/hd-612555930635832.mp4\n"
          ]
        },
        {
          "output_type": "stream",
          "name": "stderr",
          "text": [
            "\r 28%|██▊       | 75/268 [03:00<07:15,  2.26s/it]"
          ]
        },
        {
          "output_type": "stream",
          "name": "stdout",
          "text": [
            "Downloaded: downloaded_videos/hd-612426467555072.mp4\n"
          ]
        },
        {
          "output_type": "stream",
          "name": "stderr",
          "text": [
            "\r 28%|██▊       | 76/268 [03:02<07:24,  2.31s/it]"
          ]
        },
        {
          "output_type": "stream",
          "name": "stdout",
          "text": [
            "Downloaded: downloaded_videos/hd-611188517518682.mp4\n"
          ]
        },
        {
          "output_type": "stream",
          "name": "stderr",
          "text": [
            "\r 29%|██▊       | 77/268 [03:05<07:31,  2.37s/it]"
          ]
        },
        {
          "output_type": "stream",
          "name": "stdout",
          "text": [
            "Downloaded: downloaded_videos/hd-6107397609317402.mp4\n"
          ]
        },
        {
          "output_type": "stream",
          "name": "stderr",
          "text": [
            "\r 29%|██▉       | 78/268 [03:07<07:28,  2.36s/it]"
          ]
        },
        {
          "output_type": "stream",
          "name": "stdout",
          "text": [
            "Downloaded: downloaded_videos/hd-6096104653784047.mp4\n"
          ]
        },
        {
          "output_type": "stream",
          "name": "stderr",
          "text": [
            "\r 29%|██▉       | 79/268 [03:09<07:20,  2.33s/it]"
          ]
        },
        {
          "output_type": "stream",
          "name": "stdout",
          "text": [
            "Downloaded: downloaded_videos/hd-606237444463640.mp4\n"
          ]
        },
        {
          "output_type": "stream",
          "name": "stderr",
          "text": [
            "\r 30%|██▉       | 80/268 [03:12<07:21,  2.35s/it]"
          ]
        },
        {
          "output_type": "stream",
          "name": "stdout",
          "text": [
            "Downloaded: downloaded_videos/hd-605272664726548.mp4\n"
          ]
        },
        {
          "output_type": "stream",
          "name": "stderr",
          "text": [
            "\r 30%|███       | 81/268 [03:14<07:42,  2.47s/it]"
          ]
        },
        {
          "output_type": "stream",
          "name": "stdout",
          "text": [
            "Downloaded: downloaded_videos/hd-6046690562050296.mp4\n"
          ]
        },
        {
          "output_type": "stream",
          "name": "stderr",
          "text": [
            "\r 31%|███       | 82/268 [03:16<07:10,  2.32s/it]"
          ]
        },
        {
          "output_type": "stream",
          "name": "stdout",
          "text": [
            "Downloaded: downloaded_videos/hd-604285914607200.mp4\n"
          ]
        },
        {
          "output_type": "stream",
          "name": "stderr",
          "text": [
            "\r 31%|███       | 83/268 [03:19<07:19,  2.37s/it]"
          ]
        },
        {
          "output_type": "stream",
          "name": "stdout",
          "text": [
            "Downloaded: downloaded_videos/hd-604041931565137.mp4\n"
          ]
        },
        {
          "output_type": "stream",
          "name": "stderr",
          "text": [
            "\r 31%|███▏      | 84/268 [03:20<06:27,  2.11s/it]"
          ]
        },
        {
          "output_type": "stream",
          "name": "stdout",
          "text": [
            "Downloaded: downloaded_videos/hd-603099807587246.mp4\n"
          ]
        },
        {
          "output_type": "stream",
          "name": "stderr",
          "text": [
            "\r 32%|███▏      | 85/268 [03:23<06:53,  2.26s/it]"
          ]
        },
        {
          "output_type": "stream",
          "name": "stdout",
          "text": [
            "Downloaded: downloaded_videos/hd-911926190614858.mp4\n"
          ]
        },
        {
          "output_type": "stream",
          "name": "stderr",
          "text": [
            "\r 32%|███▏      | 86/268 [03:25<07:01,  2.32s/it]"
          ]
        },
        {
          "output_type": "stream",
          "name": "stdout",
          "text": [
            "Downloaded: downloaded_videos/hd-911482386703699.mp4\n"
          ]
        },
        {
          "output_type": "stream",
          "name": "stderr",
          "text": [
            "\r 32%|███▏      | 87/268 [03:28<07:07,  2.36s/it]"
          ]
        },
        {
          "output_type": "stream",
          "name": "stdout",
          "text": [
            "Downloaded: downloaded_videos/hd-911172609864769.mp4\n"
          ]
        },
        {
          "output_type": "stream",
          "name": "stderr",
          "text": [
            "\r 33%|███▎      | 88/268 [03:30<07:00,  2.34s/it]"
          ]
        },
        {
          "output_type": "stream",
          "name": "stdout",
          "text": [
            "Downloaded: downloaded_videos/hd-910958533691058.mp4\n"
          ]
        },
        {
          "output_type": "stream",
          "name": "stderr",
          "text": [
            "\r 33%|███▎      | 89/268 [03:33<07:15,  2.43s/it]"
          ]
        },
        {
          "output_type": "stream",
          "name": "stdout",
          "text": [
            "Downloaded: downloaded_videos/hd-909937876815529.mp4\n"
          ]
        },
        {
          "output_type": "stream",
          "name": "stderr",
          "text": [
            "\r 34%|███▎      | 90/268 [03:35<07:12,  2.43s/it]"
          ]
        },
        {
          "output_type": "stream",
          "name": "stdout",
          "text": [
            "Downloaded: downloaded_videos/hd-909110383822260.mp4\n"
          ]
        },
        {
          "output_type": "stream",
          "name": "stderr",
          "text": [
            "\r 34%|███▍      | 91/268 [03:37<06:58,  2.37s/it]"
          ]
        },
        {
          "output_type": "stream",
          "name": "stdout",
          "text": [
            "Downloaded: downloaded_videos/hd-909067460285978.mp4\n"
          ]
        },
        {
          "output_type": "stream",
          "name": "stderr",
          "text": [
            "\r 34%|███▍      | 92/268 [03:40<07:09,  2.44s/it]"
          ]
        },
        {
          "output_type": "stream",
          "name": "stdout",
          "text": [
            "Downloaded: downloaded_videos/hd-907416560296782.mp4\n"
          ]
        },
        {
          "output_type": "stream",
          "name": "stderr",
          "text": [
            "\r 35%|███▍      | 93/268 [03:42<07:08,  2.45s/it]"
          ]
        },
        {
          "output_type": "stream",
          "name": "stdout",
          "text": [
            "Downloaded: downloaded_videos/hd-906909830682725.mp4\n"
          ]
        },
        {
          "output_type": "stream",
          "name": "stderr",
          "text": [
            "\r 35%|███▌      | 94/268 [03:44<06:41,  2.31s/it]"
          ]
        },
        {
          "output_type": "stream",
          "name": "stdout",
          "text": [
            "Downloaded: downloaded_videos/hd-906506897404894.mp4\n"
          ]
        },
        {
          "output_type": "stream",
          "name": "stderr",
          "text": [
            "\r 35%|███▌      | 95/268 [03:47<06:45,  2.34s/it]"
          ]
        },
        {
          "output_type": "stream",
          "name": "stdout",
          "text": [
            "Downloaded: downloaded_videos/hd-905844110841635.mp4\n"
          ]
        },
        {
          "output_type": "stream",
          "name": "stderr",
          "text": [
            "\r 36%|███▌      | 96/268 [03:49<06:32,  2.28s/it]"
          ]
        },
        {
          "output_type": "stream",
          "name": "stdout",
          "text": [
            "Downloaded: downloaded_videos/hd-905739711170399.mp4\n"
          ]
        },
        {
          "output_type": "stream",
          "name": "stderr",
          "text": [
            "\r 36%|███▌      | 97/268 [03:52<06:49,  2.39s/it]"
          ]
        },
        {
          "output_type": "stream",
          "name": "stdout",
          "text": [
            "Downloaded: downloaded_videos/hd-905545323817883.mp4\n"
          ]
        },
        {
          "output_type": "stream",
          "name": "stderr",
          "text": [
            "\r 37%|███▋      | 98/268 [03:54<07:07,  2.52s/it]"
          ]
        },
        {
          "output_type": "stream",
          "name": "stdout",
          "text": [
            "Downloaded: downloaded_videos/hd-904815481005158.mp4\n"
          ]
        },
        {
          "output_type": "stream",
          "name": "stderr",
          "text": [
            "\r 37%|███▋      | 99/268 [03:57<07:11,  2.55s/it]"
          ]
        },
        {
          "output_type": "stream",
          "name": "stdout",
          "text": [
            "Downloaded: downloaded_videos/hd-904480964010630.mp4\n"
          ]
        },
        {
          "output_type": "stream",
          "name": "stderr",
          "text": [
            "\r 37%|███▋      | 100/268 [04:00<07:28,  2.67s/it]"
          ]
        },
        {
          "output_type": "stream",
          "name": "stdout",
          "text": [
            "Downloaded: downloaded_videos/hd-904174908300812.mp4\n"
          ]
        },
        {
          "output_type": "stream",
          "name": "stderr",
          "text": [
            "\r 38%|███▊      | 101/268 [04:02<07:07,  2.56s/it]"
          ]
        },
        {
          "output_type": "stream",
          "name": "stdout",
          "text": [
            "Downloaded: downloaded_videos/hd-903960640750545.mp4\n"
          ]
        },
        {
          "output_type": "stream",
          "name": "stderr",
          "text": [
            "\r 38%|███▊      | 102/268 [04:05<07:07,  2.58s/it]"
          ]
        },
        {
          "output_type": "stream",
          "name": "stdout",
          "text": [
            "Downloaded: downloaded_videos/hd-903913985069116.mp4\n"
          ]
        },
        {
          "output_type": "stream",
          "name": "stderr",
          "text": [
            "\r 38%|███▊      | 103/268 [04:08<07:03,  2.57s/it]"
          ]
        },
        {
          "output_type": "stream",
          "name": "stdout",
          "text": [
            "Downloaded: downloaded_videos/hd-903060767715541.mp4\n"
          ]
        },
        {
          "output_type": "stream",
          "name": "stderr",
          "text": [
            "\r 39%|███▉      | 104/268 [04:10<06:48,  2.49s/it]"
          ]
        },
        {
          "output_type": "stream",
          "name": "stdout",
          "text": [
            "Downloaded: downloaded_videos/hd-902843234362370.mp4\n"
          ]
        },
        {
          "output_type": "stream",
          "name": "stderr",
          "text": [
            "\r 39%|███▉      | 105/268 [04:13<07:01,  2.58s/it]"
          ]
        },
        {
          "output_type": "stream",
          "name": "stdout",
          "text": [
            "Downloaded: downloaded_videos/hd-902456848100089.mp4\n"
          ]
        },
        {
          "output_type": "stream",
          "name": "stderr",
          "text": [
            "\r 40%|███▉      | 106/268 [04:15<06:45,  2.50s/it]"
          ]
        },
        {
          "output_type": "stream",
          "name": "stdout",
          "text": [
            "Downloaded: downloaded_videos/hd-902309670925392.mp4\n"
          ]
        },
        {
          "output_type": "stream",
          "name": "stderr",
          "text": [
            "\r 40%|███▉      | 107/268 [04:17<06:36,  2.46s/it]"
          ]
        },
        {
          "output_type": "stream",
          "name": "stdout",
          "text": [
            "Downloaded: downloaded_videos/hd-9020567984620018.mp4\n"
          ]
        },
        {
          "output_type": "stream",
          "name": "stderr",
          "text": [
            "\r 40%|████      | 108/268 [04:20<06:35,  2.47s/it]"
          ]
        },
        {
          "output_type": "stream",
          "name": "stdout",
          "text": [
            "Downloaded: downloaded_videos/hd-901695498551491.mp4\n"
          ]
        },
        {
          "output_type": "stream",
          "name": "stderr",
          "text": [
            "\r 41%|████      | 109/268 [04:23<06:47,  2.56s/it]"
          ]
        },
        {
          "output_type": "stream",
          "name": "stdout",
          "text": [
            "Downloaded: downloaded_videos/hd-901272811190482.mp4\n"
          ]
        },
        {
          "output_type": "stream",
          "name": "stderr",
          "text": [
            "\r 41%|████      | 110/268 [04:25<06:41,  2.54s/it]"
          ]
        },
        {
          "output_type": "stream",
          "name": "stdout",
          "text": [
            "Downloaded: downloaded_videos/hd-899987727789409.mp4\n"
          ]
        },
        {
          "output_type": "stream",
          "name": "stderr",
          "text": [
            "\r 41%|████▏     | 111/268 [04:27<06:18,  2.41s/it]"
          ]
        },
        {
          "output_type": "stream",
          "name": "stdout",
          "text": [
            "Downloaded: downloaded_videos/hd-8995485367146316.mp4\n"
          ]
        },
        {
          "output_type": "stream",
          "name": "stderr",
          "text": [
            "\r 42%|████▏     | 112/268 [04:30<06:18,  2.42s/it]"
          ]
        },
        {
          "output_type": "stream",
          "name": "stdout",
          "text": [
            "Downloaded: downloaded_videos/hd-899155277883965.mp4\n"
          ]
        },
        {
          "output_type": "stream",
          "name": "stderr",
          "text": [
            "\r 42%|████▏     | 113/268 [04:32<06:24,  2.48s/it]"
          ]
        },
        {
          "output_type": "stream",
          "name": "stdout",
          "text": [
            "Downloaded: downloaded_videos/hd-898967424867870.mp4\n"
          ]
        },
        {
          "output_type": "stream",
          "name": "stderr",
          "text": [
            "\r 43%|████▎     | 114/268 [04:35<06:14,  2.43s/it]"
          ]
        },
        {
          "output_type": "stream",
          "name": "stdout",
          "text": [
            "Downloaded: downloaded_videos/hd-898402801287469.mp4\n"
          ]
        },
        {
          "output_type": "stream",
          "name": "stderr",
          "text": [
            "\r 43%|████▎     | 115/268 [04:37<06:14,  2.45s/it]"
          ]
        },
        {
          "output_type": "stream",
          "name": "stdout",
          "text": [
            "Downloaded: downloaded_videos/hd-898103501380741.mp4\n"
          ]
        },
        {
          "output_type": "stream",
          "name": "stderr",
          "text": [
            "\r 43%|████▎     | 116/268 [04:40<06:21,  2.51s/it]"
          ]
        },
        {
          "output_type": "stream",
          "name": "stdout",
          "text": [
            "Downloaded: downloaded_videos/hd-897680994566577.mp4\n"
          ]
        },
        {
          "output_type": "stream",
          "name": "stderr",
          "text": [
            "\r 44%|████▎     | 117/268 [04:42<06:10,  2.45s/it]"
          ]
        },
        {
          "output_type": "stream",
          "name": "stdout",
          "text": [
            "Downloaded: downloaded_videos/hd-897088088160051.mp4\n"
          ]
        },
        {
          "output_type": "stream",
          "name": "stderr",
          "text": [
            "\r 44%|████▍     | 118/268 [04:44<06:00,  2.41s/it]"
          ]
        },
        {
          "output_type": "stream",
          "name": "stdout",
          "text": [
            "Downloaded: downloaded_videos/hd-896843165102015.mp4\n"
          ]
        },
        {
          "output_type": "stream",
          "name": "stderr",
          "text": [
            "\r 44%|████▍     | 119/268 [04:47<06:00,  2.42s/it]"
          ]
        },
        {
          "output_type": "stream",
          "name": "stdout",
          "text": [
            "Downloaded: downloaded_videos/hd-896598988012982.mp4\n"
          ]
        },
        {
          "output_type": "stream",
          "name": "stderr",
          "text": [
            "\r 45%|████▍     | 120/268 [04:49<06:07,  2.48s/it]"
          ]
        },
        {
          "output_type": "stream",
          "name": "stdout",
          "text": [
            "Downloaded: downloaded_videos/hd-896589688256009.mp4\n"
          ]
        },
        {
          "output_type": "stream",
          "name": "stderr",
          "text": [
            "\r 45%|████▌     | 121/268 [04:52<06:11,  2.53s/it]"
          ]
        },
        {
          "output_type": "stream",
          "name": "stdout",
          "text": [
            "Downloaded: downloaded_videos/hd-895042408159688.mp4\n"
          ]
        },
        {
          "output_type": "stream",
          "name": "stderr",
          "text": [
            "\r 46%|████▌     | 122/268 [04:55<06:12,  2.55s/it]"
          ]
        },
        {
          "output_type": "stream",
          "name": "stdout",
          "text": [
            "Downloaded: downloaded_videos/hd-894559812351386.mp4\n"
          ]
        },
        {
          "output_type": "stream",
          "name": "stderr",
          "text": [
            "\r 46%|████▌     | 123/268 [04:57<06:00,  2.49s/it]"
          ]
        },
        {
          "output_type": "stream",
          "name": "stdout",
          "text": [
            "Downloaded: downloaded_videos/hd-894559522288371.mp4\n"
          ]
        },
        {
          "output_type": "stream",
          "name": "stderr",
          "text": [
            "\r 46%|████▋     | 124/268 [04:59<05:56,  2.47s/it]"
          ]
        },
        {
          "output_type": "stream",
          "name": "stdout",
          "text": [
            "Downloaded: downloaded_videos/hd-894457734962164.mp4\n"
          ]
        },
        {
          "output_type": "stream",
          "name": "stderr",
          "text": [
            "\r 47%|████▋     | 125/268 [05:02<05:46,  2.42s/it]"
          ]
        },
        {
          "output_type": "stream",
          "name": "stdout",
          "text": [
            "Downloaded: downloaded_videos/hd-894066258497958.mp4\n"
          ]
        },
        {
          "output_type": "stream",
          "name": "stderr",
          "text": [
            "\r 47%|████▋     | 126/268 [05:05<06:07,  2.59s/it]"
          ]
        },
        {
          "output_type": "stream",
          "name": "stdout",
          "text": [
            "Downloaded: downloaded_videos/hd-893539262677484.mp4\n"
          ]
        },
        {
          "output_type": "stream",
          "name": "stderr",
          "text": [
            "\r 47%|████▋     | 127/268 [05:07<05:53,  2.51s/it]"
          ]
        },
        {
          "output_type": "stream",
          "name": "stdout",
          "text": [
            "Downloaded: downloaded_videos/hd-893173505441981.mp4\n"
          ]
        },
        {
          "output_type": "stream",
          "name": "stderr",
          "text": [
            "\r 48%|████▊     | 128/268 [05:09<05:42,  2.45s/it]"
          ]
        },
        {
          "output_type": "stream",
          "name": "stdout",
          "text": [
            "Downloaded: downloaded_videos/hd-892383375224287.mp4\n"
          ]
        },
        {
          "output_type": "stream",
          "name": "stderr",
          "text": [
            "\r 48%|████▊     | 129/268 [05:12<05:33,  2.40s/it]"
          ]
        },
        {
          "output_type": "stream",
          "name": "stdout",
          "text": [
            "Downloaded: downloaded_videos/hd-891684945300160.mp4\n"
          ]
        },
        {
          "output_type": "stream",
          "name": "stderr",
          "text": [
            "\r 49%|████▊     | 130/268 [05:14<05:27,  2.37s/it]"
          ]
        },
        {
          "output_type": "stream",
          "name": "stdout",
          "text": [
            "Downloaded: downloaded_videos/hd-891661008828094.mp4\n"
          ]
        },
        {
          "output_type": "stream",
          "name": "stderr",
          "text": [
            "\r 49%|████▉     | 131/268 [05:16<05:17,  2.32s/it]"
          ]
        },
        {
          "output_type": "stream",
          "name": "stdout",
          "text": [
            "Downloaded: downloaded_videos/hd-891391212618023.mp4\n"
          ]
        },
        {
          "output_type": "stream",
          "name": "stderr",
          "text": [
            "\r 49%|████▉     | 132/268 [05:18<05:07,  2.26s/it]"
          ]
        },
        {
          "output_type": "stream",
          "name": "stdout",
          "text": [
            "Downloaded: downloaded_videos/hd-890166872024685.mp4\n"
          ]
        },
        {
          "output_type": "stream",
          "name": "stderr",
          "text": [
            "\r 50%|████▉     | 133/268 [05:20<05:01,  2.23s/it]"
          ]
        },
        {
          "output_type": "stream",
          "name": "stdout",
          "text": [
            "Downloaded: downloaded_videos/hd-890005255637433.mp4\n"
          ]
        },
        {
          "output_type": "stream",
          "name": "stderr",
          "text": [
            "\r 50%|█████     | 134/268 [05:23<05:09,  2.31s/it]"
          ]
        },
        {
          "output_type": "stream",
          "name": "stdout",
          "text": [
            "Downloaded: downloaded_videos/hd-889728479746704.mp4\n"
          ]
        },
        {
          "output_type": "stream",
          "name": "stderr",
          "text": [
            "\r 50%|█████     | 135/268 [05:26<05:20,  2.41s/it]"
          ]
        },
        {
          "output_type": "stream",
          "name": "stdout",
          "text": [
            "Downloaded: downloaded_videos/hd-889604775414234.mp4\n"
          ]
        },
        {
          "output_type": "stream",
          "name": "stderr",
          "text": [
            "\r 51%|█████     | 136/268 [05:28<05:20,  2.43s/it]"
          ]
        },
        {
          "output_type": "stream",
          "name": "stdout",
          "text": [
            "Downloaded: downloaded_videos/hd-889375178765113.mp4\n"
          ]
        },
        {
          "output_type": "stream",
          "name": "stderr",
          "text": [
            "\r 51%|█████     | 137/268 [05:30<05:14,  2.40s/it]"
          ]
        },
        {
          "output_type": "stream",
          "name": "stdout",
          "text": [
            "Downloaded: downloaded_videos/hd-888593019388197.mp4\n"
          ]
        },
        {
          "output_type": "stream",
          "name": "stderr",
          "text": [
            "\r 51%|█████▏    | 138/268 [05:33<05:13,  2.41s/it]"
          ]
        },
        {
          "output_type": "stream",
          "name": "stdout",
          "text": [
            "Downloaded: downloaded_videos/hd-888183703182855.mp4\n"
          ]
        },
        {
          "output_type": "stream",
          "name": "stderr",
          "text": [
            "\r 52%|█████▏    | 139/268 [05:35<05:15,  2.45s/it]"
          ]
        },
        {
          "output_type": "stream",
          "name": "stdout",
          "text": [
            "Downloaded: downloaded_videos/hd-888062106715252.mp4\n"
          ]
        },
        {
          "output_type": "stream",
          "name": "stderr",
          "text": [
            "\r 52%|█████▏    | 140/268 [05:38<05:13,  2.45s/it]"
          ]
        },
        {
          "output_type": "stream",
          "name": "stdout",
          "text": [
            "Downloaded: downloaded_videos/hd-888056015719840.mp4\n"
          ]
        },
        {
          "output_type": "stream",
          "name": "stderr",
          "text": [
            "\r 53%|█████▎    | 141/268 [05:40<05:07,  2.42s/it]"
          ]
        },
        {
          "output_type": "stream",
          "name": "stdout",
          "text": [
            "Downloaded: downloaded_videos/hd-887363366529815.mp4\n"
          ]
        },
        {
          "output_type": "stream",
          "name": "stderr",
          "text": [
            "\r 53%|█████▎    | 142/268 [05:43<05:05,  2.43s/it]"
          ]
        },
        {
          "output_type": "stream",
          "name": "stdout",
          "text": [
            "Downloaded: downloaded_videos/hd-886609482926268.mp4\n"
          ]
        },
        {
          "output_type": "stream",
          "name": "stderr",
          "text": [
            "\r 53%|█████▎    | 143/268 [05:45<05:21,  2.58s/it]"
          ]
        },
        {
          "output_type": "stream",
          "name": "stdout",
          "text": [
            "Downloaded: downloaded_videos/hd-886049645973007.mp4\n"
          ]
        },
        {
          "output_type": "stream",
          "name": "stderr",
          "text": [
            "\r 54%|█████▎    | 144/268 [05:48<05:09,  2.50s/it]"
          ]
        },
        {
          "output_type": "stream",
          "name": "stdout",
          "text": [
            "Downloaded: downloaded_videos/hd-885689066019680.mp4\n"
          ]
        },
        {
          "output_type": "stream",
          "name": "stderr",
          "text": [
            "\r 54%|█████▍    | 145/268 [05:50<05:05,  2.48s/it]"
          ]
        },
        {
          "output_type": "stream",
          "name": "stdout",
          "text": [
            "Downloaded: downloaded_videos/hd-885670366433640.mp4\n"
          ]
        },
        {
          "output_type": "stream",
          "name": "stderr",
          "text": [
            "\r 54%|█████▍    | 146/268 [05:52<04:51,  2.39s/it]"
          ]
        },
        {
          "output_type": "stream",
          "name": "stdout",
          "text": [
            "Downloaded: downloaded_videos/hd-885209946993560.mp4\n"
          ]
        },
        {
          "output_type": "stream",
          "name": "stderr",
          "text": [
            "\r 55%|█████▍    | 147/268 [05:55<04:57,  2.46s/it]"
          ]
        },
        {
          "output_type": "stream",
          "name": "stdout",
          "text": [
            "Downloaded: downloaded_videos/hd-883738210384679.mp4\n"
          ]
        },
        {
          "output_type": "stream",
          "name": "stderr",
          "text": [
            "\r 55%|█████▌    | 148/268 [05:58<04:56,  2.47s/it]"
          ]
        },
        {
          "output_type": "stream",
          "name": "stdout",
          "text": [
            "Downloaded: downloaded_videos/hd-883246492824014.mp4\n"
          ]
        },
        {
          "output_type": "stream",
          "name": "stderr",
          "text": [
            "\r 56%|█████▌    | 149/268 [06:00<04:48,  2.42s/it]"
          ]
        },
        {
          "output_type": "stream",
          "name": "stdout",
          "text": [
            "Downloaded: downloaded_videos/hd-882993126248062.mp4\n"
          ]
        },
        {
          "output_type": "stream",
          "name": "stderr",
          "text": [
            "\r 56%|█████▌    | 150/268 [06:02<04:52,  2.48s/it]"
          ]
        },
        {
          "output_type": "stream",
          "name": "stdout",
          "text": [
            "Downloaded: downloaded_videos/hd-8828692983838031.mp4\n"
          ]
        },
        {
          "output_type": "stream",
          "name": "stderr",
          "text": [
            "\r 56%|█████▋    | 151/268 [06:05<04:44,  2.44s/it]"
          ]
        },
        {
          "output_type": "stream",
          "name": "stdout",
          "text": [
            "Downloaded: downloaded_videos/hd-882867522830120.mp4\n"
          ]
        },
        {
          "output_type": "stream",
          "name": "stderr",
          "text": [
            "\r 57%|█████▋    | 152/268 [06:07<04:48,  2.49s/it]"
          ]
        },
        {
          "output_type": "stream",
          "name": "stdout",
          "text": [
            "Downloaded: downloaded_videos/hd-882019143545185.mp4\n"
          ]
        },
        {
          "output_type": "stream",
          "name": "stderr",
          "text": [
            "\r 57%|█████▋    | 153/268 [06:10<04:35,  2.39s/it]"
          ]
        },
        {
          "output_type": "stream",
          "name": "stdout",
          "text": [
            "Downloaded: downloaded_videos/hd-881925359723909.mp4\n"
          ]
        },
        {
          "output_type": "stream",
          "name": "stderr",
          "text": [
            "\r 57%|█████▋    | 154/268 [06:12<04:37,  2.43s/it]"
          ]
        },
        {
          "output_type": "stream",
          "name": "stdout",
          "text": [
            "Downloaded: downloaded_videos/hd-8816515918390519.mp4\n"
          ]
        },
        {
          "output_type": "stream",
          "name": "stderr",
          "text": [
            "\r 58%|█████▊    | 155/268 [06:15<04:35,  2.43s/it]"
          ]
        },
        {
          "output_type": "stream",
          "name": "stdout",
          "text": [
            "Downloaded: downloaded_videos/hd-881342303358042.mp4\n"
          ]
        },
        {
          "output_type": "stream",
          "name": "stderr",
          "text": [
            "\r 58%|█████▊    | 156/268 [06:17<04:38,  2.48s/it]"
          ]
        },
        {
          "output_type": "stream",
          "name": "stdout",
          "text": [
            "Downloaded: downloaded_videos/hd-881270063889884.mp4\n"
          ]
        },
        {
          "output_type": "stream",
          "name": "stderr",
          "text": [
            "\r 59%|█████▊    | 157/268 [06:20<04:34,  2.47s/it]"
          ]
        },
        {
          "output_type": "stream",
          "name": "stdout",
          "text": [
            "Downloaded: downloaded_videos/hd-8806609246079208.mp4\n"
          ]
        },
        {
          "output_type": "stream",
          "name": "stderr",
          "text": [
            "\r 59%|█████▉    | 158/268 [06:22<04:30,  2.46s/it]"
          ]
        },
        {
          "output_type": "stream",
          "name": "stdout",
          "text": [
            "Downloaded: downloaded_videos/hd-880568190186256.mp4\n"
          ]
        },
        {
          "output_type": "stream",
          "name": "stderr",
          "text": [
            "\r 59%|█████▉    | 159/268 [06:24<04:28,  2.46s/it]"
          ]
        },
        {
          "output_type": "stream",
          "name": "stdout",
          "text": [
            "Downloaded: downloaded_videos/hd-880340126836307.mp4\n"
          ]
        },
        {
          "output_type": "stream",
          "name": "stderr",
          "text": [
            "\r 60%|█████▉    | 160/268 [06:27<04:26,  2.46s/it]"
          ]
        },
        {
          "output_type": "stream",
          "name": "stdout",
          "text": [
            "Downloaded: downloaded_videos/hd-8796411607036992.mp4\n"
          ]
        },
        {
          "output_type": "stream",
          "name": "stderr",
          "text": [
            "\r 60%|██████    | 161/268 [06:29<04:23,  2.46s/it]"
          ]
        },
        {
          "output_type": "stream",
          "name": "stdout",
          "text": [
            "Downloaded: downloaded_videos/hd-879631723735807.mp4\n"
          ]
        },
        {
          "output_type": "stream",
          "name": "stderr",
          "text": [
            "\r 60%|██████    | 162/268 [06:32<04:15,  2.41s/it]"
          ]
        },
        {
          "output_type": "stream",
          "name": "stdout",
          "text": [
            "Downloaded: downloaded_videos/hd-879049300656635.mp4\n"
          ]
        },
        {
          "output_type": "stream",
          "name": "stderr",
          "text": [
            "\r 61%|██████    | 163/268 [06:34<04:09,  2.37s/it]"
          ]
        },
        {
          "output_type": "stream",
          "name": "stdout",
          "text": [
            "Downloaded: downloaded_videos/hd-877975993416760.mp4\n"
          ]
        },
        {
          "output_type": "stream",
          "name": "stderr",
          "text": [
            "\r 61%|██████    | 164/268 [06:36<04:10,  2.41s/it]"
          ]
        },
        {
          "output_type": "stream",
          "name": "stdout",
          "text": [
            "Downloaded: downloaded_videos/hd-877662697022279.mp4\n"
          ]
        },
        {
          "output_type": "stream",
          "name": "stderr",
          "text": [
            "\r 62%|██████▏   | 165/268 [06:39<04:06,  2.40s/it]"
          ]
        },
        {
          "output_type": "stream",
          "name": "stdout",
          "text": [
            "Downloaded: downloaded_videos/hd-877511836784655.mp4\n"
          ]
        },
        {
          "output_type": "stream",
          "name": "stderr",
          "text": [
            "\r 62%|██████▏   | 166/268 [06:41<04:08,  2.44s/it]"
          ]
        },
        {
          "output_type": "stream",
          "name": "stdout",
          "text": [
            "Downloaded: downloaded_videos/hd-877210454387561.mp4\n"
          ]
        },
        {
          "output_type": "stream",
          "name": "stderr",
          "text": [
            "\r 62%|██████▏   | 167/268 [06:44<04:11,  2.49s/it]"
          ]
        },
        {
          "output_type": "stream",
          "name": "stdout",
          "text": [
            "Downloaded: downloaded_videos/hd-877129693575192.mp4\n"
          ]
        },
        {
          "output_type": "stream",
          "name": "stderr",
          "text": [
            "\r 63%|██████▎   | 168/268 [06:47<04:13,  2.53s/it]"
          ]
        },
        {
          "output_type": "stream",
          "name": "stdout",
          "text": [
            "Downloaded: downloaded_videos/hd-876239523982490.mp4\n"
          ]
        },
        {
          "output_type": "stream",
          "name": "stderr",
          "text": [
            "\r 63%|██████▎   | 169/268 [06:49<04:13,  2.56s/it]"
          ]
        },
        {
          "output_type": "stream",
          "name": "stdout",
          "text": [
            "Downloaded: downloaded_videos/hd-876121221160846.mp4\n"
          ]
        },
        {
          "output_type": "stream",
          "name": "stderr",
          "text": [
            "\r 63%|██████▎   | 170/268 [06:52<04:14,  2.60s/it]"
          ]
        },
        {
          "output_type": "stream",
          "name": "stdout",
          "text": [
            "Downloaded: downloaded_videos/hd-875485623676104.mp4\n"
          ]
        },
        {
          "output_type": "stream",
          "name": "stderr",
          "text": [
            "\r 64%|██████▍   | 171/268 [06:55<04:33,  2.82s/it]"
          ]
        },
        {
          "output_type": "stream",
          "name": "stdout",
          "text": [
            "Downloaded: downloaded_videos/hd-874864704574925.mp4\n"
          ]
        },
        {
          "output_type": "stream",
          "name": "stderr",
          "text": [
            "\r 64%|██████▍   | 172/268 [06:58<04:15,  2.67s/it]"
          ]
        },
        {
          "output_type": "stream",
          "name": "stdout",
          "text": [
            "Downloaded: downloaded_videos/hd-874747697073121.mp4\n"
          ]
        },
        {
          "output_type": "stream",
          "name": "stderr",
          "text": [
            "\r 65%|██████▍   | 173/268 [07:00<04:07,  2.60s/it]"
          ]
        },
        {
          "output_type": "stream",
          "name": "stdout",
          "text": [
            "Downloaded: downloaded_videos/hd-874543520932484.mp4\n"
          ]
        },
        {
          "output_type": "stream",
          "name": "stderr",
          "text": [
            "\r 65%|██████▍   | 174/268 [07:03<04:05,  2.61s/it]"
          ]
        },
        {
          "output_type": "stream",
          "name": "stdout",
          "text": [
            "Downloaded: downloaded_videos/hd-874190910572544.mp4\n"
          ]
        },
        {
          "output_type": "stream",
          "name": "stderr",
          "text": [
            "\r 65%|██████▌   | 175/268 [07:05<04:02,  2.61s/it]"
          ]
        },
        {
          "output_type": "stream",
          "name": "stdout",
          "text": [
            "Downloaded: downloaded_videos/hd-874084244131796.mp4\n"
          ]
        },
        {
          "output_type": "stream",
          "name": "stderr",
          "text": [
            "\r 66%|██████▌   | 176/268 [07:08<03:56,  2.57s/it]"
          ]
        },
        {
          "output_type": "stream",
          "name": "stdout",
          "text": [
            "Downloaded: downloaded_videos/hd-873560550525047.mp4\n"
          ]
        },
        {
          "output_type": "stream",
          "name": "stderr",
          "text": [
            "\r 66%|██████▌   | 177/268 [07:10<03:47,  2.50s/it]"
          ]
        },
        {
          "output_type": "stream",
          "name": "stdout",
          "text": [
            "Downloaded: downloaded_videos/hd-873317140849832.mp4\n"
          ]
        },
        {
          "output_type": "stream",
          "name": "stderr",
          "text": [
            "\r 66%|██████▋   | 178/268 [07:13<03:53,  2.59s/it]"
          ]
        },
        {
          "output_type": "stream",
          "name": "stdout",
          "text": [
            "Downloaded: downloaded_videos/hd-873043573965895.mp4\n"
          ]
        },
        {
          "output_type": "stream",
          "name": "stderr",
          "text": [
            "\r 67%|██████▋   | 179/268 [07:15<03:47,  2.56s/it]"
          ]
        },
        {
          "output_type": "stream",
          "name": "stdout",
          "text": [
            "Downloaded: downloaded_videos/hd-872760463806517.mp4\n"
          ]
        },
        {
          "output_type": "stream",
          "name": "stderr",
          "text": [
            "\r 67%|██████▋   | 180/268 [07:18<03:38,  2.48s/it]"
          ]
        },
        {
          "output_type": "stream",
          "name": "stdout",
          "text": [
            "Downloaded: downloaded_videos/hd-872400620956045.mp4\n"
          ]
        },
        {
          "output_type": "stream",
          "name": "stderr",
          "text": [
            "\r 68%|██████▊   | 181/268 [07:20<03:31,  2.43s/it]"
          ]
        },
        {
          "output_type": "stream",
          "name": "stdout",
          "text": [
            "Downloaded: downloaded_videos/hd-872222594086011.mp4\n"
          ]
        },
        {
          "output_type": "stream",
          "name": "stderr",
          "text": [
            "\r 68%|██████▊   | 182/268 [07:23<03:34,  2.50s/it]"
          ]
        },
        {
          "output_type": "stream",
          "name": "stdout",
          "text": [
            "Downloaded: downloaded_videos/hd-872188860590219.mp4\n"
          ]
        },
        {
          "output_type": "stream",
          "name": "stderr",
          "text": [
            "\r 68%|██████▊   | 183/268 [07:25<03:31,  2.49s/it]"
          ]
        },
        {
          "output_type": "stream",
          "name": "stdout",
          "text": [
            "Downloaded: downloaded_videos/hd-871981848375866.mp4\n"
          ]
        },
        {
          "output_type": "stream",
          "name": "stderr",
          "text": [
            "\r 69%|██████▊   | 184/268 [07:27<03:23,  2.43s/it]"
          ]
        },
        {
          "output_type": "stream",
          "name": "stdout",
          "text": [
            "Downloaded: downloaded_videos/hd-8715627171842855.mp4\n"
          ]
        },
        {
          "output_type": "stream",
          "name": "stderr",
          "text": [
            "\r 69%|██████▉   | 185/268 [07:30<03:17,  2.38s/it]"
          ]
        },
        {
          "output_type": "stream",
          "name": "stdout",
          "text": [
            "Downloaded: downloaded_videos/hd-871286287458461.mp4\n"
          ]
        },
        {
          "output_type": "stream",
          "name": "stderr",
          "text": [
            "\r 69%|██████▉   | 186/268 [07:32<03:14,  2.38s/it]"
          ]
        },
        {
          "output_type": "stream",
          "name": "stdout",
          "text": [
            "Downloaded: downloaded_videos/hd-871185627435460.mp4\n"
          ]
        },
        {
          "output_type": "stream",
          "name": "stderr",
          "text": [
            "\r 70%|██████▉   | 187/268 [07:34<03:10,  2.35s/it]"
          ]
        },
        {
          "output_type": "stream",
          "name": "stdout",
          "text": [
            "Downloaded: downloaded_videos/hd-871075730546911.mp4\n"
          ]
        },
        {
          "output_type": "stream",
          "name": "stderr",
          "text": [
            "\r 70%|███████   | 188/268 [07:37<03:10,  2.39s/it]"
          ]
        },
        {
          "output_type": "stream",
          "name": "stdout",
          "text": [
            "Downloaded: downloaded_videos/hd-871037203883530.mp4\n"
          ]
        },
        {
          "output_type": "stream",
          "name": "stderr",
          "text": [
            "\r 71%|███████   | 189/268 [07:39<03:06,  2.36s/it]"
          ]
        },
        {
          "output_type": "stream",
          "name": "stdout",
          "text": [
            "Downloaded: downloaded_videos/hd-819765763526762.mp4\n"
          ]
        },
        {
          "output_type": "stream",
          "name": "stderr",
          "text": [
            "\r 71%|███████   | 190/268 [07:42<03:14,  2.50s/it]"
          ]
        },
        {
          "output_type": "stream",
          "name": "stdout",
          "text": [
            "Downloaded: downloaded_videos/hd-818776323774715.mp4\n"
          ]
        },
        {
          "output_type": "stream",
          "name": "stderr",
          "text": [
            "\r 71%|███████▏  | 191/268 [07:45<03:21,  2.61s/it]"
          ]
        },
        {
          "output_type": "stream",
          "name": "stdout",
          "text": [
            "Downloaded: downloaded_videos/hd-818462803696191.mp4\n"
          ]
        },
        {
          "output_type": "stream",
          "name": "stderr",
          "text": [
            "\r 72%|███████▏  | 192/268 [07:47<03:14,  2.56s/it]"
          ]
        },
        {
          "output_type": "stream",
          "name": "stdout",
          "text": [
            "Downloaded: downloaded_videos/hd-817768845898837.mp4\n"
          ]
        },
        {
          "output_type": "stream",
          "name": "stderr",
          "text": [
            "\r 72%|███████▏  | 193/268 [07:49<03:04,  2.45s/it]"
          ]
        },
        {
          "output_type": "stream",
          "name": "stdout",
          "text": [
            "Downloaded: downloaded_videos/hd-817763467176157.mp4\n"
          ]
        },
        {
          "output_type": "stream",
          "name": "stderr",
          "text": [
            "\r 72%|███████▏  | 194/268 [07:52<03:05,  2.51s/it]"
          ]
        },
        {
          "output_type": "stream",
          "name": "stdout",
          "text": [
            "Downloaded: downloaded_videos/hd-817477363934899.mp4\n"
          ]
        },
        {
          "output_type": "stream",
          "name": "stderr",
          "text": [
            "\r 73%|███████▎  | 195/268 [07:54<02:58,  2.44s/it]"
          ]
        },
        {
          "output_type": "stream",
          "name": "stdout",
          "text": [
            "Downloaded: downloaded_videos/hd-817475239730695.mp4\n"
          ]
        },
        {
          "output_type": "stream",
          "name": "stderr",
          "text": [
            "\r 73%|███████▎  | 196/268 [07:57<03:03,  2.55s/it]"
          ]
        },
        {
          "output_type": "stream",
          "name": "stdout",
          "text": [
            "Downloaded: downloaded_videos/hd-817135236672734.mp4\n"
          ]
        },
        {
          "output_type": "stream",
          "name": "stderr",
          "text": [
            "\r 74%|███████▎  | 197/268 [08:00<03:05,  2.61s/it]"
          ]
        },
        {
          "output_type": "stream",
          "name": "stdout",
          "text": [
            "Downloaded: downloaded_videos/hd-816335920524988.mp4\n"
          ]
        },
        {
          "output_type": "stream",
          "name": "stderr",
          "text": [
            "\r 74%|███████▍  | 198/268 [08:02<02:52,  2.47s/it]"
          ]
        },
        {
          "output_type": "stream",
          "name": "stdout",
          "text": [
            "Downloaded: downloaded_videos/hd-815391233916449.mp4\n"
          ]
        },
        {
          "output_type": "stream",
          "name": "stderr",
          "text": [
            "\r 74%|███████▍  | 199/268 [08:05<02:54,  2.53s/it]"
          ]
        },
        {
          "output_type": "stream",
          "name": "stdout",
          "text": [
            "Downloaded: downloaded_videos/hd-814072014151046.mp4\n"
          ]
        },
        {
          "output_type": "stream",
          "name": "stderr",
          "text": [
            "\r 75%|███████▍  | 200/268 [08:07<02:47,  2.47s/it]"
          ]
        },
        {
          "output_type": "stream",
          "name": "stdout",
          "text": [
            "Downloaded: downloaded_videos/hd-813828049840959.mp4\n"
          ]
        },
        {
          "output_type": "stream",
          "name": "stderr",
          "text": [
            "\r 75%|███████▌  | 201/268 [08:09<02:42,  2.42s/it]"
          ]
        },
        {
          "output_type": "stream",
          "name": "stdout",
          "text": [
            "Downloaded: downloaded_videos/hd-811606650922029.mp4\n"
          ]
        },
        {
          "output_type": "stream",
          "name": "stderr",
          "text": [
            "\r 75%|███████▌  | 202/268 [08:12<02:50,  2.59s/it]"
          ]
        },
        {
          "output_type": "stream",
          "name": "stdout",
          "text": [
            "Downloaded: downloaded_videos/hd-8111507755613955.mp4\n"
          ]
        },
        {
          "output_type": "stream",
          "name": "stderr",
          "text": [
            "\r 76%|███████▌  | 203/268 [08:15<02:48,  2.60s/it]"
          ]
        },
        {
          "output_type": "stream",
          "name": "stdout",
          "text": [
            "Downloaded: downloaded_videos/hd-8100667816697710.mp4\n"
          ]
        },
        {
          "output_type": "stream",
          "name": "stderr",
          "text": [
            "\r 76%|███████▌  | 204/268 [08:17<02:44,  2.57s/it]"
          ]
        },
        {
          "output_type": "stream",
          "name": "stdout",
          "text": [
            "Downloaded: downloaded_videos/hd-809480737932683.mp4\n"
          ]
        },
        {
          "output_type": "stream",
          "name": "stderr",
          "text": [
            "\r 76%|███████▋  | 205/268 [08:20<02:37,  2.51s/it]"
          ]
        },
        {
          "output_type": "stream",
          "name": "stdout",
          "text": [
            "Downloaded: downloaded_videos/hd-808321904744283.mp4\n"
          ]
        },
        {
          "output_type": "stream",
          "name": "stderr",
          "text": [
            "\r 77%|███████▋  | 206/268 [08:23<02:43,  2.64s/it]"
          ]
        },
        {
          "output_type": "stream",
          "name": "stdout",
          "text": [
            "Downloaded: downloaded_videos/hd-808097524590260.mp4\n"
          ]
        },
        {
          "output_type": "stream",
          "name": "stderr",
          "text": [
            "\r 77%|███████▋  | 207/268 [08:25<02:38,  2.60s/it]"
          ]
        },
        {
          "output_type": "stream",
          "name": "stdout",
          "text": [
            "Downloaded: downloaded_videos/hd-807800198130528.mp4\n"
          ]
        },
        {
          "output_type": "stream",
          "name": "stderr",
          "text": [
            "\r 78%|███████▊  | 208/268 [08:28<02:33,  2.55s/it]"
          ]
        },
        {
          "output_type": "stream",
          "name": "stdout",
          "text": [
            "Downloaded: downloaded_videos/hd-806751788307038.mp4\n"
          ]
        },
        {
          "output_type": "stream",
          "name": "stderr",
          "text": [
            "\r 78%|███████▊  | 209/268 [08:30<02:25,  2.47s/it]"
          ]
        },
        {
          "output_type": "stream",
          "name": "stdout",
          "text": [
            "Downloaded: downloaded_videos/hd-8057957437624799.mp4\n"
          ]
        },
        {
          "output_type": "stream",
          "name": "stderr",
          "text": [
            "\r 78%|███████▊  | 210/268 [08:33<02:28,  2.56s/it]"
          ]
        },
        {
          "output_type": "stream",
          "name": "stdout",
          "text": [
            "Downloaded: downloaded_videos/hd-803990118540094.mp4\n"
          ]
        },
        {
          "output_type": "stream",
          "name": "stderr",
          "text": [
            "\r 79%|███████▊  | 211/268 [08:35<02:16,  2.40s/it]"
          ]
        },
        {
          "output_type": "stream",
          "name": "stdout",
          "text": [
            "Downloaded: downloaded_videos/hd-803897110603133.mp4\n"
          ]
        },
        {
          "output_type": "stream",
          "name": "stderr",
          "text": [
            "\r 79%|███████▉  | 212/268 [08:37<02:07,  2.28s/it]"
          ]
        },
        {
          "output_type": "stream",
          "name": "stdout",
          "text": [
            "Downloaded: downloaded_videos/hd-802443478544141.mp4\n"
          ]
        },
        {
          "output_type": "stream",
          "name": "stderr",
          "text": [
            "\r 79%|███████▉  | 213/268 [08:39<02:06,  2.29s/it]"
          ]
        },
        {
          "output_type": "stream",
          "name": "stdout",
          "text": [
            "Downloaded: downloaded_videos/hd-8008073409211713.mp4\n"
          ]
        },
        {
          "output_type": "stream",
          "name": "stderr",
          "text": [
            "\r 80%|███████▉  | 214/268 [08:42<02:09,  2.39s/it]"
          ]
        },
        {
          "output_type": "stream",
          "name": "stdout",
          "text": [
            "Downloaded: downloaded_videos/hd-7995631707140182.mp4\n"
          ]
        },
        {
          "output_type": "stream",
          "name": "stderr",
          "text": [
            "\r 80%|████████  | 215/268 [08:44<02:02,  2.31s/it]"
          ]
        },
        {
          "output_type": "stream",
          "name": "stdout",
          "text": [
            "Downloaded: downloaded_videos/hd-797179088937277.mp4\n"
          ]
        },
        {
          "output_type": "stream",
          "name": "stderr",
          "text": [
            "\r 81%|████████  | 216/268 [08:47<02:16,  2.63s/it]"
          ]
        },
        {
          "output_type": "stream",
          "name": "stdout",
          "text": [
            "Downloaded: downloaded_videos/hd-797024995612413.mp4\n"
          ]
        },
        {
          "output_type": "stream",
          "name": "stderr",
          "text": [
            "\r 81%|████████  | 217/268 [08:50<02:08,  2.53s/it]"
          ]
        },
        {
          "output_type": "stream",
          "name": "stdout",
          "text": [
            "Downloaded: downloaded_videos/hd-796944101940903.mp4\n"
          ]
        },
        {
          "output_type": "stream",
          "name": "stderr",
          "text": [
            "\r 81%|████████▏ | 218/268 [08:52<02:11,  2.62s/it]"
          ]
        },
        {
          "output_type": "stream",
          "name": "stdout",
          "text": [
            "Downloaded: downloaded_videos/hd-793257836073148.mp4\n"
          ]
        },
        {
          "output_type": "stream",
          "name": "stderr",
          "text": [
            "\r 82%|████████▏ | 219/268 [08:55<02:06,  2.58s/it]"
          ]
        },
        {
          "output_type": "stream",
          "name": "stdout",
          "text": [
            "Downloaded: downloaded_videos/hd-791572172961239.mp4\n"
          ]
        },
        {
          "output_type": "stream",
          "name": "stderr",
          "text": [
            "\r 82%|████████▏ | 220/268 [08:57<02:02,  2.56s/it]"
          ]
        },
        {
          "output_type": "stream",
          "name": "stdout",
          "text": [
            "Downloaded: downloaded_videos/hd-790055392972248.mp4\n"
          ]
        },
        {
          "output_type": "stream",
          "name": "stderr",
          "text": [
            "\r 82%|████████▏ | 221/268 [09:00<01:56,  2.49s/it]"
          ]
        },
        {
          "output_type": "stream",
          "name": "stdout",
          "text": [
            "Downloaded: downloaded_videos/hd-789793989900194.mp4\n"
          ]
        },
        {
          "output_type": "stream",
          "name": "stderr",
          "text": [
            "\r 83%|████████▎ | 222/268 [09:02<01:53,  2.47s/it]"
          ]
        },
        {
          "output_type": "stream",
          "name": "stdout",
          "text": [
            "Downloaded: downloaded_videos/hd-789715035654710.mp4\n"
          ]
        },
        {
          "output_type": "stream",
          "name": "stderr",
          "text": [
            "\r 83%|████████▎ | 223/268 [09:05<01:53,  2.53s/it]"
          ]
        },
        {
          "output_type": "stream",
          "name": "stdout",
          "text": [
            "Downloaded: downloaded_videos/hd-786610583313461.mp4\n"
          ]
        },
        {
          "output_type": "stream",
          "name": "stderr",
          "text": [
            "\r 84%|████████▎ | 224/268 [09:07<01:45,  2.41s/it]"
          ]
        },
        {
          "output_type": "stream",
          "name": "stdout",
          "text": [
            "Downloaded: downloaded_videos/hd-696006115320413.mp4\n"
          ]
        },
        {
          "output_type": "stream",
          "name": "stderr",
          "text": [
            "\r 84%|████████▍ | 225/268 [09:09<01:44,  2.44s/it]"
          ]
        },
        {
          "output_type": "stream",
          "name": "stdout",
          "text": [
            "Downloaded: downloaded_videos/hd-695130362192250.mp4\n"
          ]
        },
        {
          "output_type": "stream",
          "name": "stderr",
          "text": [
            "\r 84%|████████▍ | 226/268 [09:12<01:39,  2.37s/it]"
          ]
        },
        {
          "output_type": "stream",
          "name": "stdout",
          "text": [
            "Downloaded: downloaded_videos/hd-694675672308301.mp4\n"
          ]
        },
        {
          "output_type": "stream",
          "name": "stderr",
          "text": [
            "\r 85%|████████▍ | 227/268 [09:14<01:36,  2.35s/it]"
          ]
        },
        {
          "output_type": "stream",
          "name": "stdout",
          "text": [
            "Downloaded: downloaded_videos/hd-693988272279384.mp4\n"
          ]
        },
        {
          "output_type": "stream",
          "name": "stderr",
          "text": [
            "\r 85%|████████▌ | 228/268 [09:16<01:35,  2.39s/it]"
          ]
        },
        {
          "output_type": "stream",
          "name": "stdout",
          "text": [
            "Downloaded: downloaded_videos/hd-691857912087615.mp4\n"
          ]
        },
        {
          "output_type": "stream",
          "name": "stderr",
          "text": [
            "\r 85%|████████▌ | 229/268 [09:19<01:34,  2.42s/it]"
          ]
        },
        {
          "output_type": "stream",
          "name": "stdout",
          "text": [
            "Downloaded: downloaded_videos/hd-691581235967071.mp4\n"
          ]
        },
        {
          "output_type": "stream",
          "name": "stderr",
          "text": [
            "\r 86%|████████▌ | 230/268 [09:21<01:33,  2.45s/it]"
          ]
        },
        {
          "output_type": "stream",
          "name": "stdout",
          "text": [
            "Downloaded: downloaded_videos/hd-691252805779835.mp4\n"
          ]
        },
        {
          "output_type": "stream",
          "name": "stderr",
          "text": [
            "\r 86%|████████▌ | 231/268 [09:24<01:29,  2.41s/it]"
          ]
        },
        {
          "output_type": "stream",
          "name": "stdout",
          "text": [
            "Downloaded: downloaded_videos/hd-690670309134450.mp4\n"
          ]
        },
        {
          "output_type": "stream",
          "name": "stderr",
          "text": [
            "\r 87%|████████▋ | 232/268 [09:26<01:25,  2.37s/it]"
          ]
        },
        {
          "output_type": "stream",
          "name": "stdout",
          "text": [
            "Downloaded: downloaded_videos/hd-690541956158254.mp4\n"
          ]
        },
        {
          "output_type": "stream",
          "name": "stderr",
          "text": [
            "\r 87%|████████▋ | 233/268 [09:28<01:22,  2.36s/it]"
          ]
        },
        {
          "output_type": "stream",
          "name": "stdout",
          "text": [
            "Downloaded: downloaded_videos/hd-689771035910864.mp4\n"
          ]
        },
        {
          "output_type": "stream",
          "name": "stderr",
          "text": [
            "\r 87%|████████▋ | 234/268 [09:31<01:21,  2.40s/it]"
          ]
        },
        {
          "output_type": "stream",
          "name": "stdout",
          "text": [
            "Downloaded: downloaded_videos/hd-689599909618915.mp4\n"
          ]
        },
        {
          "output_type": "stream",
          "name": "stderr",
          "text": [
            "\r 88%|████████▊ | 235/268 [09:33<01:19,  2.42s/it]"
          ]
        },
        {
          "output_type": "stream",
          "name": "stdout",
          "text": [
            "Downloaded: downloaded_videos/hd-689363059404444.mp4\n"
          ]
        },
        {
          "output_type": "stream",
          "name": "stderr",
          "text": [
            "\r 88%|████████▊ | 236/268 [09:36<01:19,  2.47s/it]"
          ]
        },
        {
          "output_type": "stream",
          "name": "stdout",
          "text": [
            "Downloaded: downloaded_videos/hd-688887926060399.mp4\n"
          ]
        },
        {
          "output_type": "stream",
          "name": "stderr",
          "text": [
            "\r 88%|████████▊ | 237/268 [09:38<01:14,  2.42s/it]"
          ]
        },
        {
          "output_type": "stream",
          "name": "stdout",
          "text": [
            "Downloaded: downloaded_videos/hd-687665956347322.mp4\n"
          ]
        },
        {
          "output_type": "stream",
          "name": "stderr",
          "text": [
            "\r 89%|████████▉ | 238/268 [09:41<01:14,  2.50s/it]"
          ]
        },
        {
          "output_type": "stream",
          "name": "stdout",
          "text": [
            "Downloaded: downloaded_videos/hd-687024156350870.mp4\n"
          ]
        },
        {
          "output_type": "stream",
          "name": "stderr",
          "text": [
            "\r 89%|████████▉ | 239/268 [09:43<01:11,  2.46s/it]"
          ]
        },
        {
          "output_type": "stream",
          "name": "stdout",
          "text": [
            "Downloaded: downloaded_videos/hd-686488653080244.mp4\n"
          ]
        },
        {
          "output_type": "stream",
          "name": "stderr",
          "text": [
            "\r 90%|████████▉ | 240/268 [09:45<01:06,  2.37s/it]"
          ]
        },
        {
          "output_type": "stream",
          "name": "stdout",
          "text": [
            "Downloaded: downloaded_videos/hd-686083626588321.mp4\n"
          ]
        },
        {
          "output_type": "stream",
          "name": "stderr",
          "text": [
            "\r 90%|████████▉ | 241/268 [09:48<01:03,  2.35s/it]"
          ]
        },
        {
          "output_type": "stream",
          "name": "stdout",
          "text": [
            "Downloaded: downloaded_videos/hd-684364333171304.mp4\n"
          ]
        },
        {
          "output_type": "stream",
          "name": "stderr",
          "text": [
            "\r 90%|█████████ | 242/268 [09:50<01:01,  2.35s/it]"
          ]
        },
        {
          "output_type": "stream",
          "name": "stdout",
          "text": [
            "Downloaded: downloaded_videos/hd-684264882912286.mp4\n"
          ]
        },
        {
          "output_type": "stream",
          "name": "stderr",
          "text": [
            "\r 91%|█████████ | 243/268 [09:53<01:00,  2.41s/it]"
          ]
        },
        {
          "output_type": "stream",
          "name": "stdout",
          "text": [
            "Downloaded: downloaded_videos/hd-6837957766319053.mp4\n"
          ]
        },
        {
          "output_type": "stream",
          "name": "stderr",
          "text": [
            "\r 91%|█████████ | 244/268 [09:55<00:57,  2.38s/it]"
          ]
        },
        {
          "output_type": "stream",
          "name": "stdout",
          "text": [
            "Downloaded: downloaded_videos/hd-682791943270614.mp4\n"
          ]
        },
        {
          "output_type": "stream",
          "name": "stderr",
          "text": [
            "\r 91%|█████████▏| 245/268 [09:57<00:53,  2.31s/it]"
          ]
        },
        {
          "output_type": "stream",
          "name": "stdout",
          "text": [
            "Downloaded: downloaded_videos/hd-682596103528135.mp4\n"
          ]
        },
        {
          "output_type": "stream",
          "name": "stderr",
          "text": [
            "\r 92%|█████████▏| 246/268 [09:59<00:50,  2.31s/it]"
          ]
        },
        {
          "output_type": "stream",
          "name": "stdout",
          "text": [
            "Downloaded: downloaded_videos/hd-680549530054789.mp4\n"
          ]
        },
        {
          "output_type": "stream",
          "name": "stderr",
          "text": [
            "\r 92%|█████████▏| 247/268 [10:02<00:47,  2.26s/it]"
          ]
        },
        {
          "output_type": "stream",
          "name": "stdout",
          "text": [
            "Downloaded: downloaded_videos/hd-680540137074841.mp4\n"
          ]
        },
        {
          "output_type": "stream",
          "name": "stderr",
          "text": [
            "\r 93%|█████████▎| 248/268 [10:04<00:46,  2.33s/it]"
          ]
        },
        {
          "output_type": "stream",
          "name": "stdout",
          "text": [
            "Downloaded: downloaded_videos/hd-680162593779089.mp4\n"
          ]
        },
        {
          "output_type": "stream",
          "name": "stderr",
          "text": [
            "\r 93%|█████████▎| 249/268 [10:06<00:44,  2.34s/it]"
          ]
        },
        {
          "output_type": "stream",
          "name": "stdout",
          "text": [
            "Downloaded: downloaded_videos/hd-679261516829908.mp4\n"
          ]
        },
        {
          "output_type": "stream",
          "name": "stderr",
          "text": [
            "\r 93%|█████████▎| 250/268 [10:09<00:43,  2.43s/it]"
          ]
        },
        {
          "output_type": "stream",
          "name": "stdout",
          "text": [
            "Downloaded: downloaded_videos/hd-678133704039459.mp4\n"
          ]
        },
        {
          "output_type": "stream",
          "name": "stderr",
          "text": [
            "\r 94%|█████████▎| 251/268 [10:12<00:41,  2.44s/it]"
          ]
        },
        {
          "output_type": "stream",
          "name": "stdout",
          "text": [
            "Downloaded: downloaded_videos/hd-676770877464110.mp4\n"
          ]
        },
        {
          "output_type": "stream",
          "name": "stderr",
          "text": [
            "\r 94%|█████████▍| 252/268 [10:14<00:40,  2.55s/it]"
          ]
        },
        {
          "output_type": "stream",
          "name": "stdout",
          "text": [
            "Downloaded: downloaded_videos/hd-6764280623620361.mp4\n"
          ]
        },
        {
          "output_type": "stream",
          "name": "stderr",
          "text": [
            "\r 94%|█████████▍| 253/268 [10:17<00:37,  2.52s/it]"
          ]
        },
        {
          "output_type": "stream",
          "name": "stdout",
          "text": [
            "Downloaded: downloaded_videos/hd-673961584214053.mp4\n"
          ]
        },
        {
          "output_type": "stream",
          "name": "stderr",
          "text": [
            "\r 95%|█████████▍| 254/268 [10:19<00:33,  2.38s/it]"
          ]
        },
        {
          "output_type": "stream",
          "name": "stdout",
          "text": [
            "Downloaded: downloaded_videos/hd-6720438181324436.mp4\n"
          ]
        },
        {
          "output_type": "stream",
          "name": "stderr",
          "text": [
            "\r 95%|█████████▌| 255/268 [10:21<00:29,  2.28s/it]"
          ]
        },
        {
          "output_type": "stream",
          "name": "stdout",
          "text": [
            "Downloaded: downloaded_videos/hd-671839840899900.mp4\n"
          ]
        },
        {
          "output_type": "stream",
          "name": "stderr",
          "text": [
            "\r 96%|█████████▌| 256/268 [10:23<00:27,  2.29s/it]"
          ]
        },
        {
          "output_type": "stream",
          "name": "stdout",
          "text": [
            "Downloaded: downloaded_videos/hd-429145826826558.mp4\n"
          ]
        },
        {
          "output_type": "stream",
          "name": "stderr",
          "text": [
            "\r 96%|█████████▌| 257/268 [10:26<00:25,  2.30s/it]"
          ]
        },
        {
          "output_type": "stream",
          "name": "stdout",
          "text": [
            "Downloaded: downloaded_videos/hd-427878012859864.mp4\n"
          ]
        },
        {
          "output_type": "stream",
          "name": "stderr",
          "text": [
            "\r 96%|█████████▋| 258/268 [10:28<00:23,  2.35s/it]"
          ]
        },
        {
          "output_type": "stream",
          "name": "stdout",
          "text": [
            "Downloaded: downloaded_videos/hd-426644026275739.mp4\n"
          ]
        },
        {
          "output_type": "stream",
          "name": "stderr",
          "text": [
            "\r 97%|█████████▋| 259/268 [10:31<00:22,  2.48s/it]"
          ]
        },
        {
          "output_type": "stream",
          "name": "stdout",
          "text": [
            "Downloaded: downloaded_videos/hd-425151876539382.mp4\n"
          ]
        },
        {
          "output_type": "stream",
          "name": "stderr",
          "text": [
            "\r 97%|█████████▋| 260/268 [10:33<00:19,  2.48s/it]"
          ]
        },
        {
          "output_type": "stream",
          "name": "stdout",
          "text": [
            "Downloaded: downloaded_videos/hd-424802420355057.mp4\n"
          ]
        },
        {
          "output_type": "stream",
          "name": "stderr",
          "text": [
            "\r 97%|█████████▋| 261/268 [10:35<00:15,  2.28s/it]"
          ]
        },
        {
          "output_type": "stream",
          "name": "stdout",
          "text": [
            "Downloaded: downloaded_videos/hd-424394867097391.mp4\n"
          ]
        },
        {
          "output_type": "stream",
          "name": "stderr",
          "text": [
            "\r 98%|█████████▊| 262/268 [10:37<00:13,  2.30s/it]"
          ]
        },
        {
          "output_type": "stream",
          "name": "stdout",
          "text": [
            "Downloaded: downloaded_videos/hd-1698824364241828.mp4\n"
          ]
        },
        {
          "output_type": "stream",
          "name": "stderr",
          "text": [
            "\r 98%|█████████▊| 263/268 [10:40<00:11,  2.26s/it]"
          ]
        },
        {
          "output_type": "stream",
          "name": "stdout",
          "text": [
            "Downloaded: downloaded_videos/hd-1693566687752051.mp4\n"
          ]
        },
        {
          "output_type": "stream",
          "name": "stderr",
          "text": [
            "\r 99%|█████████▊| 264/268 [10:42<00:09,  2.34s/it]"
          ]
        },
        {
          "output_type": "stream",
          "name": "stdout",
          "text": [
            "Downloaded: downloaded_videos/hd-1689212771862832.mp4\n"
          ]
        },
        {
          "output_type": "stream",
          "name": "stderr",
          "text": [
            "\r 99%|█████████▉| 265/268 [10:45<00:07,  2.38s/it]"
          ]
        },
        {
          "output_type": "stream",
          "name": "stdout",
          "text": [
            "Downloaded: downloaded_videos/hd-1685108828975354.mp4\n"
          ]
        },
        {
          "output_type": "stream",
          "name": "stderr",
          "text": [
            "\r 99%|█████████▉| 266/268 [10:48<00:05,  2.71s/it]"
          ]
        },
        {
          "output_type": "stream",
          "name": "stdout",
          "text": [
            "Downloaded: downloaded_videos/hd-1119706949586170.mp4\n"
          ]
        },
        {
          "output_type": "stream",
          "name": "stderr",
          "text": [
            "\r100%|█████████▉| 267/268 [10:50<00:02,  2.49s/it]"
          ]
        },
        {
          "output_type": "stream",
          "name": "stdout",
          "text": [
            "Downloaded: downloaded_videos/hd-1119272995406354.mp4\n"
          ]
        },
        {
          "output_type": "stream",
          "name": "stderr",
          "text": [
            "100%|██████████| 268/268 [10:52<00:00,  2.43s/it]"
          ]
        },
        {
          "output_type": "stream",
          "name": "stdout",
          "text": [
            "Downloaded: downloaded_videos/hd-1118763132933218.mp4\n"
          ]
        },
        {
          "output_type": "stream",
          "name": "stderr",
          "text": [
            "\n"
          ]
        }
      ]
    },
    {
      "cell_type": "code",
      "source": [
        "import hashlib\n",
        "import os\n",
        "import shutil  # For moving files\n",
        "\n",
        "def calculate_file_hash(filepath, hash_algorithm='md5'):\n",
        "    hash_func = hashlib.new(hash_algorithm)\n",
        "    with open(filepath, 'rb') as f:\n",
        "        while chunk := f.read(8192):  # Read in chunks\n",
        "            hash_func.update(chunk)\n",
        "    return hash_func.hexdigest()\n",
        "\n",
        "def save_duplicates_in_common_directory(directory, duplicates_base_dir):\n",
        "    hash_map = {}\n",
        "\n",
        "    # Ensure the base directory for duplicates exists\n",
        "    os.makedirs(duplicates_base_dir, exist_ok=True)\n",
        "\n",
        "    for root, _, files in os.walk(directory):\n",
        "        for file in files:\n",
        "            filepath = os.path.join(root, file)\n",
        "            file_hash = calculate_file_hash(filepath)\n",
        "\n",
        "            # If hash exists, move file to its corresponding subdirectory\n",
        "            if file_hash in hash_map:\n",
        "                duplicates_dir = os.path.join(duplicates_base_dir, file_hash)\n",
        "                os.makedirs(duplicates_dir, exist_ok=True)\n",
        "                dest_path = os.path.join(duplicates_dir, os.path.basename(filepath))\n",
        "                shutil.move(filepath, dest_path)\n",
        "            else:\n",
        "                # Create subdirectory for the first occurrence of this hash\n",
        "                duplicates_dir = os.path.join(duplicates_base_dir, file_hash)\n",
        "                os.makedirs(duplicates_dir, exist_ok=True)\n",
        "                dest_path = os.path.join(duplicates_dir, os.path.basename(filepath))\n",
        "                shutil.move(filepath, dest_path)\n",
        "                hash_map[file_hash] = duplicates_dir\n",
        "\n",
        "    return hash_map\n",
        "\n",
        "# Usage\n",
        "video_directory = \"downloaded_videos\"\n",
        "duplicates_base_directory = \"duplicates\"\n",
        "\n",
        "hash_map = save_duplicates_in_common_directory(video_directory, duplicates_base_directory)\n",
        "\n",
        "print(\"Duplicates saved in their respective directories:\")\n",
        "for video_hash, dir_path in hash_map.items():\n",
        "    print(f\"Hash: {video_hash} -> Directory: {dir_path}\")\n"
      ],
      "metadata": {
        "colab": {
          "base_uri": "https://localhost:8080/"
        },
        "id": "f36rug6_eV4Q",
        "outputId": "4e363f10-101e-43b1-8d0a-7c986c1dfb0f"
      },
      "execution_count": 20,
      "outputs": [
        {
          "output_type": "stream",
          "name": "stdout",
          "text": [
            "Duplicates saved in their respective directories:\n",
            "Hash: f8b549c412a3b5585b5c352e708e911b -> Directory: duplicates/f8b549c412a3b5585b5c352e708e911b\n",
            "Hash: 84f96a2e9318a36eaff2c22ac0dbfa20 -> Directory: duplicates/84f96a2e9318a36eaff2c22ac0dbfa20\n",
            "Hash: 85f2c5ceddbdc070e9baff2f4e033617 -> Directory: duplicates/85f2c5ceddbdc070e9baff2f4e033617\n",
            "Hash: 9f57f3e4350e4aa3d29d8a434f6dc9f1 -> Directory: duplicates/9f57f3e4350e4aa3d29d8a434f6dc9f1\n",
            "Hash: 31f7dbb597bccd3d34b6d9c5723fee6b -> Directory: duplicates/31f7dbb597bccd3d34b6d9c5723fee6b\n",
            "Hash: 972d1d0935b9119411acfe9cde0f4da2 -> Directory: duplicates/972d1d0935b9119411acfe9cde0f4da2\n",
            "Hash: ad1f9800f36fac0b2ac08df0789b1f31 -> Directory: duplicates/ad1f9800f36fac0b2ac08df0789b1f31\n",
            "Hash: a6b2fdedbba69a7aad29927a917f4458 -> Directory: duplicates/a6b2fdedbba69a7aad29927a917f4458\n",
            "Hash: 6a93d65eeaab2d86f1732287be95ea7e -> Directory: duplicates/6a93d65eeaab2d86f1732287be95ea7e\n",
            "Hash: 02e5422aab7de6f8c7085c49e3dcfbd0 -> Directory: duplicates/02e5422aab7de6f8c7085c49e3dcfbd0\n",
            "Hash: cd0550c99c10cfa3e4d50752ca8df275 -> Directory: duplicates/cd0550c99c10cfa3e4d50752ca8df275\n",
            "Hash: 83432c9a3a854a5f654fcf246d66b8dd -> Directory: duplicates/83432c9a3a854a5f654fcf246d66b8dd\n",
            "Hash: 9391e2edd5ac0a4ce73889dffcf6c326 -> Directory: duplicates/9391e2edd5ac0a4ce73889dffcf6c326\n",
            "Hash: cfe34e33e75225e587d7e7209b290f52 -> Directory: duplicates/cfe34e33e75225e587d7e7209b290f52\n",
            "Hash: 843ba180c880ce8eb857d34a82b9d7a4 -> Directory: duplicates/843ba180c880ce8eb857d34a82b9d7a4\n",
            "Hash: 85864627c2342b749f422d188fa19f98 -> Directory: duplicates/85864627c2342b749f422d188fa19f98\n",
            "Hash: 7ed5b587b29059486f58041fc2c3ca17 -> Directory: duplicates/7ed5b587b29059486f58041fc2c3ca17\n",
            "Hash: d804202f84cf0e2041358adad728a414 -> Directory: duplicates/d804202f84cf0e2041358adad728a414\n",
            "Hash: 58967db3c17d5b7fd36b2c3ed4b0225b -> Directory: duplicates/58967db3c17d5b7fd36b2c3ed4b0225b\n",
            "Hash: 828de100ddeffb87385f6adbfa8c25b8 -> Directory: duplicates/828de100ddeffb87385f6adbfa8c25b8\n",
            "Hash: bf2f6e0c1e6c758796ccab2e5546c383 -> Directory: duplicates/bf2f6e0c1e6c758796ccab2e5546c383\n",
            "Hash: ec352aca335930f75c91ec2b8e60c73c -> Directory: duplicates/ec352aca335930f75c91ec2b8e60c73c\n",
            "Hash: 2173f067a16a31c6dd1b625a11bfd19c -> Directory: duplicates/2173f067a16a31c6dd1b625a11bfd19c\n",
            "Hash: 45261982bae50b13b491b8579a80c3bd -> Directory: duplicates/45261982bae50b13b491b8579a80c3bd\n",
            "Hash: c31d113ae0b7a5d763e89f16684db241 -> Directory: duplicates/c31d113ae0b7a5d763e89f16684db241\n",
            "Hash: 2f7a6b1eb3db313ee03a9cdd9b5f612d -> Directory: duplicates/2f7a6b1eb3db313ee03a9cdd9b5f612d\n",
            "Hash: d55557bd4332c04edc9f9505a1341814 -> Directory: duplicates/d55557bd4332c04edc9f9505a1341814\n",
            "Hash: d493c65f52df3f52a2545fee044a1751 -> Directory: duplicates/d493c65f52df3f52a2545fee044a1751\n",
            "Hash: ccbff97faf9201c2b167b0c6fe2698f3 -> Directory: duplicates/ccbff97faf9201c2b167b0c6fe2698f3\n",
            "Hash: 9015a1757693682cb771fef0111c4b12 -> Directory: duplicates/9015a1757693682cb771fef0111c4b12\n",
            "Hash: 37e2eb5bcd8950b70c43aa992b513f8f -> Directory: duplicates/37e2eb5bcd8950b70c43aa992b513f8f\n",
            "Hash: 1f1d3cc657bb2b6dec1e41b5741e1f09 -> Directory: duplicates/1f1d3cc657bb2b6dec1e41b5741e1f09\n",
            "Hash: a90e954df70a69a0e69057a72f17a328 -> Directory: duplicates/a90e954df70a69a0e69057a72f17a328\n",
            "Hash: 5b348c2b378d5d06b41058f6ab1acd87 -> Directory: duplicates/5b348c2b378d5d06b41058f6ab1acd87\n",
            "Hash: ba2ee1ee73c5a33672fa4a0d853a8190 -> Directory: duplicates/ba2ee1ee73c5a33672fa4a0d853a8190\n",
            "Hash: eec4394f6a1bb7e802fa3d69283acebe -> Directory: duplicates/eec4394f6a1bb7e802fa3d69283acebe\n",
            "Hash: 5375ca0dc74cac35c0da0f7388ecd8f6 -> Directory: duplicates/5375ca0dc74cac35c0da0f7388ecd8f6\n",
            "Hash: 42eb2edb762f429e921cc34d71e3652c -> Directory: duplicates/42eb2edb762f429e921cc34d71e3652c\n",
            "Hash: b77d00ac9de1400ecb0ffc5b70aac51a -> Directory: duplicates/b77d00ac9de1400ecb0ffc5b70aac51a\n",
            "Hash: aae05ed03e2f6ea3cdb2792e8978d763 -> Directory: duplicates/aae05ed03e2f6ea3cdb2792e8978d763\n",
            "Hash: 6f5048b60c8e15bb71ff9fe4297c6a9a -> Directory: duplicates/6f5048b60c8e15bb71ff9fe4297c6a9a\n",
            "Hash: 28537714e547a673e5d070a292f5bd93 -> Directory: duplicates/28537714e547a673e5d070a292f5bd93\n",
            "Hash: f53dba7891c00eda09c02649de831dab -> Directory: duplicates/f53dba7891c00eda09c02649de831dab\n",
            "Hash: 5c6f360bda8fab851a3f96f5cad2b18a -> Directory: duplicates/5c6f360bda8fab851a3f96f5cad2b18a\n",
            "Hash: 721333549631e9652f3a585b3a296887 -> Directory: duplicates/721333549631e9652f3a585b3a296887\n",
            "Hash: 2a2e503c7a4445c04c91790ffeca8d96 -> Directory: duplicates/2a2e503c7a4445c04c91790ffeca8d96\n",
            "Hash: ce4c02813eaac2bb3e6c3d1c6093abf6 -> Directory: duplicates/ce4c02813eaac2bb3e6c3d1c6093abf6\n",
            "Hash: 06ca799d48ae36a9531806afdca88413 -> Directory: duplicates/06ca799d48ae36a9531806afdca88413\n",
            "Hash: 4f527fa5729695792aa8fc4a53f95a22 -> Directory: duplicates/4f527fa5729695792aa8fc4a53f95a22\n",
            "Hash: 83f346692ce782135b86e6b9375a91d3 -> Directory: duplicates/83f346692ce782135b86e6b9375a91d3\n",
            "Hash: 3b703bfd5f4395ad8da41764beabd825 -> Directory: duplicates/3b703bfd5f4395ad8da41764beabd825\n",
            "Hash: 6d1f912d321ad6a56c152d73a31b4b21 -> Directory: duplicates/6d1f912d321ad6a56c152d73a31b4b21\n",
            "Hash: 2815cd25f1bf751b1c3282b0e406bdac -> Directory: duplicates/2815cd25f1bf751b1c3282b0e406bdac\n",
            "Hash: 9f852879ba3602afff06fab9520cb4e0 -> Directory: duplicates/9f852879ba3602afff06fab9520cb4e0\n",
            "Hash: b7eb1c03591063a8eba3409829d08381 -> Directory: duplicates/b7eb1c03591063a8eba3409829d08381\n",
            "Hash: 07442c85ffbd70b4714b8955949b19b9 -> Directory: duplicates/07442c85ffbd70b4714b8955949b19b9\n",
            "Hash: 367638e8cafbd7f1ff7e41b340924e49 -> Directory: duplicates/367638e8cafbd7f1ff7e41b340924e49\n",
            "Hash: 2992d6bdeca59b85e54e32b0a4146631 -> Directory: duplicates/2992d6bdeca59b85e54e32b0a4146631\n",
            "Hash: fffc703a7886cdaa832003d16514a313 -> Directory: duplicates/fffc703a7886cdaa832003d16514a313\n",
            "Hash: 27c17d1425d8353cb99b891ee378aaa2 -> Directory: duplicates/27c17d1425d8353cb99b891ee378aaa2\n",
            "Hash: dcae0161fdc53016df5201ba2140e698 -> Directory: duplicates/dcae0161fdc53016df5201ba2140e698\n",
            "Hash: 842548910a3a35523e2d1b33def60dc5 -> Directory: duplicates/842548910a3a35523e2d1b33def60dc5\n",
            "Hash: 6f0e6736916c01c91e9bb08f3c8ec12b -> Directory: duplicates/6f0e6736916c01c91e9bb08f3c8ec12b\n",
            "Hash: 4573a7486a7ae43385d01309a7ef4380 -> Directory: duplicates/4573a7486a7ae43385d01309a7ef4380\n",
            "Hash: 4a5aadc666abae4b9b0b80a0ad2f9865 -> Directory: duplicates/4a5aadc666abae4b9b0b80a0ad2f9865\n",
            "Hash: a5e7d9aee9cf32285f2d57cae2af9bdc -> Directory: duplicates/a5e7d9aee9cf32285f2d57cae2af9bdc\n",
            "Hash: 0b48c0334fbbd6165ab56eb8558c39c4 -> Directory: duplicates/0b48c0334fbbd6165ab56eb8558c39c4\n",
            "Hash: 861af745863aaee2f6221dbf8aae8f01 -> Directory: duplicates/861af745863aaee2f6221dbf8aae8f01\n",
            "Hash: 5c93e34a3bf1dddeac55fd515bd9b462 -> Directory: duplicates/5c93e34a3bf1dddeac55fd515bd9b462\n",
            "Hash: d8e384b9c5bb9e919c2a539447afa4ce -> Directory: duplicates/d8e384b9c5bb9e919c2a539447afa4ce\n",
            "Hash: 3d390df5d70309227d28ac91e3357be3 -> Directory: duplicates/3d390df5d70309227d28ac91e3357be3\n",
            "Hash: a30c6dc2c66472a157c83009d75a0201 -> Directory: duplicates/a30c6dc2c66472a157c83009d75a0201\n",
            "Hash: 09bb89423fc0fc327c8e43e40e94bdec -> Directory: duplicates/09bb89423fc0fc327c8e43e40e94bdec\n",
            "Hash: ff3dd0f222e0b504b36c856d307b082f -> Directory: duplicates/ff3dd0f222e0b504b36c856d307b082f\n",
            "Hash: afd36f9d4e305dc522fee08ec33f299d -> Directory: duplicates/afd36f9d4e305dc522fee08ec33f299d\n"
          ]
        }
      ]
    },
    {
      "cell_type": "code",
      "source": [
        "import hashlib\n",
        "import os\n",
        "import pandas as pd\n",
        "from tqdm import tqdm\n",
        "\n",
        "def calculate_file_hash(filepath, hash_algorithm='md5'):\n",
        "    \"\"\"Calculate the hash of a file.\"\"\"\n",
        "    hash_func = hashlib.new(hash_algorithm)\n",
        "    with open(filepath, 'rb') as f:\n",
        "        while chunk := f.read(8192):  # Read in chunks\n",
        "            hash_func.update(chunk)\n",
        "    return hash_func.hexdigest()\n",
        "\n",
        "def map_hashes_to_csv(csv_path, video_dir, output_csv_path, hash_algorithm='md5'):\n",
        "    \"\"\"Add a hash column to the CSV based on the videos in the directory.\"\"\"\n",
        "    # Load the CSV\n",
        "    data = pd.read_csv(csv_path)\n",
        "    hash_column = []\n",
        "\n",
        "    # Map each URL to its corresponding file and calculate hash\n",
        "    for idx, url in tqdm(enumerate(data['Video URL']), total=len(data)):\n",
        "        # Extract the expected file name from the URL\n",
        "        file_name_from_url = url.split('/')[-1] + '.mp4'\n",
        "        file_path = os.path.join(video_dir, file_name_from_url)\n",
        "\n",
        "        if os.path.exists(file_path):\n",
        "            file_hash = calculate_file_hash(file_path, hash_algorithm)\n",
        "        else:\n",
        "            file_hash = None  # If file is missing, mark it as None\n",
        "\n",
        "        hash_column.append(file_hash)\n",
        "\n",
        "    # Add the hash column to the DataFrame\n",
        "    data['Hash'] = hash_column\n",
        "\n",
        "    # Save the updated CSV\n",
        "    data.to_csv(output_csv_path, index=False)\n",
        "    print(f\"Updated CSV saved to: {output_csv_path}\")\n",
        "\n",
        "# Usage\n",
        "csv_path = 'AssignmentData.csv'\n",
        "video_directory = 'downloaded_videos'\n",
        "output_csv_path = 'AssignmentData_with_hashes.csv'\n",
        "\n",
        "map_hashes_to_csv(csv_path, video_directory, output_csv_path)\n"
      ],
      "metadata": {
        "colab": {
          "base_uri": "https://localhost:8080/"
        },
        "id": "WvSqAF2K0ZS2",
        "outputId": "111e7540-685f-43b9-edc3-61b2dc581cd3"
      },
      "execution_count": 21,
      "outputs": [
        {
          "output_type": "stream",
          "name": "stderr",
          "text": [
            "100%|██████████| 268/268 [00:00<00:00, 116701.98it/s]"
          ]
        },
        {
          "output_type": "stream",
          "name": "stdout",
          "text": [
            "Updated CSV saved to: AssignmentData_with_hashes.csv\n"
          ]
        },
        {
          "output_type": "stream",
          "name": "stderr",
          "text": [
            "\n"
          ]
        }
      ]
    },
    {
      "cell_type": "code",
      "source": [
        "import pandas as pd\n",
        "\n",
        "# Load the input CSV file\n",
        "input_csv = 'AssignmentData_with_hashes.csv'\n",
        "output_csv = 'Hash_Performance_Statistics.csv'\n",
        "\n",
        "# Read the CSV\n",
        "data = pd.read_csv(input_csv)\n",
        "\n",
        "# Ensure there are no empty hash values (optional)\n",
        "data = data.dropna(subset=['Hash'])\n",
        "\n",
        "# Group by the Hash column and calculate statistics\n",
        "summary = data.groupby('Hash').agg(\n",
        "    Avg_Performance=('Performance', 'mean'),\n",
        "    Frequency=('Performance', 'count')\n",
        ").reset_index()\n",
        "\n",
        "# Save the results to a new CSV file\n",
        "summary.to_csv(output_csv, index=False)\n",
        "\n",
        "print(f\"Statistics saved to: {output_csv}\")\n"
      ],
      "metadata": {
        "colab": {
          "base_uri": "https://localhost:8080/"
        },
        "id": "JWUmvVHr0Z07",
        "outputId": "d3c295f4-ee5d-4a4e-8d66-a73069ef3521"
      },
      "execution_count": 22,
      "outputs": [
        {
          "output_type": "stream",
          "name": "stdout",
          "text": [
            "Statistics saved to: Hash_Performance_Statistics.csv\n"
          ]
        }
      ]
    },
    {
      "cell_type": "code",
      "source": [
        "import os\n",
        "\n",
        "def remove_duplicates_in_subdirectories(base_directory):\n",
        "    \"\"\"\n",
        "    Retain only one video file in each subdirectory and remove the rest.\n",
        "    \"\"\"\n",
        "    for root, subdirs, _ in os.walk(base_directory):\n",
        "        for subdir in subdirs:\n",
        "            subdir_path = os.path.join(root, subdir)\n",
        "            video_files = [f for f in os.listdir(subdir_path) if os.path.isfile(os.path.join(subdir_path, f))]\n",
        "\n",
        "            # Retain only one file (e.g., the first one) and delete the rest\n",
        "            if len(video_files) > 1:\n",
        "                first_file = video_files[0]\n",
        "                for file in video_files[1:]:\n",
        "                    file_path = os.path.join(subdir_path, file)\n",
        "                    os.remove(file_path)\n",
        "                    print(f\"Removed duplicate: {file_path}\")\n",
        "                print(f\"Kept: {os.path.join(subdir_path, first_file)}\")\n",
        "            elif len(video_files) == 1:\n",
        "                print(f\"Only one file in {subdir_path}, no duplicates to remove.\")\n",
        "            else:\n",
        "                print(f\"No files found in {subdir_path}.\")\n",
        "\n",
        "# Usage\n",
        "base_directory = 'duplicates'\n",
        "remove_duplicates_in_subdirectories(base_directory)\n"
      ],
      "metadata": {
        "colab": {
          "base_uri": "https://localhost:8080/"
        },
        "id": "JHTkhkjX0bcf",
        "outputId": "8485e442-1dcf-45d4-9e17-d20d9e9e3dec"
      },
      "execution_count": 23,
      "outputs": [
        {
          "output_type": "stream",
          "name": "stdout",
          "text": [
            "Removed duplicate: duplicates/5b348c2b378d5d06b41058f6ab1acd87/hd-954832972830686.mp4\n",
            "Kept: duplicates/5b348c2b378d5d06b41058f6ab1acd87/hd-797024995612413.mp4\n",
            "Only one file in duplicates/721333549631e9652f3a585b3a296887, no duplicates to remove.\n",
            "Removed duplicate: duplicates/85f2c5ceddbdc070e9baff2f4e033617/hd-963303392509872.mp4\n",
            "Kept: duplicates/85f2c5ceddbdc070e9baff2f4e033617/hd-904174908300812.mp4\n",
            "Removed duplicate: duplicates/2173f067a16a31c6dd1b625a11bfd19c/hd-817477363934899.mp4\n",
            "Kept: duplicates/2173f067a16a31c6dd1b625a11bfd19c/hd-887363366529815.mp4\n",
            "Only one file in duplicates/83f346692ce782135b86e6b9375a91d3, no duplicates to remove.\n",
            "Only one file in duplicates/d55557bd4332c04edc9f9505a1341814, no duplicates to remove.\n",
            "Removed duplicate: duplicates/972d1d0935b9119411acfe9cde0f4da2/hd-909110383822260.mp4\n",
            "Kept: duplicates/972d1d0935b9119411acfe9cde0f4da2/hd-925260332281638.mp4\n",
            "Removed duplicate: duplicates/a6b2fdedbba69a7aad29927a917f4458/hd-880340126836307.mp4\n",
            "Removed duplicate: duplicates/a6b2fdedbba69a7aad29927a917f4458/hd-1689212771862832.mp4\n",
            "Kept: duplicates/a6b2fdedbba69a7aad29927a917f4458/hd-874084244131796.mp4\n",
            "Only one file in duplicates/eec4394f6a1bb7e802fa3d69283acebe, no duplicates to remove.\n",
            "Removed duplicate: duplicates/ce4c02813eaac2bb3e6c3d1c6093abf6/hd-989930303148492.mp4\n",
            "Kept: duplicates/ce4c02813eaac2bb3e6c3d1c6093abf6/hd-817135236672734.mp4\n",
            "Removed duplicate: duplicates/28537714e547a673e5d070a292f5bd93/hd-814072014151046.mp4\n",
            "Kept: duplicates/28537714e547a673e5d070a292f5bd93/hd-1685108828975354.mp4\n",
            "Removed duplicate: duplicates/c31d113ae0b7a5d763e89f16684db241/hd-789793989900194.mp4\n",
            "Kept: duplicates/c31d113ae0b7a5d763e89f16684db241/hd-880568190186256.mp4\n",
            "Only one file in duplicates/0b48c0334fbbd6165ab56eb8558c39c4, no duplicates to remove.\n",
            "Only one file in duplicates/9f852879ba3602afff06fab9520cb4e0, no duplicates to remove.\n",
            "Only one file in duplicates/6d1f912d321ad6a56c152d73a31b4b21, no duplicates to remove.\n",
            "Only one file in duplicates/fffc703a7886cdaa832003d16514a313, no duplicates to remove.\n",
            "Removed duplicate: duplicates/cfe34e33e75225e587d7e7209b290f52/hd-881270063889884.mp4\n",
            "Kept: duplicates/cfe34e33e75225e587d7e7209b290f52/hd-888183703182855.mp4\n",
            "Removed duplicate: duplicates/ec352aca335930f75c91ec2b8e60c73c/hd-879049300656635.mp4\n",
            "Removed duplicate: duplicates/ec352aca335930f75c91ec2b8e60c73c/hd-891391212618023.mp4\n",
            "Kept: duplicates/ec352aca335930f75c91ec2b8e60c73c/hd-987287402378278.mp4\n",
            "Only one file in duplicates/9015a1757693682cb771fef0111c4b12, no duplicates to remove.\n",
            "Only one file in duplicates/b77d00ac9de1400ecb0ffc5b70aac51a, no duplicates to remove.\n",
            "Only one file in duplicates/45261982bae50b13b491b8579a80c3bd, no duplicates to remove.\n",
            "Only one file in duplicates/5c6f360bda8fab851a3f96f5cad2b18a, no duplicates to remove.\n",
            "Only one file in duplicates/ccbff97faf9201c2b167b0c6fe2698f3, no duplicates to remove.\n",
            "Only one file in duplicates/5c93e34a3bf1dddeac55fd515bd9b462, no duplicates to remove.\n",
            "Only one file in duplicates/2815cd25f1bf751b1c3282b0e406bdac, no duplicates to remove.\n",
            "Removed duplicate: duplicates/a90e954df70a69a0e69057a72f17a328/hd-997580728807604.mp4\n",
            "Removed duplicate: duplicates/a90e954df70a69a0e69057a72f17a328/hd-1118763132933218.mp4\n",
            "Removed duplicate: duplicates/a90e954df70a69a0e69057a72f17a328/hd-8995485367146316.mp4\n",
            "Kept: duplicates/a90e954df70a69a0e69057a72f17a328/hd-424394867097391.mp4\n",
            "Removed duplicate: duplicates/42eb2edb762f429e921cc34d71e3652c/hd-811606650922029.mp4\n",
            "Removed duplicate: duplicates/42eb2edb762f429e921cc34d71e3652c/hd-817763467176157.mp4\n",
            "Removed duplicate: duplicates/42eb2edb762f429e921cc34d71e3652c/hd-802443478544141.mp4\n",
            "Kept: duplicates/42eb2edb762f429e921cc34d71e3652c/hd-8057957437624799.mp4\n",
            "Removed duplicate: duplicates/83432c9a3a854a5f654fcf246d66b8dd/hd-885209946993560.mp4\n",
            "Removed duplicate: duplicates/83432c9a3a854a5f654fcf246d66b8dd/hd-808321904744283.mp4\n",
            "Removed duplicate: duplicates/83432c9a3a854a5f654fcf246d66b8dd/hd-818776323774715.mp4\n",
            "Kept: duplicates/83432c9a3a854a5f654fcf246d66b8dd/hd-818462803696191.mp4\n",
            "Removed duplicate: duplicates/84f96a2e9318a36eaff2c22ac0dbfa20/hd-958774641659407.mp4\n",
            "Removed duplicate: duplicates/84f96a2e9318a36eaff2c22ac0dbfa20/hd-682596103528135.mp4\n",
            "Removed duplicate: duplicates/84f96a2e9318a36eaff2c22ac0dbfa20/hd-606237444463640.mp4\n",
            "Removed duplicate: duplicates/84f96a2e9318a36eaff2c22ac0dbfa20/hd-1119272995406354.mp4\n",
            "Removed duplicate: duplicates/84f96a2e9318a36eaff2c22ac0dbfa20/hd-889604775414234.mp4\n",
            "Removed duplicate: duplicates/84f96a2e9318a36eaff2c22ac0dbfa20/hd-612426467555072.mp4\n",
            "Removed duplicate: duplicates/84f96a2e9318a36eaff2c22ac0dbfa20/hd-690670309134450.mp4\n",
            "Removed duplicate: duplicates/84f96a2e9318a36eaff2c22ac0dbfa20/hd-695130362192250.mp4\n",
            "Removed duplicate: duplicates/84f96a2e9318a36eaff2c22ac0dbfa20/hd-889375178765113.mp4\n",
            "Removed duplicate: duplicates/84f96a2e9318a36eaff2c22ac0dbfa20/hd-693988272279384.mp4\n",
            "Removed duplicate: duplicates/84f96a2e9318a36eaff2c22ac0dbfa20/hd-618555366744628.mp4\n",
            "Removed duplicate: duplicates/84f96a2e9318a36eaff2c22ac0dbfa20/hd-691857912087615.mp4\n",
            "Removed duplicate: duplicates/84f96a2e9318a36eaff2c22ac0dbfa20/hd-427878012859864.mp4\n",
            "Removed duplicate: duplicates/84f96a2e9318a36eaff2c22ac0dbfa20/hd-898402801287469.mp4\n",
            "Removed duplicate: duplicates/84f96a2e9318a36eaff2c22ac0dbfa20/hd-910958533691058.mp4\n",
            "Removed duplicate: duplicates/84f96a2e9318a36eaff2c22ac0dbfa20/hd-872188860590219.mp4\n",
            "Removed duplicate: duplicates/84f96a2e9318a36eaff2c22ac0dbfa20/hd-613152173490344.mp4\n",
            "Removed duplicate: duplicates/84f96a2e9318a36eaff2c22ac0dbfa20/hd-899155277883965.mp4\n",
            "Removed duplicate: duplicates/84f96a2e9318a36eaff2c22ac0dbfa20/hd-871037203883530.mp4\n",
            "Removed duplicate: duplicates/84f96a2e9318a36eaff2c22ac0dbfa20/hd-6096104653784047.mp4\n",
            "Removed duplicate: duplicates/84f96a2e9318a36eaff2c22ac0dbfa20/hd-907416560296782.mp4\n",
            "Removed duplicate: duplicates/84f96a2e9318a36eaff2c22ac0dbfa20/hd-686488653080244.mp4\n",
            "Removed duplicate: duplicates/84f96a2e9318a36eaff2c22ac0dbfa20/hd-817768845898837.mp4\n",
            "Removed duplicate: duplicates/84f96a2e9318a36eaff2c22ac0dbfa20/hd-813828049840959.mp4\n",
            "Removed duplicate: duplicates/84f96a2e9318a36eaff2c22ac0dbfa20/hd-896843165102015.mp4\n",
            "Removed duplicate: duplicates/84f96a2e9318a36eaff2c22ac0dbfa20/hd-686083626588321.mp4\n",
            "Removed duplicate: duplicates/84f96a2e9318a36eaff2c22ac0dbfa20/hd-899987727789409.mp4\n",
            "Removed duplicate: duplicates/84f96a2e9318a36eaff2c22ac0dbfa20/hd-871075730546911.mp4\n",
            "Kept: duplicates/84f96a2e9318a36eaff2c22ac0dbfa20/hd-891684945300160.mp4\n",
            "Only one file in duplicates/dcae0161fdc53016df5201ba2140e698, no duplicates to remove.\n",
            "Only one file in duplicates/a5e7d9aee9cf32285f2d57cae2af9bdc, no duplicates to remove.\n",
            "Only one file in duplicates/6f5048b60c8e15bb71ff9fe4297c6a9a, no duplicates to remove.\n",
            "Only one file in duplicates/861af745863aaee2f6221dbf8aae8f01, no duplicates to remove.\n",
            "Removed duplicate: duplicates/9f57f3e4350e4aa3d29d8a434f6dc9f1/hd-890005255637433.mp4\n",
            "Removed duplicate: duplicates/9f57f3e4350e4aa3d29d8a434f6dc9f1/hd-679261516829908.mp4\n",
            "Removed duplicate: duplicates/9f57f3e4350e4aa3d29d8a434f6dc9f1/hd-896598988012982.mp4\n",
            "Removed duplicate: duplicates/9f57f3e4350e4aa3d29d8a434f6dc9f1/hd-691252805779835.mp4\n",
            "Removed duplicate: duplicates/9f57f3e4350e4aa3d29d8a434f6dc9f1/hd-933913194646448.mp4\n",
            "Removed duplicate: duplicates/9f57f3e4350e4aa3d29d8a434f6dc9f1/hd-789715035654710.mp4\n",
            "Removed duplicate: duplicates/9f57f3e4350e4aa3d29d8a434f6dc9f1/hd-680549530054789.mp4\n",
            "Removed duplicate: duplicates/9f57f3e4350e4aa3d29d8a434f6dc9f1/hd-992064161877405.mp4\n",
            "Removed duplicate: duplicates/9f57f3e4350e4aa3d29d8a434f6dc9f1/hd-886049645973007.mp4\n",
            "Removed duplicate: duplicates/9f57f3e4350e4aa3d29d8a434f6dc9f1/hd-888056015719840.mp4\n",
            "Removed duplicate: duplicates/9f57f3e4350e4aa3d29d8a434f6dc9f1/hd-688887926060399.mp4\n",
            "Removed duplicate: duplicates/9f57f3e4350e4aa3d29d8a434f6dc9f1/hd-689771035910864.mp4\n",
            "Removed duplicate: duplicates/9f57f3e4350e4aa3d29d8a434f6dc9f1/hd-8816515918390519.mp4\n",
            "Removed duplicate: duplicates/9f57f3e4350e4aa3d29d8a434f6dc9f1/hd-911172609864769.mp4\n",
            "Removed duplicate: duplicates/9f57f3e4350e4aa3d29d8a434f6dc9f1/hd-620154813059921.mp4\n",
            "Removed duplicate: duplicates/9f57f3e4350e4aa3d29d8a434f6dc9f1/hd-6046690562050296.mp4\n",
            "Removed duplicate: duplicates/9f57f3e4350e4aa3d29d8a434f6dc9f1/hd-605272664726548.mp4\n",
            "Removed duplicate: duplicates/9f57f3e4350e4aa3d29d8a434f6dc9f1/hd-8828692983838031.mp4\n",
            "Removed duplicate: duplicates/9f57f3e4350e4aa3d29d8a434f6dc9f1/hd-796944101940903.mp4\n",
            "Removed duplicate: duplicates/9f57f3e4350e4aa3d29d8a434f6dc9f1/hd-937410954343974.mp4\n",
            "Removed duplicate: duplicates/9f57f3e4350e4aa3d29d8a434f6dc9f1/hd-933773150951550.mp4\n",
            "Removed duplicate: duplicates/9f57f3e4350e4aa3d29d8a434f6dc9f1/hd-696006115320413.mp4\n",
            "Removed duplicate: duplicates/9f57f3e4350e4aa3d29d8a434f6dc9f1/hd-426644026275739.mp4\n",
            "Removed duplicate: duplicates/9f57f3e4350e4aa3d29d8a434f6dc9f1/hd-883246492824014.mp4\n",
            "Removed duplicate: duplicates/9f57f3e4350e4aa3d29d8a434f6dc9f1/hd-930116227971248.mp4\n",
            "Removed duplicate: duplicates/9f57f3e4350e4aa3d29d8a434f6dc9f1/hd-903060767715541.mp4\n",
            "Removed duplicate: duplicates/9f57f3e4350e4aa3d29d8a434f6dc9f1/hd-684264882912286.mp4\n",
            "Removed duplicate: duplicates/9f57f3e4350e4aa3d29d8a434f6dc9f1/hd-6172742522782221.mp4\n",
            "Removed duplicate: duplicates/9f57f3e4350e4aa3d29d8a434f6dc9f1/hd-897680994566577.mp4\n",
            "Kept: duplicates/9f57f3e4350e4aa3d29d8a434f6dc9f1/hd-621266003076530.mp4\n",
            "Removed duplicate: duplicates/02e5422aab7de6f8c7085c49e3dcfbd0/hd-886609482926268.mp4\n",
            "Removed duplicate: duplicates/02e5422aab7de6f8c7085c49e3dcfbd0/hd-911926190614858.mp4\n",
            "Removed duplicate: duplicates/02e5422aab7de6f8c7085c49e3dcfbd0/hd-790055392972248.mp4\n",
            "Removed duplicate: duplicates/02e5422aab7de6f8c7085c49e3dcfbd0/hd-815391233916449.mp4\n",
            "Kept: duplicates/02e5422aab7de6f8c7085c49e3dcfbd0/hd-819765763526762.mp4\n",
            "Only one file in duplicates/a30c6dc2c66472a157c83009d75a0201, no duplicates to remove.\n",
            "Removed duplicate: duplicates/5375ca0dc74cac35c0da0f7388ecd8f6/hd-965108935263649.mp4\n",
            "Kept: duplicates/5375ca0dc74cac35c0da0f7388ecd8f6/hd-888062106715252.mp4\n",
            "Only one file in duplicates/d804202f84cf0e2041358adad728a414, no duplicates to remove.\n",
            "Removed duplicate: duplicates/2f7a6b1eb3db313ee03a9cdd9b5f612d/hd-929300948587514.mp4\n",
            "Kept: duplicates/2f7a6b1eb3db313ee03a9cdd9b5f612d/hd-797179088937277.mp4\n",
            "Only one file in duplicates/6f0e6736916c01c91e9bb08f3c8ec12b, no duplicates to remove.\n",
            "Only one file in duplicates/d8e384b9c5bb9e919c2a539447afa4ce, no duplicates to remove.\n",
            "Only one file in duplicates/37e2eb5bcd8950b70c43aa992b513f8f, no duplicates to remove.\n",
            "Only one file in duplicates/afd36f9d4e305dc522fee08ec33f299d, no duplicates to remove.\n",
            "Removed duplicate: duplicates/f8b549c412a3b5585b5c352e708e911b/hd-687665956347322.mp4\n",
            "Removed duplicate: duplicates/f8b549c412a3b5585b5c352e708e911b/hd-944160410298140.mp4\n",
            "Removed duplicate: duplicates/f8b549c412a3b5585b5c352e708e911b/hd-894066258497958.mp4\n",
            "Removed duplicate: duplicates/f8b549c412a3b5585b5c352e708e911b/hd-882867522830120.mp4\n",
            "Removed duplicate: duplicates/f8b549c412a3b5585b5c352e708e911b/hd-871185627435460.mp4\n",
            "Removed duplicate: duplicates/f8b549c412a3b5585b5c352e708e911b/hd-951491629353387.mp4\n",
            "Removed duplicate: duplicates/f8b549c412a3b5585b5c352e708e911b/hd-885689066019680.mp4\n",
            "Removed duplicate: duplicates/f8b549c412a3b5585b5c352e708e911b/hd-896589688256009.mp4\n",
            "Removed duplicate: duplicates/f8b549c412a3b5585b5c352e708e911b/hd-906909830682725.mp4\n",
            "Removed duplicate: duplicates/f8b549c412a3b5585b5c352e708e911b/hd-932038864470963.mp4\n",
            "Removed duplicate: duplicates/f8b549c412a3b5585b5c352e708e911b/hd-680540137074841.mp4\n",
            "Removed duplicate: duplicates/f8b549c412a3b5585b5c352e708e911b/hd-786610583313461.mp4\n",
            "Removed duplicate: duplicates/f8b549c412a3b5585b5c352e708e911b/hd-978448136455993.mp4\n",
            "Removed duplicate: duplicates/f8b549c412a3b5585b5c352e708e911b/hd-991636695150147.mp4\n",
            "Removed duplicate: duplicates/f8b549c412a3b5585b5c352e708e911b/hd-958267042213267.mp4\n",
            "Removed duplicate: duplicates/f8b549c412a3b5585b5c352e708e911b/hd-873560550525047.mp4\n",
            "Removed duplicate: duplicates/f8b549c412a3b5585b5c352e708e911b/hd-877511836784655.mp4\n",
            "Removed duplicate: duplicates/f8b549c412a3b5585b5c352e708e911b/hd-872760463806517.mp4\n",
            "Removed duplicate: duplicates/f8b549c412a3b5585b5c352e708e911b/hd-935530867630269.mp4\n",
            "Removed duplicate: duplicates/f8b549c412a3b5585b5c352e708e911b/hd-942524046763053.mp4\n",
            "Removed duplicate: duplicates/f8b549c412a3b5585b5c352e708e911b/hd-898103501380741.mp4\n",
            "Removed duplicate: duplicates/f8b549c412a3b5585b5c352e708e911b/hd-875485623676104.mp4\n",
            "Removed duplicate: duplicates/f8b549c412a3b5585b5c352e708e911b/hd-872400620956045.mp4\n",
            "Removed duplicate: duplicates/f8b549c412a3b5585b5c352e708e911b/hd-817475239730695.mp4\n",
            "Removed duplicate: duplicates/f8b549c412a3b5585b5c352e708e911b/hd-999607261342550.mp4\n",
            "Removed duplicate: duplicates/f8b549c412a3b5585b5c352e708e911b/hd-877129693575192.mp4\n",
            "Removed duplicate: duplicates/f8b549c412a3b5585b5c352e708e911b/hd-988185795921355.mp4\n",
            "Removed duplicate: duplicates/f8b549c412a3b5585b5c352e708e911b/hd-935558767885747.mp4\n",
            "Removed duplicate: duplicates/f8b549c412a3b5585b5c352e708e911b/hd-613417017284998.mp4\n",
            "Removed duplicate: duplicates/f8b549c412a3b5585b5c352e708e911b/hd-902309670925392.mp4\n",
            "Removed duplicate: duplicates/f8b549c412a3b5585b5c352e708e911b/hd-891661008828094.mp4\n",
            "Removed duplicate: duplicates/f8b549c412a3b5585b5c352e708e911b/hd-929830031529018.mp4\n",
            "Removed duplicate: duplicates/f8b549c412a3b5585b5c352e708e911b/hd-902843234362370.mp4\n",
            "Removed duplicate: duplicates/f8b549c412a3b5585b5c352e708e911b/hd-935168780798574.mp4\n",
            "Removed duplicate: duplicates/f8b549c412a3b5585b5c352e708e911b/hd-687024156350870.mp4\n",
            "Removed duplicate: duplicates/f8b549c412a3b5585b5c352e708e911b/hd-873043573965895.mp4\n",
            "Removed duplicate: duplicates/f8b549c412a3b5585b5c352e708e911b/hd-905545323817883.mp4\n",
            "Removed duplicate: duplicates/f8b549c412a3b5585b5c352e708e911b/hd-924585008982148.mp4\n",
            "Removed duplicate: duplicates/f8b549c412a3b5585b5c352e708e911b/hd-944755280756437.mp4\n",
            "Removed duplicate: duplicates/f8b549c412a3b5585b5c352e708e911b/hd-893173505441981.mp4\n",
            "Removed duplicate: duplicates/f8b549c412a3b5585b5c352e708e911b/hd-872222594086011.mp4\n",
            "Removed duplicate: duplicates/f8b549c412a3b5585b5c352e708e911b/hd-966715248087290.mp4\n",
            "Removed duplicate: duplicates/f8b549c412a3b5585b5c352e708e911b/hd-989600295478567.mp4\n",
            "Removed duplicate: duplicates/f8b549c412a3b5585b5c352e708e911b/hd-877975993416760.mp4\n",
            "Removed duplicate: duplicates/f8b549c412a3b5585b5c352e708e911b/hd-691581235967071.mp4\n",
            "Removed duplicate: duplicates/f8b549c412a3b5585b5c352e708e911b/hd-932085787962122.mp4\n",
            "Removed duplicate: duplicates/f8b549c412a3b5585b5c352e708e911b/hd-940634710428411.mp4\n",
            "Removed duplicate: duplicates/f8b549c412a3b5585b5c352e708e911b/hd-6174004652651971.mp4\n",
            "Removed duplicate: duplicates/f8b549c412a3b5585b5c352e708e911b/hd-967731231014052.mp4\n",
            "Removed duplicate: duplicates/f8b549c412a3b5585b5c352e708e911b/hd-925596815118953.mp4\n",
            "Removed duplicate: duplicates/f8b549c412a3b5585b5c352e708e911b/hd-612555930635832.mp4\n",
            "Removed duplicate: duplicates/f8b549c412a3b5585b5c352e708e911b/hd-905844110841635.mp4\n",
            "Removed duplicate: duplicates/f8b549c412a3b5585b5c352e708e911b/hd-684364333171304.mp4\n",
            "Removed duplicate: duplicates/f8b549c412a3b5585b5c352e708e911b/hd-966019214364727.mp4\n",
            "Removed duplicate: duplicates/f8b549c412a3b5585b5c352e708e911b/hd-8715627171842855.mp4\n",
            "Removed duplicate: duplicates/f8b549c412a3b5585b5c352e708e911b/hd-946181943065342.mp4\n",
            "Removed duplicate: duplicates/f8b549c412a3b5585b5c352e708e911b/hd-678133704039459.mp4\n",
            "Removed duplicate: duplicates/f8b549c412a3b5585b5c352e708e911b/hd-673961584214053.mp4\n",
            "Removed duplicate: duplicates/f8b549c412a3b5585b5c352e708e911b/hd-694675672308301.mp4\n",
            "Removed duplicate: duplicates/f8b549c412a3b5585b5c352e708e911b/hd-958675741960412.mp4\n",
            "Removed duplicate: duplicates/f8b549c412a3b5585b5c352e708e911b/hd-909937876815529.mp4\n",
            "Removed duplicate: duplicates/f8b549c412a3b5585b5c352e708e911b/hd-895042408159688.mp4\n",
            "Removed duplicate: duplicates/f8b549c412a3b5585b5c352e708e911b/hd-882993126248062.mp4\n",
            "Removed duplicate: duplicates/f8b549c412a3b5585b5c352e708e911b/hd-897088088160051.mp4\n",
            "Removed duplicate: duplicates/f8b549c412a3b5585b5c352e708e911b/hd-877662697022279.mp4\n",
            "Removed duplicate: duplicates/f8b549c412a3b5585b5c352e708e911b/hd-6107397609317402.mp4\n",
            "Removed duplicate: duplicates/f8b549c412a3b5585b5c352e708e911b/hd-9020567984620018.mp4\n",
            "Removed duplicate: duplicates/f8b549c412a3b5585b5c352e708e911b/hd-937508703912579.mp4\n",
            "Removed duplicate: duplicates/f8b549c412a3b5585b5c352e708e911b/hd-689363059404444.mp4\n",
            "Removed duplicate: duplicates/f8b549c412a3b5585b5c352e708e911b/hd-909067460285978.mp4\n",
            "Removed duplicate: duplicates/f8b549c412a3b5585b5c352e708e911b/hd-680162593779089.mp4\n",
            "Removed duplicate: duplicates/f8b549c412a3b5585b5c352e708e911b/hd-676770877464110.mp4\n",
            "Removed duplicate: duplicates/f8b549c412a3b5585b5c352e708e911b/hd-977008307250628.mp4\n",
            "Removed duplicate: duplicates/f8b549c412a3b5585b5c352e708e911b/hd-987232088920289.mp4\n",
            "Removed duplicate: duplicates/f8b549c412a3b5585b5c352e708e911b/hd-890166872024685.mp4\n",
            "Removed duplicate: duplicates/f8b549c412a3b5585b5c352e708e911b/hd-911482386703699.mp4\n",
            "Removed duplicate: duplicates/f8b549c412a3b5585b5c352e708e911b/hd-871286287458461.mp4\n",
            "Removed duplicate: duplicates/f8b549c412a3b5585b5c352e708e911b/hd-894457734962164.mp4\n",
            "Removed duplicate: duplicates/f8b549c412a3b5585b5c352e708e911b/hd-6837957766319053.mp4\n",
            "Removed duplicate: duplicates/f8b549c412a3b5585b5c352e708e911b/hd-8806609246079208.mp4\n",
            "Removed duplicate: duplicates/f8b549c412a3b5585b5c352e708e911b/hd-892383375224287.mp4\n",
            "Removed duplicate: duplicates/f8b549c412a3b5585b5c352e708e911b/hd-966458824582483.mp4\n",
            "Removed duplicate: duplicates/f8b549c412a3b5585b5c352e708e911b/hd-874747697073121.mp4\n",
            "Removed duplicate: duplicates/f8b549c412a3b5585b5c352e708e911b/hd-682791943270614.mp4\n",
            "Removed duplicate: duplicates/f8b549c412a3b5585b5c352e708e911b/hd-898967424867870.mp4\n",
            "Removed duplicate: duplicates/f8b549c412a3b5585b5c352e708e911b/hd-989284361966196.mp4\n",
            "Removed duplicate: duplicates/f8b549c412a3b5585b5c352e708e911b/hd-690541956158254.mp4\n",
            "Kept: duplicates/f8b549c412a3b5585b5c352e708e911b/hd-689599909618915.mp4\n",
            "Only one file in duplicates/3b703bfd5f4395ad8da41764beabd825, no duplicates to remove.\n",
            "Only one file in duplicates/f53dba7891c00eda09c02649de831dab, no duplicates to remove.\n",
            "Only one file in duplicates/842548910a3a35523e2d1b33def60dc5, no duplicates to remove.\n",
            "Removed duplicate: duplicates/31f7dbb597bccd3d34b6d9c5723fee6b/hd-975523146942238.mp4\n",
            "Removed duplicate: duplicates/31f7dbb597bccd3d34b6d9c5723fee6b/hd-932296771464171.mp4\n",
            "Removed duplicate: duplicates/31f7dbb597bccd3d34b6d9c5723fee6b/hd-621652523105267.mp4\n",
            "Removed duplicate: duplicates/31f7dbb597bccd3d34b6d9c5723fee6b/hd-874190910572544.mp4\n",
            "Removed duplicate: duplicates/31f7dbb597bccd3d34b6d9c5723fee6b/hd-901272811190482.mp4\n",
            "Kept: duplicates/31f7dbb597bccd3d34b6d9c5723fee6b/hd-904480964010630.mp4\n",
            "Only one file in duplicates/cd0550c99c10cfa3e4d50752ca8df275, no duplicates to remove.\n",
            "Only one file in duplicates/06ca799d48ae36a9531806afdca88413, no duplicates to remove.\n",
            "Only one file in duplicates/4a5aadc666abae4b9b0b80a0ad2f9865, no duplicates to remove.\n",
            "Only one file in duplicates/ff3dd0f222e0b504b36c856d307b082f, no duplicates to remove.\n",
            "Removed duplicate: duplicates/ad1f9800f36fac0b2ac08df0789b1f31/hd-881925359723909.mp4\n",
            "Removed duplicate: duplicates/ad1f9800f36fac0b2ac08df0789b1f31/hd-903960640750545.mp4\n",
            "Removed duplicate: duplicates/ad1f9800f36fac0b2ac08df0789b1f31/hd-611188517518682.mp4\n",
            "Removed duplicate: duplicates/ad1f9800f36fac0b2ac08df0789b1f31/hd-617288786873081.mp4\n",
            "Kept: duplicates/ad1f9800f36fac0b2ac08df0789b1f31/hd-924865635226814.mp4\n",
            "Only one file in duplicates/27c17d1425d8353cb99b891ee378aaa2, no duplicates to remove.\n",
            "Only one file in duplicates/843ba180c880ce8eb857d34a82b9d7a4, no duplicates to remove.\n",
            "Removed duplicate: duplicates/aae05ed03e2f6ea3cdb2792e8978d763/hd-986360206629277.mp4\n",
            "Kept: duplicates/aae05ed03e2f6ea3cdb2792e8978d763/hd-8796411607036992.mp4\n",
            "Removed duplicate: duplicates/1f1d3cc657bb2b6dec1e41b5741e1f09/hd-932703258597949.mp4\n",
            "Removed duplicate: duplicates/1f1d3cc657bb2b6dec1e41b5741e1f09/hd-876121221160846.mp4\n",
            "Kept: duplicates/1f1d3cc657bb2b6dec1e41b5741e1f09/hd-873317140849832.mp4\n",
            "Only one file in duplicates/3d390df5d70309227d28ac91e3357be3, no duplicates to remove.\n",
            "Only one file in duplicates/6a93d65eeaab2d86f1732287be95ea7e, no duplicates to remove.\n",
            "Only one file in duplicates/7ed5b587b29059486f58041fc2c3ca17, no duplicates to remove.\n",
            "Removed duplicate: duplicates/85864627c2342b749f422d188fa19f98/hd-807800198130528.mp4\n",
            "Kept: duplicates/85864627c2342b749f422d188fa19f98/hd-989969399547901.mp4\n",
            "Only one file in duplicates/4f527fa5729695792aa8fc4a53f95a22, no duplicates to remove.\n",
            "Only one file in duplicates/58967db3c17d5b7fd36b2c3ed4b0225b, no duplicates to remove.\n",
            "Only one file in duplicates/2a2e503c7a4445c04c91790ffeca8d96, no duplicates to remove.\n",
            "Only one file in duplicates/367638e8cafbd7f1ff7e41b340924e49, no duplicates to remove.\n",
            "Removed duplicate: duplicates/828de100ddeffb87385f6adbfa8c25b8/hd-894559522288371.mp4\n",
            "Kept: duplicates/828de100ddeffb87385f6adbfa8c25b8/hd-905739711170399.mp4\n",
            "Only one file in duplicates/4573a7486a7ae43385d01309a7ef4380, no duplicates to remove.\n",
            "Removed duplicate: duplicates/9391e2edd5ac0a4ce73889dffcf6c326/hd-808097524590260.mp4\n",
            "Kept: duplicates/9391e2edd5ac0a4ce73889dffcf6c326/hd-987643572956494.mp4\n",
            "Only one file in duplicates/09bb89423fc0fc327c8e43e40e94bdec, no duplicates to remove.\n",
            "Only one file in duplicates/b7eb1c03591063a8eba3409829d08381, no duplicates to remove.\n",
            "Removed duplicate: duplicates/2992d6bdeca59b85e54e32b0a4146631/hd-816335920524988.mp4\n",
            "Kept: duplicates/2992d6bdeca59b85e54e32b0a4146631/hd-929511878466995.mp4\n",
            "Removed duplicate: duplicates/07442c85ffbd70b4714b8955949b19b9/hd-883738210384679.mp4\n",
            "Kept: duplicates/07442c85ffbd70b4714b8955949b19b9/hd-1698824364241828.mp4\n",
            "Removed duplicate: duplicates/bf2f6e0c1e6c758796ccab2e5546c383/hd-803990118540094.mp4\n",
            "Removed duplicate: duplicates/bf2f6e0c1e6c758796ccab2e5546c383/hd-8008073409211713.mp4\n",
            "Removed duplicate: duplicates/bf2f6e0c1e6c758796ccab2e5546c383/hd-791572172961239.mp4\n",
            "Kept: duplicates/bf2f6e0c1e6c758796ccab2e5546c383/hd-424802420355057.mp4\n",
            "Removed duplicate: duplicates/ba2ee1ee73c5a33672fa4a0d853a8190/hd-881342303358042.mp4\n",
            "Kept: duplicates/ba2ee1ee73c5a33672fa4a0d853a8190/hd-874543520932484.mp4\n",
            "Removed duplicate: duplicates/d493c65f52df3f52a2545fee044a1751/hd-893539262677484.mp4\n",
            "Kept: duplicates/d493c65f52df3f52a2545fee044a1751/hd-889728479746704.mp4\n"
          ]
        }
      ]
    },
    {
      "cell_type": "code",
      "source": [
        "import os\n",
        "import shutil\n",
        "\n",
        "def move_uniques_to_single_directory(base_directory, target_directory):\n",
        "    \"\"\"\n",
        "    Move unique files from each subdirectory to a single directory, renaming them to their hash names.\n",
        "    \"\"\"\n",
        "    os.makedirs(target_directory, exist_ok=True)  # Create the target directory if it doesn't exist\n",
        "\n",
        "    for root, subdirs, _ in os.walk(base_directory):\n",
        "        for subdir in subdirs:\n",
        "            subdir_path = os.path.join(root, subdir)\n",
        "            video_files = [f for f in os.listdir(subdir_path) if os.path.isfile(os.path.join(subdir_path, f))]\n",
        "\n",
        "            # Expect only one file per subdirectory\n",
        "            if len(video_files) == 1:\n",
        "                file_path = os.path.join(subdir_path, video_files[0])\n",
        "                new_name = f\"{subdir}.mp4\"  # Rename the file to match the subdirectory name\n",
        "                new_path = os.path.join(target_directory, new_name)\n",
        "\n",
        "                # Move the file\n",
        "                shutil.move(file_path, new_path)\n",
        "                print(f\"Moved unique file: {file_path} -> {new_path}\")\n",
        "            elif len(video_files) > 1:\n",
        "                print(f\"Warning: More than one file found in {subdir_path}. Skipping.\")\n",
        "            else:\n",
        "                print(f\"No files found in {subdir_path}. Skipping.\")\n",
        "\n",
        "# Usage\n",
        "base_directory = 'duplicates'\n",
        "target_directory = 'unique_videos'\n",
        "move_uniques_to_single_directory(base_directory, target_directory)\n"
      ],
      "metadata": {
        "colab": {
          "base_uri": "https://localhost:8080/"
        },
        "id": "n0w7dnIy3UJJ",
        "outputId": "5d3293a4-e1c7-4765-9571-347b0a927af8"
      },
      "execution_count": 24,
      "outputs": [
        {
          "output_type": "stream",
          "name": "stdout",
          "text": [
            "Moved unique file: duplicates/5b348c2b378d5d06b41058f6ab1acd87/hd-797024995612413.mp4 -> unique_videos/5b348c2b378d5d06b41058f6ab1acd87.mp4\n",
            "Moved unique file: duplicates/721333549631e9652f3a585b3a296887/hd-901695498551491.mp4 -> unique_videos/721333549631e9652f3a585b3a296887.mp4\n",
            "Moved unique file: duplicates/85f2c5ceddbdc070e9baff2f4e033617/hd-904174908300812.mp4 -> unique_videos/85f2c5ceddbdc070e9baff2f4e033617.mp4\n",
            "Moved unique file: duplicates/2173f067a16a31c6dd1b625a11bfd19c/hd-887363366529815.mp4 -> unique_videos/2173f067a16a31c6dd1b625a11bfd19c.mp4\n",
            "Moved unique file: duplicates/83f346692ce782135b86e6b9375a91d3/hd-964733417506862.mp4 -> unique_videos/83f346692ce782135b86e6b9375a91d3.mp4\n",
            "Moved unique file: duplicates/d55557bd4332c04edc9f9505a1341814/hd-604041931565137.mp4 -> unique_videos/d55557bd4332c04edc9f9505a1341814.mp4\n",
            "Moved unique file: duplicates/972d1d0935b9119411acfe9cde0f4da2/hd-925260332281638.mp4 -> unique_videos/972d1d0935b9119411acfe9cde0f4da2.mp4\n",
            "Moved unique file: duplicates/a6b2fdedbba69a7aad29927a917f4458/hd-874084244131796.mp4 -> unique_videos/a6b2fdedbba69a7aad29927a917f4458.mp4\n",
            "Moved unique file: duplicates/eec4394f6a1bb7e802fa3d69283acebe/hd-425151876539382.mp4 -> unique_videos/eec4394f6a1bb7e802fa3d69283acebe.mp4\n",
            "Moved unique file: duplicates/ce4c02813eaac2bb3e6c3d1c6093abf6/hd-817135236672734.mp4 -> unique_videos/ce4c02813eaac2bb3e6c3d1c6093abf6.mp4\n",
            "Moved unique file: duplicates/28537714e547a673e5d070a292f5bd93/hd-1685108828975354.mp4 -> unique_videos/28537714e547a673e5d070a292f5bd93.mp4\n",
            "Moved unique file: duplicates/c31d113ae0b7a5d763e89f16684db241/hd-880568190186256.mp4 -> unique_videos/c31d113ae0b7a5d763e89f16684db241.mp4\n",
            "Moved unique file: duplicates/0b48c0334fbbd6165ab56eb8558c39c4/hd-613197413789434.mp4 -> unique_videos/0b48c0334fbbd6165ab56eb8558c39c4.mp4\n",
            "Moved unique file: duplicates/9f852879ba3602afff06fab9520cb4e0/hd-944981830978756.mp4 -> unique_videos/9f852879ba3602afff06fab9520cb4e0.mp4\n",
            "Moved unique file: duplicates/6d1f912d321ad6a56c152d73a31b4b21/hd-671839840899900.mp4 -> unique_videos/6d1f912d321ad6a56c152d73a31b4b21.mp4\n",
            "Moved unique file: duplicates/fffc703a7886cdaa832003d16514a313/hd-894559812351386.mp4 -> unique_videos/fffc703a7886cdaa832003d16514a313.mp4\n",
            "Moved unique file: duplicates/cfe34e33e75225e587d7e7209b290f52/hd-888183703182855.mp4 -> unique_videos/cfe34e33e75225e587d7e7209b290f52.mp4\n",
            "Moved unique file: duplicates/ec352aca335930f75c91ec2b8e60c73c/hd-987287402378278.mp4 -> unique_videos/ec352aca335930f75c91ec2b8e60c73c.mp4\n",
            "Moved unique file: duplicates/9015a1757693682cb771fef0111c4b12/hd-992418235673669.mp4 -> unique_videos/9015a1757693682cb771fef0111c4b12.mp4\n",
            "Moved unique file: duplicates/b77d00ac9de1400ecb0ffc5b70aac51a/hd-874864704574925.mp4 -> unique_videos/b77d00ac9de1400ecb0ffc5b70aac51a.mp4\n",
            "Moved unique file: duplicates/45261982bae50b13b491b8579a80c3bd/hd-876239523982490.mp4 -> unique_videos/45261982bae50b13b491b8579a80c3bd.mp4\n",
            "Moved unique file: duplicates/5c6f360bda8fab851a3f96f5cad2b18a/hd-809480737932683.mp4 -> unique_videos/5c6f360bda8fab851a3f96f5cad2b18a.mp4\n",
            "Moved unique file: duplicates/ccbff97faf9201c2b167b0c6fe2698f3/hd-806751788307038.mp4 -> unique_videos/ccbff97faf9201c2b167b0c6fe2698f3.mp4\n",
            "Moved unique file: duplicates/5c93e34a3bf1dddeac55fd515bd9b462/hd-620702145697389.mp4 -> unique_videos/5c93e34a3bf1dddeac55fd515bd9b462.mp4\n",
            "Moved unique file: duplicates/2815cd25f1bf751b1c3282b0e406bdac/hd-604285914607200.mp4 -> unique_videos/2815cd25f1bf751b1c3282b0e406bdac.mp4\n",
            "Moved unique file: duplicates/a90e954df70a69a0e69057a72f17a328/hd-424394867097391.mp4 -> unique_videos/a90e954df70a69a0e69057a72f17a328.mp4\n",
            "Moved unique file: duplicates/42eb2edb762f429e921cc34d71e3652c/hd-8057957437624799.mp4 -> unique_videos/42eb2edb762f429e921cc34d71e3652c.mp4\n",
            "Moved unique file: duplicates/83432c9a3a854a5f654fcf246d66b8dd/hd-818462803696191.mp4 -> unique_videos/83432c9a3a854a5f654fcf246d66b8dd.mp4\n",
            "Moved unique file: duplicates/84f96a2e9318a36eaff2c22ac0dbfa20/hd-891684945300160.mp4 -> unique_videos/84f96a2e9318a36eaff2c22ac0dbfa20.mp4\n",
            "Moved unique file: duplicates/dcae0161fdc53016df5201ba2140e698/hd-6764280623620361.mp4 -> unique_videos/dcae0161fdc53016df5201ba2140e698.mp4\n",
            "Moved unique file: duplicates/a5e7d9aee9cf32285f2d57cae2af9bdc/hd-954440782897187.mp4 -> unique_videos/a5e7d9aee9cf32285f2d57cae2af9bdc.mp4\n",
            "Moved unique file: duplicates/6f5048b60c8e15bb71ff9fe4297c6a9a/hd-793257836073148.mp4 -> unique_videos/6f5048b60c8e15bb71ff9fe4297c6a9a.mp4\n",
            "Moved unique file: duplicates/861af745863aaee2f6221dbf8aae8f01/hd-803897110603133.mp4 -> unique_videos/861af745863aaee2f6221dbf8aae8f01.mp4\n",
            "Moved unique file: duplicates/9f57f3e4350e4aa3d29d8a434f6dc9f1/hd-621266003076530.mp4 -> unique_videos/9f57f3e4350e4aa3d29d8a434f6dc9f1.mp4\n",
            "Moved unique file: duplicates/02e5422aab7de6f8c7085c49e3dcfbd0/hd-819765763526762.mp4 -> unique_videos/02e5422aab7de6f8c7085c49e3dcfbd0.mp4\n",
            "Moved unique file: duplicates/a30c6dc2c66472a157c83009d75a0201/hd-938232524809973.mp4 -> unique_videos/a30c6dc2c66472a157c83009d75a0201.mp4\n",
            "Moved unique file: duplicates/5375ca0dc74cac35c0da0f7388ecd8f6/hd-888062106715252.mp4 -> unique_videos/5375ca0dc74cac35c0da0f7388ecd8f6.mp4\n",
            "Moved unique file: duplicates/d804202f84cf0e2041358adad728a414/hd-904815481005158.mp4 -> unique_videos/d804202f84cf0e2041358adad728a414.mp4\n",
            "Moved unique file: duplicates/2f7a6b1eb3db313ee03a9cdd9b5f612d/hd-797179088937277.mp4 -> unique_videos/2f7a6b1eb3db313ee03a9cdd9b5f612d.mp4\n",
            "Moved unique file: duplicates/6f0e6736916c01c91e9bb08f3c8ec12b/hd-6720438181324436.mp4 -> unique_videos/6f0e6736916c01c91e9bb08f3c8ec12b.mp4\n",
            "Moved unique file: duplicates/d8e384b9c5bb9e919c2a539447afa4ce/hd-8111507755613955.mp4 -> unique_videos/d8e384b9c5bb9e919c2a539447afa4ce.mp4\n",
            "Moved unique file: duplicates/37e2eb5bcd8950b70c43aa992b513f8f/hd-989654009083459.mp4 -> unique_videos/37e2eb5bcd8950b70c43aa992b513f8f.mp4\n",
            "Moved unique file: duplicates/afd36f9d4e305dc522fee08ec33f299d/hd-885670366433640.mp4 -> unique_videos/afd36f9d4e305dc522fee08ec33f299d.mp4\n",
            "Moved unique file: duplicates/f8b549c412a3b5585b5c352e708e911b/hd-689599909618915.mp4 -> unique_videos/f8b549c412a3b5585b5c352e708e911b.mp4\n",
            "Moved unique file: duplicates/3b703bfd5f4395ad8da41764beabd825/hd-1693566687752051.mp4 -> unique_videos/3b703bfd5f4395ad8da41764beabd825.mp4\n",
            "Moved unique file: duplicates/f53dba7891c00eda09c02649de831dab/hd-1119706949586170.mp4 -> unique_videos/f53dba7891c00eda09c02649de831dab.mp4\n",
            "Moved unique file: duplicates/842548910a3a35523e2d1b33def60dc5/hd-877210454387561.mp4 -> unique_videos/842548910a3a35523e2d1b33def60dc5.mp4\n",
            "Moved unique file: duplicates/31f7dbb597bccd3d34b6d9c5723fee6b/hd-904480964010630.mp4 -> unique_videos/31f7dbb597bccd3d34b6d9c5723fee6b.mp4\n",
            "Moved unique file: duplicates/cd0550c99c10cfa3e4d50752ca8df275/hd-888593019388197.mp4 -> unique_videos/cd0550c99c10cfa3e4d50752ca8df275.mp4\n",
            "Moved unique file: duplicates/06ca799d48ae36a9531806afdca88413/hd-871981848375866.mp4 -> unique_videos/06ca799d48ae36a9531806afdca88413.mp4\n",
            "Moved unique file: duplicates/4a5aadc666abae4b9b0b80a0ad2f9865/hd-906506897404894.mp4 -> unique_videos/4a5aadc666abae4b9b0b80a0ad2f9865.mp4\n",
            "Moved unique file: duplicates/ff3dd0f222e0b504b36c856d307b082f/hd-603099807587246.mp4 -> unique_videos/ff3dd0f222e0b504b36c856d307b082f.mp4\n",
            "Moved unique file: duplicates/ad1f9800f36fac0b2ac08df0789b1f31/hd-924865635226814.mp4 -> unique_videos/ad1f9800f36fac0b2ac08df0789b1f31.mp4\n",
            "Moved unique file: duplicates/27c17d1425d8353cb99b891ee378aaa2/hd-7995631707140182.mp4 -> unique_videos/27c17d1425d8353cb99b891ee378aaa2.mp4\n",
            "Moved unique file: duplicates/843ba180c880ce8eb857d34a82b9d7a4/hd-879631723735807.mp4 -> unique_videos/843ba180c880ce8eb857d34a82b9d7a4.mp4\n",
            "Moved unique file: duplicates/aae05ed03e2f6ea3cdb2792e8978d763/hd-8796411607036992.mp4 -> unique_videos/aae05ed03e2f6ea3cdb2792e8978d763.mp4\n",
            "Moved unique file: duplicates/1f1d3cc657bb2b6dec1e41b5741e1f09/hd-873317140849832.mp4 -> unique_videos/1f1d3cc657bb2b6dec1e41b5741e1f09.mp4\n",
            "Moved unique file: duplicates/3d390df5d70309227d28ac91e3357be3/hd-903913985069116.mp4 -> unique_videos/3d390df5d70309227d28ac91e3357be3.mp4\n",
            "Moved unique file: duplicates/6a93d65eeaab2d86f1732287be95ea7e/hd-939795907980426.mp4 -> unique_videos/6a93d65eeaab2d86f1732287be95ea7e.mp4\n",
            "Moved unique file: duplicates/7ed5b587b29059486f58041fc2c3ca17/hd-902456848100089.mp4 -> unique_videos/7ed5b587b29059486f58041fc2c3ca17.mp4\n",
            "Moved unique file: duplicates/85864627c2342b749f422d188fa19f98/hd-989969399547901.mp4 -> unique_videos/85864627c2342b749f422d188fa19f98.mp4\n",
            "Moved unique file: duplicates/4f527fa5729695792aa8fc4a53f95a22/hd-942779243913664.mp4 -> unique_videos/4f527fa5729695792aa8fc4a53f95a22.mp4\n",
            "Moved unique file: duplicates/58967db3c17d5b7fd36b2c3ed4b0225b/hd-951885082053340.mp4 -> unique_videos/58967db3c17d5b7fd36b2c3ed4b0225b.mp4\n",
            "Moved unique file: duplicates/2a2e503c7a4445c04c91790ffeca8d96/hd-960884234555681.mp4 -> unique_videos/2a2e503c7a4445c04c91790ffeca8d96.mp4\n",
            "Moved unique file: duplicates/367638e8cafbd7f1ff7e41b340924e49/hd-429145826826558.mp4 -> unique_videos/367638e8cafbd7f1ff7e41b340924e49.mp4\n",
            "Moved unique file: duplicates/828de100ddeffb87385f6adbfa8c25b8/hd-905739711170399.mp4 -> unique_videos/828de100ddeffb87385f6adbfa8c25b8.mp4\n",
            "Moved unique file: duplicates/4573a7486a7ae43385d01309a7ef4380/hd-983335896508749.mp4 -> unique_videos/4573a7486a7ae43385d01309a7ef4380.mp4\n",
            "Moved unique file: duplicates/9391e2edd5ac0a4ce73889dffcf6c326/hd-987643572956494.mp4 -> unique_videos/9391e2edd5ac0a4ce73889dffcf6c326.mp4\n",
            "Moved unique file: duplicates/09bb89423fc0fc327c8e43e40e94bdec/hd-8100667816697710.mp4 -> unique_videos/09bb89423fc0fc327c8e43e40e94bdec.mp4\n",
            "Moved unique file: duplicates/b7eb1c03591063a8eba3409829d08381/hd-882019143545185.mp4 -> unique_videos/b7eb1c03591063a8eba3409829d08381.mp4\n",
            "Moved unique file: duplicates/2992d6bdeca59b85e54e32b0a4146631/hd-929511878466995.mp4 -> unique_videos/2992d6bdeca59b85e54e32b0a4146631.mp4\n",
            "Moved unique file: duplicates/07442c85ffbd70b4714b8955949b19b9/hd-1698824364241828.mp4 -> unique_videos/07442c85ffbd70b4714b8955949b19b9.mp4\n",
            "Moved unique file: duplicates/bf2f6e0c1e6c758796ccab2e5546c383/hd-424802420355057.mp4 -> unique_videos/bf2f6e0c1e6c758796ccab2e5546c383.mp4\n",
            "Moved unique file: duplicates/ba2ee1ee73c5a33672fa4a0d853a8190/hd-874543520932484.mp4 -> unique_videos/ba2ee1ee73c5a33672fa4a0d853a8190.mp4\n",
            "Moved unique file: duplicates/d493c65f52df3f52a2545fee044a1751/hd-889728479746704.mp4 -> unique_videos/d493c65f52df3f52a2545fee044a1751.mp4\n"
          ]
        }
      ]
    },
    {
      "cell_type": "code",
      "source": [
        "import os\n",
        "import torch\n",
        "import numpy as np\n",
        "import cv2\n",
        "import face_recognition\n",
        "from typing import List, Dict, Tuple\n",
        "from tqdm import tqdm\n",
        "import shutil\n",
        "import torch.nn.functional as F\n",
        "from scipy.spatial.distance import cdist\n",
        "\n",
        "class GPUVideoPersonTracker:\n",
        "    def __init__(self, input_dir: str, output_dir: str,\n",
        "                 similarity_threshold: float = 0.5,\n",
        "                 max_frames_per_video: int = 20):\n",
        "        \"\"\"\n",
        "        Initialize GPU-accelerated video person tracking system\n",
        "\n",
        "        Args:\n",
        "            input_dir (str): Directory containing input videos\n",
        "            output_dir (str): Directory to store grouped videos\n",
        "            similarity_threshold (float): Face similarity threshold for grouping\n",
        "            max_frames_per_video (int): Maximum frames to process per video\n",
        "        \"\"\"\n",
        "        self.input_dir = input_dir\n",
        "        self.output_dir = output_dir\n",
        "        self.similarity_threshold = similarity_threshold\n",
        "        self.max_frames_per_video = max_frames_per_video\n",
        "\n",
        "        # Advanced GPU configuration\n",
        "        self.device = self._configure_gpu()\n",
        "\n",
        "    def _configure_gpu(self):\n",
        "        \"\"\"\n",
        "        Configure optimal GPU device\n",
        "\n",
        "        Returns:\n",
        "            torch.device: Selected GPU or CPU device\n",
        "        \"\"\"\n",
        "        if torch.cuda.is_available():\n",
        "            # Select GPU with most available memory\n",
        "            device = torch.device('cuda')\n",
        "\n",
        "            # Print detailed GPU information\n",
        "            print(f\"Selected GPU: {torch.cuda.get_device_name(device)}\")\n",
        "            print(f\"GPU Memory: {torch.cuda.get_device_properties(device).total_memory / 1e9:.2f} GB\")\n",
        "\n",
        "            return device\n",
        "        else:\n",
        "            print(\"No GPU available. Falling back to CPU.\")\n",
        "            return torch.device('cpu')\n",
        "\n",
        "    def extract_faces_with_tracking(self, video_path: str) -> List[Dict]:\n",
        "        \"\"\"\n",
        "        Extract faces with advanced tracking and prominence detection\n",
        "\n",
        "        Args:\n",
        "            video_path (str): Path to the video file\n",
        "\n",
        "        Returns:\n",
        "            List of face tracking information\n",
        "        \"\"\"\n",
        "        video = cv2.VideoCapture(video_path)\n",
        "        tracked_faces = []\n",
        "        frame_count = 0\n",
        "\n",
        "        # Multi-frame face tracking variables\n",
        "        prev_faces = []\n",
        "\n",
        "        while video.isOpened() and frame_count < self.max_frames_per_video:\n",
        "            ret, frame = video.read()\n",
        "            if not ret:\n",
        "                break\n",
        "\n",
        "            # Face detection with confidence\n",
        "            face_locations = face_recognition.face_locations(frame, model=\"cnn\")\n",
        "            face_encodings = face_recognition.face_encodings(frame, face_locations)\n",
        "\n",
        "            current_faces = []\n",
        "            for (top, right, bottom, left), encoding in zip(face_locations, face_encodings):\n",
        "                # Calculate face metrics\n",
        "                face_area = (bottom - top) * (right - left)\n",
        "                frame_height, frame_width = frame.shape[:2]\n",
        "\n",
        "                # Compute centrality and prominence\n",
        "                face_center_x = (left + right) / 2\n",
        "                face_center_y = (top + bottom) / 2\n",
        "                center_distance = np.sqrt(\n",
        "                    ((face_center_x - frame_width/2) ** 2) +\n",
        "                    ((face_center_y - frame_height/2) ** 2)\n",
        "                )\n",
        "\n",
        "                # Prominence score calculation\n",
        "                prominence_score = face_area / (center_distance + 1)\n",
        "\n",
        "                # Face tracking: match with previous frames\n",
        "                matched_prev_face = None\n",
        "                if prev_faces:\n",
        "                    # Compute distances to previous faces\n",
        "                    prev_encodings = [face['encoding'] for face in prev_faces]\n",
        "                    distances = face_recognition.face_distance(prev_encodings, encoding)\n",
        "\n",
        "                    # Find closest previous face\n",
        "                    min_distance_idx = np.argmin(distances)\n",
        "                    if distances[min_distance_idx] < self.similarity_threshold:\n",
        "                        matched_prev_face = prev_faces[min_distance_idx]\n",
        "\n",
        "                face_info = {\n",
        "                    'encoding': encoding,\n",
        "                    'location': (top, right, bottom, left),\n",
        "                    'prominence_score': prominence_score,\n",
        "                    'frame_number': frame_count,\n",
        "                    'tracked_id': matched_prev_face['tracked_id'] if matched_prev_face else len(tracked_faces)\n",
        "                }\n",
        "\n",
        "                current_faces.append(face_info)\n",
        "                tracked_faces.append(face_info)\n",
        "\n",
        "            # Update previous faces for next iteration\n",
        "            prev_faces = current_faces\n",
        "            frame_count += 1\n",
        "\n",
        "        video.release()\n",
        "        return tracked_faces\n",
        "\n",
        "    def group_videos_by_persons(self):\n",
        "        \"\"\"\n",
        "        Group videos based on tracked face similarities\n",
        "\n",
        "        Returns:\n",
        "            Dictionary of video groups\n",
        "        \"\"\"\n",
        "        video_groups = {}\n",
        "        video_files = [f for f in os.listdir(self.input_dir) if f.endswith(('.mp4', '.avi', '.mov'))]\n",
        "\n",
        "        for video_filename in tqdm(video_files, desc=\"Processing Videos\"):\n",
        "            video_path = os.path.join(self.input_dir, video_filename)\n",
        "            video_faces = self.extract_faces_with_tracking(video_path)\n",
        "\n",
        "            if not video_faces:\n",
        "                continue\n",
        "\n",
        "            # Use most prominent face for group matching\n",
        "            most_prominent_faces = sorted(video_faces, key=lambda x: x['prominence_score'], reverse=True)[:3]\n",
        "\n",
        "            matched_group = None\n",
        "            min_distance = float('inf')\n",
        "\n",
        "            for group_id, group_videos in video_groups.items():\n",
        "                group_faces = []\n",
        "                for group_video in group_videos:\n",
        "                    group_video_faces = self.extract_faces_with_tracking(os.path.join(self.input_dir, group_video))\n",
        "                    group_faces.extend(group_video_faces)\n",
        "\n",
        "                # Compare multiple prominent faces\n",
        "                for prominent_face in most_prominent_faces:\n",
        "                    if group_faces:\n",
        "                        group_encodings = [face['encoding'] for face in group_faces]\n",
        "                        distances = face_recognition.face_distance(group_encodings, prominent_face['encoding'])\n",
        "\n",
        "                        min_group_distance = min(distances)\n",
        "\n",
        "                        if min_group_distance < self.similarity_threshold and min_group_distance < min_distance:\n",
        "                            matched_group = group_id\n",
        "                            min_distance = min_group_distance\n",
        "\n",
        "            # Add to group\n",
        "            if matched_group is not None:\n",
        "                video_groups[matched_group].append(video_filename)\n",
        "            else:\n",
        "                new_group_id = len(video_groups)\n",
        "                video_groups[new_group_id] = [video_filename]\n",
        "\n",
        "        return video_groups\n",
        "\n",
        "    def save_representative_faces(self, video_groups: Dict[int, List[str]]):\n",
        "        \"\"\"\n",
        "        Advanced representative face extraction and saving\n",
        "\n",
        "        Args:\n",
        "            video_groups (Dict): Grouped videos dictionary\n",
        "        \"\"\"\n",
        "        for group_id, videos in video_groups.items():\n",
        "            group_dir = os.path.join(self.output_dir, f'group_{group_id}')\n",
        "            os.makedirs(group_dir, exist_ok=True)\n",
        "\n",
        "            representative_faces = []\n",
        "\n",
        "            # Collect faces from all videos in the group\n",
        "            for video_filename in videos:\n",
        "                video_path = os.path.join(self.input_dir, video_filename)\n",
        "                video = cv2.VideoCapture(video_path)\n",
        "\n",
        "                while video.isOpened():\n",
        "                    ret, frame = video.read()\n",
        "                    if not ret:\n",
        "                        break\n",
        "\n",
        "                    # Detect faces\n",
        "                    face_locations = face_recognition.face_locations(frame, model=\"cnn\")\n",
        "                    face_encodings = face_recognition.face_encodings(frame, face_locations)\n",
        "\n",
        "                    for (top, right, bottom, left), encoding in zip(face_locations, face_encodings):\n",
        "                        # Extract face image\n",
        "                        face_image = frame[top:bottom, left:right]\n",
        "\n",
        "                        # Calculate face metrics\n",
        "                        face_area = (bottom - top) * (right - left)\n",
        "                        frame_height, frame_width = frame.shape[:2]\n",
        "\n",
        "                        # Compute centrality\n",
        "                        face_center_x = (left + right) / 2\n",
        "                        face_center_y = (top + bottom) / 2\n",
        "                        center_distance = np.sqrt(\n",
        "                            ((face_center_x - frame_width/2) ** 2) +\n",
        "                            ((face_center_y - frame_height/2) ** 2)\n",
        "                        )\n",
        "\n",
        "                        # Prominence score\n",
        "                        prominence_score = face_area / (center_distance + 1)\n",
        "\n",
        "                        representative_faces.append({\n",
        "                            'image': face_image,\n",
        "                            'encoding': encoding,\n",
        "                            'prominence_score': prominence_score\n",
        "                        })\n",
        "\n",
        "                video.release()\n",
        "\n",
        "            # Advanced face selection\n",
        "            if representative_faces:\n",
        "                # Sort faces by multiple criteria\n",
        "                sorted_faces = sorted(\n",
        "                    representative_faces,\n",
        "                    key=lambda x: (\n",
        "                        x['prominence_score'],  # Primary: Prominence\n",
        "                        -np.mean(face_recognition.face_distance(\n",
        "                            [f['encoding'] for f in representative_faces],\n",
        "                            x['encoding']\n",
        "                        ))  # Secondary: Representativeness\n",
        "                    ),\n",
        "                    reverse=True\n",
        "                )\n",
        "\n",
        "\n",
        "                cv2.imwrite(\n",
        "                    os.path.join(group_dir, f'representative_face_1.jpg'),\n",
        "                    sorted_faces[0]['image']\n",
        "                )\n",
        "\n",
        "    def run(self):\n",
        "        \"\"\"\n",
        "        Execute the entire video person tracking and grouping process\n",
        "        \"\"\"\n",
        "        # Group videos\n",
        "        video_groups = self.group_videos_by_persons()\n",
        "\n",
        "        # Create output directories and copy videos\n",
        "        for group_id, videos in video_groups.items():\n",
        "            group_dir = os.path.join(self.output_dir, f'group_{group_id}')\n",
        "            os.makedirs(group_dir, exist_ok=True)\n",
        "\n",
        "            for video_filename in videos:\n",
        "                src_path = os.path.join(self.input_dir, video_filename)\n",
        "                dst_path = os.path.join(group_dir, video_filename)\n",
        "                shutil.copy2(src_path, dst_path)\n",
        "\n",
        "            print(f\"Group {group_id}: {len(videos)} videos\")\n",
        "\n",
        "        # Save representative faces\n",
        "        self.save_representative_faces(video_groups)\n",
        "\n",
        "# Example usage\n",
        "if __name__ == \"__main__\":\n",
        "    input_directory = \"main_directory\"\n",
        "    output_directory = \"grouped_videos\"\n",
        "\n",
        "    tracker = GPUVideoPersonTracker(input_directory, output_directory)\n",
        "    tracker.run()"
      ],
      "metadata": {
        "colab": {
          "base_uri": "https://localhost:8080/"
        },
        "id": "tPVPhyNneM6l",
        "outputId": "ee5b0379-baf7-41a4-aeba-a2425e1be661"
      },
      "execution_count": 13,
      "outputs": [
        {
          "output_type": "stream",
          "name": "stdout",
          "text": [
            "Selected GPU: Tesla T4\n",
            "GPU Memory: 15.84 GB\n"
          ]
        },
        {
          "output_type": "stream",
          "name": "stderr",
          "text": [
            "Processing Videos: 100%|██████████| 75/75 [15:20<00:00, 12.28s/it]\n"
          ]
        },
        {
          "output_type": "stream",
          "name": "stdout",
          "text": [
            "Group 0: 1 videos\n",
            "Group 1: 2 videos\n",
            "Group 2: 1 videos\n",
            "Group 3: 1 videos\n",
            "Group 4: 1 videos\n",
            "Group 5: 3 videos\n",
            "Group 6: 1 videos\n",
            "Group 7: 2 videos\n",
            "Group 8: 1 videos\n",
            "Group 9: 2 videos\n",
            "Group 10: 3 videos\n",
            "Group 11: 2 videos\n",
            "Group 12: 1 videos\n",
            "Group 13: 1 videos\n",
            "Group 14: 1 videos\n",
            "Group 15: 1 videos\n",
            "Group 16: 1 videos\n"
          ]
        }
      ]
    },
    {
      "cell_type": "code",
      "source": [
        "import pandas as pd\n",
        "import numpy as np\n",
        "import os\n",
        "from openpyxl import Workbook\n",
        "from openpyxl.utils.dataframe import dataframe_to_rows\n",
        "from openpyxl.drawing.image import Image as ExcelImage\n",
        "\n",
        "def process_video_groups(performance_file, output_dir, output_excel):\n",
        "    # Read performance data\n",
        "    df = pd.read_csv(performance_file)\n",
        "\n",
        "    # Prepare a dictionary to store group mapping\n",
        "    group_mapping = {}\n",
        "\n",
        "    # Scan group directories in output_dir\n",
        "    for group_dir in os.listdir(output_dir):\n",
        "        if group_dir.startswith('group_'):\n",
        "            group_id = group_dir.split('_')[1]\n",
        "            group_videos = os.listdir(os.path.join(output_dir, group_dir))\n",
        "\n",
        "            # Find video files and representative image\n",
        "            video_files = [f for f in group_videos if f.endswith('.mp4')]\n",
        "            rep_image = [f for f in group_videos if f == 'representative_face.jpg']\n",
        "            rep_image_path = os.path.join(output_dir, group_dir, rep_image[0]) if rep_image else None\n",
        "\n",
        "            # Map hash values to group\n",
        "            for video in video_files:\n",
        "                hash_value = video.split('.')[0]\n",
        "                group_mapping[hash_value] = {\n",
        "                    'Group ID': group_id,\n",
        "                    'Representative Image': rep_image_path\n",
        "                }\n",
        "\n",
        "    # Add group information to performance dataframe\n",
        "    df['Group ID'] = df['Hash'].map(lambda x: group_mapping.get(x, {}).get('Group ID', 'Ungrouped'))\n",
        "    df['Representative Image'] = df['Hash'].map(lambda x: group_mapping.get(x, {}).get('Representative Image', ''))\n",
        "\n",
        "    # Calculate Total Performance Value\n",
        "    df['Total_Performance'] = df['Avg_Performance'] * df['Frequency']\n",
        "\n",
        "    # Group by Group ID and aggregate\n",
        "    grouped_df = df.groupby('Group ID').agg({\n",
        "        'Hash': lambda x: \", \".join(x),  # Combine all hashes in the group\n",
        "        'Avg_Performance': lambda x: np.average(x, weights=df.loc[x.index, 'Frequency']),\n",
        "        'Total_Performance': 'sum',  # Sum of Total Performance\n",
        "        'Frequency': 'sum',  # Total frequency of the group\n",
        "        'Representative Image': 'first'  # Take the first representative image\n",
        "    }).reset_index()\n",
        "\n",
        "    # Rename columns for clarity\n",
        "    grouped_df.columns = ['Group ID', 'Hashes', 'Weighted Avg Performance', 'Total Performance', 'Total Frequency', 'Representative Image']\n",
        "\n",
        "    # Sort by Total Performance descending\n",
        "    grouped_df = grouped_df.sort_values('Total Performance', ascending=False)\n",
        "\n",
        "    # Save to Excel with images\n",
        "    save_to_excel_with_images(grouped_df, output_excel)\n",
        "\n",
        "    print(grouped_df)\n",
        "    return grouped_df\n",
        "\n",
        "\n",
        "def save_to_excel_with_images(grouped_df, output_excel):\n",
        "    # Initialize Excel workbook\n",
        "    workbook = Workbook()\n",
        "    sheet = workbook.active\n",
        "    sheet.title = \"Group Summary\"\n",
        "\n",
        "    # Add headers\n",
        "    headers = [\"Group ID\", \"Hashes\", \"Weighted Avg Performance\", \"Total Performance\", \"Total Frequency\", \"Representative Image\"]\n",
        "    sheet.append(headers)\n",
        "\n",
        "    # Write data rows\n",
        "    for _, row in grouped_df.iterrows():\n",
        "        # Append row data (excluding the image path for now)\n",
        "        sheet.append([row[\"Group ID\"], row[\"Hashes\"], row[\"Weighted Avg Performance\"], row[\"Total Performance\"], row[\"Total Frequency\"], \"\"])\n",
        "\n",
        "        # Embed representative image if it exists\n",
        "        if os.path.exists(row[\"Representative Image\"]):\n",
        "            img = ExcelImage(row[\"Representative Image\"])\n",
        "            img.height = 100  # Adjust the image size\n",
        "            img.width = 100\n",
        "            img_cell = f\"F{sheet.max_row}\"  # Assume image goes to the last row in column F\n",
        "            sheet.add_image(img, img_cell)\n",
        "\n",
        "    # Save the workbook\n",
        "    workbook.save(output_excel)\n",
        "    print(f\"Excel file with images saved at: {output_excel}\")\n",
        "\n",
        "\n",
        "# Usage example\n",
        "process_video_groups('Hash_Performance_Statistics.csv', 'grouped_videos', 'video_group_performance_with_images_v1.xlsx')\n"
      ],
      "metadata": {
        "id": "Jahe-Xpm3nVy"
      },
      "execution_count": null,
      "outputs": []
    },
    {
      "cell_type": "code",
      "source": [
        "import pandas as pd\n",
        "import sqlite3\n",
        "\n",
        "def save_excel_to_sqlite(excel_file, db_file, table_name):\n",
        "    \"\"\"\n",
        "    Save Excel data into an SQLite database.\n",
        "\n",
        "    Args:\n",
        "        excel_file (str): Path to the Excel file.\n",
        "        db_file (str): Path to the SQLite database file.\n",
        "        table_name (str): Name of the table to store the data.\n",
        "    \"\"\"\n",
        "    # Load data from Excel file\n",
        "    df = pd.read_excel(excel_file)\n",
        "\n",
        "    # Connect to SQLite database (creates it if it doesn't exist)\n",
        "    conn = sqlite3.connect(db_file)\n",
        "    cursor = conn.cursor()\n",
        "\n",
        "    # Save dataframe to the database\n",
        "    df.to_sql(table_name, conn, if_exists='replace', index=False)\n",
        "\n",
        "    # Commit changes and close connection\n",
        "    conn.commit()\n",
        "    conn.close()\n",
        "    print(f\"Data from {excel_file} saved to {db_file} in table '{table_name}'.\")\n",
        "\n",
        "# Usage example\n",
        "save_excel_to_sqlite('video_group_performance_with_images.xlsx', 'video_groups.db', 'group_summary')\n"
      ],
      "metadata": {
        "id": "CBqRypYsjMVF"
      },
      "execution_count": null,
      "outputs": []
    }
  ],
  "metadata": {
    "accelerator": "GPU",
    "colab": {
      "gpuType": "T4",
      "provenance": []
    },
    "kernelspec": {
      "display_name": "Python 3",
      "name": "python3"
    },
    "language_info": {
      "name": "python"
    }
  },
  "nbformat": 4,
  "nbformat_minor": 0
}